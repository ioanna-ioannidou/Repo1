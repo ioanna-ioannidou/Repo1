{
 "cells": [
  {
   "cell_type": "markdown",
   "id": "324b6eef",
   "metadata": {
    "deletable": false
   },
   "source": [
    "# [Introduction to Data Science](http://datascience-intro.github.io/1MS041-2024/)    \n",
    "## 1MS041, 2024 \n",
    "&copy;2024 Raazesh Sainudiin, Benny Avelin. [Attribution 4.0 International     (CC BY 4.0)](https://creativecommons.org/licenses/by/4.0/)"
   ]
  },
  {
   "cell_type": "markdown",
   "id": "f640a563",
   "metadata": {},
   "source": [
    "## Second notebook on Random variables\n",
    "\n",
    "Lets take a look again at the spam dataset and look at our concepts there"
   ]
  },
  {
   "cell_type": "code",
   "execution_count": 1,
   "id": "46083ad3",
   "metadata": {},
   "outputs": [
    {
     "ename": "ModuleNotFoundError",
     "evalue": "No module named 'Utils'",
     "output_type": "error",
     "traceback": [
      "\u001b[0;31m---------------------------------------------------------------------------\u001b[0m",
      "\u001b[0;31mModuleNotFoundError\u001b[0m                       Traceback (most recent call last)",
      "Cell \u001b[0;32mIn[1], line 1\u001b[0m\n\u001b[0;32m----> 1\u001b[0m \u001b[38;5;28;01mfrom\u001b[39;00m \u001b[38;5;21;01mUtils\u001b[39;00m \u001b[38;5;28;01mimport\u001b[39;00m load_sms\n\u001b[1;32m      2\u001b[0m sms_data \u001b[38;5;241m=\u001b[39m load_sms()\n\u001b[1;32m      3\u001b[0m sms_data[:\u001b[38;5;241m2\u001b[39m]\n",
      "\u001b[0;31mModuleNotFoundError\u001b[0m: No module named 'Utils'"
     ]
    }
   ],
   "source": [
    "from Utils import load_sms\n",
    "sms_data = load_sms()\n",
    "sms_data[:2]"
   ]
  },
  {
   "cell_type": "markdown",
   "id": "bb119585",
   "metadata": {},
   "source": [
    "Let X represents each SMS text (an entry in the list), and let $Y$ represent whether text is spam or not i.e. $Y \\in \\{0,1\\}$. Thus $\\mathbb{P}(Y = 1)$ is the probability that we get a spam. The goal is to estimate:\n",
    "$$\n",
    "    \\mathbb{P}(Y = 1 | \\text{\"free\" or \"prize\" is in } X) \\enspace .\n",
    "$$\n",
    "That is, the probability that the SMS is spam given that \"free\" or \"prize\" occurs in the SMS. \n",
    "Hint: it is good to remove the upper/lower case of words so that we can also find \"Free\" and \"Prize\"; this can be done with `text.lower()` if `text` a string.\n",
    "\n",
    "To do this we can create a new random variable $Z$ which is $1$ if \"free\" or \"prize\" appears in $X$."
   ]
  },
  {
   "cell_type": "code",
   "execution_count": 3,
   "id": "074bd546",
   "metadata": {},
   "outputs": [],
   "source": [
    "interesting_words=set(['free','prize'])\n",
    "TF10 = {True: 1, False: 0}\n",
    "Z_obs = [TF10[not interesting_words.isdisjoint([word.lower() for word in line[0].split(' ')])] for line in sms_data]"
   ]
  },
  {
   "cell_type": "code",
   "execution_count": 4,
   "id": "2d83f9a2",
   "metadata": {},
   "outputs": [
    {
     "data": {
      "text/plain": [
       "[0, 0, 1, 0, 0, 0, 0, 0, 1, 1]"
      ]
     },
     "execution_count": 4,
     "metadata": {},
     "output_type": "execute_result"
    }
   ],
   "source": [
    "Z_obs[:10]"
   ]
  },
  {
   "cell_type": "code",
   "execution_count": 5,
   "id": "3bb642e5",
   "metadata": {},
   "outputs": [
    {
     "data": {
      "text/plain": [
       "[0, 0, 1, 0, 0, 1, 0, 0, 1, 1]"
      ]
     },
     "execution_count": 5,
     "metadata": {},
     "output_type": "execute_result"
    }
   ],
   "source": [
    "Y_obs = [y for x,y in sms_data]\n",
    "Y_obs[:10]"
   ]
  },
  {
   "cell_type": "code",
   "execution_count": 6,
   "id": "40e64960",
   "metadata": {},
   "outputs": [],
   "source": [
    "import numpy as np\n",
    "def F_X_12(x):\n",
    "    TF10 = {True: 1, False: 0}\n",
    "    return np.mean([TF10[(y <= x[0]) and (z <= x[1])] for y,z in zip (Y_obs,Z_obs)])"
   ]
  },
  {
   "cell_type": "code",
   "execution_count": 10,
   "id": "e6f92c71",
   "metadata": {},
   "outputs": [
    {
     "data": {
      "text/plain": [
       "0.9551328068916008"
      ]
     },
     "execution_count": 10,
     "metadata": {},
     "output_type": "execute_result"
    }
   ],
   "source": [
    "F_X_12([1,0])"
   ]
  },
  {
   "cell_type": "markdown",
   "id": "408ae961",
   "metadata": {},
   "source": [
    "This is the JDF for this problem"
   ]
  },
  {
   "cell_type": "code",
   "execution_count": 14,
   "id": "b856ee1e",
   "metadata": {},
   "outputs": [
    {
     "name": "stdout",
     "output_type": "stream",
     "text": [
      "\tz <= 0 \t\tz <= 1\n",
      "y <= 0 \t0.86\t\t0.87\t\t\n",
      "\n",
      "y <= 1 \t0.96\t\t1.00\t\t\n",
      "\n"
     ]
    }
   ],
   "source": [
    "print(\"\\tz <= 0 \\t\\tz <= 1\")\n",
    "for x1 in range(0,2):\n",
    "    print(\"y <= %d \\t\" % x1,end='')\n",
    "    for x2 in range(0,2):\n",
    "        print(\"%.2f\" % (F_X_12((x1,x2))),end='\\t\\t')\n",
    "    print('\\n')"
   ]
  },
  {
   "cell_type": "code",
   "execution_count": null,
   "id": "2f9f28e4",
   "metadata": {},
   "outputs": [],
   "source": [
    "F_X_12((1,0))"
   ]
  },
  {
   "cell_type": "code",
   "execution_count": 15,
   "id": "0992b566",
   "metadata": {},
   "outputs": [
    {
     "data": {
      "text/plain": [
       "False"
      ]
     },
     "execution_count": 15,
     "metadata": {},
     "output_type": "execute_result"
    }
   ],
   "source": [
    "F_X_12((0,0)) == F_X_12((0,1))*F_X_12((1,0))"
   ]
  },
  {
   "cell_type": "code",
   "execution_count": 16,
   "id": "236c531b",
   "metadata": {},
   "outputs": [
    {
     "data": {
      "text/plain": [
       "0.8270846721557743"
      ]
     },
     "execution_count": 16,
     "metadata": {},
     "output_type": "execute_result"
    }
   ],
   "source": [
    "F_X_12((0,1))*F_X_12((1,0))"
   ]
  },
  {
   "cell_type": "code",
   "execution_count": null,
   "id": "d6246c1e",
   "metadata": {},
   "outputs": [],
   "source": [
    "# Are they indepdentent? If so, then the JDF is just the product of the \n",
    "# DFs for Y and Z, but\n",
    "0.865936826992103*0.955132806891601"
   ]
  },
  {
   "cell_type": "markdown",
   "id": "d942a608",
   "metadata": {},
   "source": [
    "Which is not 0.858, so they are not independent. So lets try to estimate the probability that $Y=1$ given that $Z = 1$. Lets again do that by filtering"
   ]
  },
  {
   "cell_type": "code",
   "execution_count": null,
   "id": "98afc79d",
   "metadata": {},
   "outputs": [],
   "source": [
    "np.mean([y for z,y in zip(Z_obs,Y_obs) if z == 1])"
   ]
  },
  {
   "cell_type": "markdown",
   "id": "79731699",
   "metadata": {},
   "source": [
    "Compare that with the marginal probability of $Y = 1$, which is according to our JDF 1-0.866 = 0.134"
   ]
  },
  {
   "cell_type": "code",
   "execution_count": null,
   "id": "7fb6c482",
   "metadata": {},
   "outputs": [],
   "source": [
    "# Or we can just compute it directly\n",
    "np.mean(Y_obs)"
   ]
  },
  {
   "cell_type": "markdown",
   "id": "1b5364a7",
   "metadata": {},
   "source": [
    "What we see from this is that knowing that the words \"free\" or \"prize\" appeared in the sms text, we are much more certain that it is a spam. We also see that looking directly at the JDF this can be hard to see, although it is equivalent."
   ]
  },
  {
   "cell_type": "code",
   "execution_count": 17,
   "id": "db2e426e",
   "metadata": {},
   "outputs": [],
   "source": [
    "x = np.random.normal(size=100)"
   ]
  },
  {
   "cell_type": "code",
   "execution_count": 18,
   "id": "fd306dd2",
   "metadata": {},
   "outputs": [
    {
     "data": {
      "text/plain": [
       "-0.08265975892373005"
      ]
     },
     "execution_count": 18,
     "metadata": {},
     "output_type": "execute_result"
    }
   ],
   "source": [
    "np.mean(x)"
   ]
  },
  {
   "cell_type": "code",
   "execution_count": 19,
   "id": "72f9425b",
   "metadata": {},
   "outputs": [],
   "source": [
    "g = lambda x: x**2"
   ]
  },
  {
   "cell_type": "code",
   "execution_count": 23,
   "id": "7433a956",
   "metadata": {},
   "outputs": [
    {
     "data": {
      "text/plain": [
       "3.588674726116084"
      ]
     },
     "execution_count": 23,
     "metadata": {},
     "output_type": "execute_result"
    }
   ],
   "source": [
    "mean = np.mean(x)\n",
    "y = x-mean\n",
    "np.mean(y**4)"
   ]
  },
  {
   "cell_type": "markdown",
   "id": "c2ca6946",
   "metadata": {},
   "source": [
    "## Moments etc"
   ]
  },
  {
   "cell_type": "code",
   "execution_count": 1,
   "id": "9cd452b7",
   "metadata": {},
   "outputs": [],
   "source": [
    "import numpy as np\n",
    "x = np.random.normal(size=100)"
   ]
  },
  {
   "cell_type": "code",
   "execution_count": 2,
   "id": "58e096b6",
   "metadata": {
    "scrolled": true
   },
   "outputs": [
    {
     "data": {
      "text/plain": [
       "array([ 8.33273507e-01,  2.07097640e+00, -9.44836239e-01,  7.88673132e-02,\n",
       "       -6.17812086e-01, -6.34155265e-02, -4.69345923e-01,  1.36418134e+00,\n",
       "        1.67699749e+00, -9.11865333e-01,  5.59747946e-01,  5.33849609e-01,\n",
       "        1.65807666e+00, -6.28011913e-01, -6.54122161e-02,  1.05660433e+00,\n",
       "        1.31316847e+00,  1.07607729e+00, -9.83020253e-01,  8.36646328e-01,\n",
       "        9.67267242e-01, -2.82512670e-01, -2.43409794e-01, -1.21920368e+00,\n",
       "       -1.93735577e+00, -4.42848063e-01,  2.96303400e-02,  1.03253210e+00,\n",
       "        1.73435275e+00,  7.29941328e-01,  3.48161801e-01, -9.71118208e-01,\n",
       "       -7.33683519e-01, -3.37556859e-01, -4.99894168e-01, -6.45005766e-01,\n",
       "        1.96438015e+00, -3.04296243e-01, -8.27489786e-01,  1.34164218e+00,\n",
       "        1.50951879e-01, -4.04284103e-01, -4.02679056e-01,  1.43020500e+00,\n",
       "        4.43830226e-01, -5.86659851e-01, -1.27791389e+00,  2.10215711e-02,\n",
       "        1.05397802e-01,  6.33704492e-01, -8.51476430e-01,  2.18143047e+00,\n",
       "       -1.23119178e+00,  8.29539305e-02, -4.73079928e-02,  8.71073722e-01,\n",
       "       -9.66511484e-01, -4.68446211e-02, -1.07647967e-01,  1.68826184e+00,\n",
       "       -9.92854249e-01, -6.96819617e-01,  1.19286634e+00,  2.90139155e-02,\n",
       "        1.52184150e+00, -9.09214790e-01,  7.30445506e-01, -1.04675062e+00,\n",
       "       -1.65127813e-02,  1.32918074e-01, -7.29337777e-02,  4.44350704e-01,\n",
       "        1.15252187e+00,  1.35866020e-01,  1.13204851e+00,  4.32175179e-01,\n",
       "       -3.40714559e-01, -9.24044590e-01,  2.36980848e-01, -6.00553124e-01,\n",
       "       -1.66864573e+00,  8.18709283e-01,  1.62496886e-01, -2.43438600e+00,\n",
       "       -8.00186475e-01, -1.50164848e+00, -9.83870948e-01, -1.61275963e+00,\n",
       "        1.69956267e+00,  7.14051513e-01, -2.41883484e-01,  3.82466966e-01,\n",
       "        3.05771141e-01,  4.51260454e-02, -1.47027947e+00,  8.36299659e-01,\n",
       "        1.74078823e-03,  9.54474867e-01,  5.21443211e-01, -1.09334684e+00])"
      ]
     },
     "execution_count": 2,
     "metadata": {},
     "output_type": "execute_result"
    }
   ],
   "source": [
    "x"
   ]
  },
  {
   "cell_type": "markdown",
   "id": "e49b695b",
   "metadata": {},
   "source": [
    "## Sample mean"
   ]
  },
  {
   "cell_type": "code",
   "execution_count": 3,
   "id": "efaff7e7",
   "metadata": {},
   "outputs": [
    {
     "data": {
      "text/plain": [
       "0.059403606435662"
      ]
     },
     "execution_count": 3,
     "metadata": {},
     "output_type": "execute_result"
    }
   ],
   "source": [
    "np.mean(x)"
   ]
  },
  {
   "cell_type": "markdown",
   "id": "275037fd",
   "metadata": {},
   "source": [
    "## Sample variance"
   ]
  },
  {
   "cell_type": "code",
   "execution_count": 4,
   "id": "d24101b3",
   "metadata": {},
   "outputs": [
    {
     "data": {
      "text/plain": [
       "0.9443439763062373"
      ]
     },
     "execution_count": 4,
     "metadata": {},
     "output_type": "execute_result"
    }
   ],
   "source": [
    "np.var(x)"
   ]
  },
  {
   "cell_type": "markdown",
   "id": "424d638f",
   "metadata": {},
   "source": [
    "Or by doing it yourself"
   ]
  },
  {
   "cell_type": "code",
   "execution_count": 5,
   "id": "f20cee48",
   "metadata": {},
   "outputs": [
    {
     "data": {
      "text/plain": [
       "0.9443439763062373"
      ]
     },
     "execution_count": 5,
     "metadata": {},
     "output_type": "execute_result"
    }
   ],
   "source": [
    "mu = np.mean(x)\n",
    "np.mean(np.power(x-mu,2))"
   ]
  },
  {
   "cell_type": "markdown",
   "id": "1bf37cf3",
   "metadata": {},
   "source": [
    "Higher moments, we can use `scipy`"
   ]
  },
  {
   "cell_type": "code",
   "execution_count": 6,
   "id": "6913e441",
   "metadata": {},
   "outputs": [],
   "source": [
    "from scipy.stats import skew, kurtosis"
   ]
  },
  {
   "cell_type": "code",
   "execution_count": 7,
   "id": "42e817e1",
   "metadata": {},
   "outputs": [
    {
     "data": {
      "text/plain": [
       "0.06231653748726836"
      ]
     },
     "execution_count": 7,
     "metadata": {},
     "output_type": "execute_result"
    }
   ],
   "source": [
    "skew(x)"
   ]
  },
  {
   "cell_type": "code",
   "execution_count": 8,
   "id": "d019a424",
   "metadata": {},
   "outputs": [
    {
     "data": {
      "text/plain": [
       "2.4807205053458907"
      ]
     },
     "execution_count": 8,
     "metadata": {},
     "output_type": "execute_result"
    }
   ],
   "source": [
    "kurtosis(x,fisher=False)"
   ]
  },
  {
   "cell_type": "markdown",
   "id": "ed49b580",
   "metadata": {},
   "source": [
    "## Moments and tail behavior"
   ]
  },
  {
   "cell_type": "code",
   "execution_count": 9,
   "id": "1f1515c8",
   "metadata": {},
   "outputs": [],
   "source": [
    "def standardize(data):\n",
    "    mean = np.mean(data)\n",
    "    std = np.sqrt(np.var(data))\n",
    "    return (data-mean)/std"
   ]
  },
  {
   "cell_type": "code",
   "execution_count": 11,
   "id": "792c4384",
   "metadata": {},
   "outputs": [
    {
     "data": {
      "text/plain": [
       "(-3.0, 5.0)"
      ]
     },
     "execution_count": 11,
     "metadata": {},
     "output_type": "execute_result"
    },
    {
     "data": {
      "image/png": "[encoded data removed]",
      "text/plain": [
       "<Figure size 432x288 with 1 Axes>"
      ]
     },
     "metadata": {
      "needs_background": "light"
     },
     "output_type": "display_data"
    }
   ],
   "source": [
    "import numpy as np\n",
    "chi2 = np.random.chisquare(4,size=10000)\n",
    "normal = np.random.normal(size=10000)\n",
    "import matplotlib.pyplot as plt\n",
    "_=plt.hist(standardize(chi2),bins=50,alpha=0.5)\n",
    "_=plt.hist(standardize(normal),bins=50,alpha=0.5)\n",
    "plt.xlim(-3,5)"
   ]
  },
  {
   "cell_type": "code",
   "execution_count": 12,
   "id": "3897c76d",
   "metadata": {},
   "outputs": [],
   "source": [
    "from scipy.stats import skew, kurtosis\n",
    "def print_basic_stats(data):\n",
    "    print(\"mean: %.2f\\tstd: %.2f\\tskew: %.2f\\tkurtosis: %.2f\" % (np.mean(data),np.std(data),skew(data),kurtosis(data,fisher=False)))"
   ]
  },
  {
   "cell_type": "code",
   "execution_count": 14,
   "id": "bab37398",
   "metadata": {},
   "outputs": [
    {
     "name": "stdout",
     "output_type": "stream",
     "text": [
      "mean: 0.00\tstd: 1.00\tskew: 0.02\tkurtosis: 2.92\n"
     ]
    }
   ],
   "source": [
    "print_basic_stats(standardize(normal))"
   ]
  },
  {
   "cell_type": "code",
   "execution_count": 15,
   "id": "774c2d5f",
   "metadata": {},
   "outputs": [
    {
     "name": "stdout",
     "output_type": "stream",
     "text": [
      "mean: -0.00\tstd: 1.00\tskew: 1.46\tkurtosis: 6.23\n"
     ]
    }
   ],
   "source": [
    "print_basic_stats(standardize(chi2))"
   ]
  },
  {
   "cell_type": "code",
   "execution_count": 16,
   "id": "3769ed2a",
   "metadata": {},
   "outputs": [
    {
     "name": "stdout",
     "output_type": "stream",
     "text": [
      "mean: -0.00\tstd: 1.00\tskew: 0.42\tkurtosis: 3.13\n"
     ]
    }
   ],
   "source": [
    "print_basic_stats(standardize(np.sqrt(chi2)))"
   ]
  },
  {
   "cell_type": "code",
   "execution_count": 17,
   "id": "0af5719c",
   "metadata": {},
   "outputs": [
    {
     "data": {
      "text/plain": [
       "1.4643625541885408"
      ]
     },
     "execution_count": 17,
     "metadata": {},
     "output_type": "execute_result"
    }
   ],
   "source": [
    "np.mean(np.power(standardize(chi2),3)) # Skewness"
   ]
  },
  {
   "cell_type": "code",
   "execution_count": 18,
   "id": "20dada6f",
   "metadata": {},
   "outputs": [
    {
     "data": {
      "text/plain": [
       "6.227402035558242"
      ]
     },
     "execution_count": 18,
     "metadata": {},
     "output_type": "execute_result"
    }
   ],
   "source": [
    "np.mean(np.power(standardize(chi2),4)) # kurtosis"
   ]
  },
  {
   "cell_type": "markdown",
   "id": "1dd18e1b",
   "metadata": {},
   "source": [
    "## Transformations of random variables"
   ]
  },
  {
   "cell_type": "markdown",
   "id": "a315070b",
   "metadata": {},
   "source": [
    "Consider a Binomial random variable"
   ]
  },
  {
   "cell_type": "code",
   "execution_count": 19,
   "id": "294c145e",
   "metadata": {},
   "outputs": [],
   "source": [
    "n = 10\n",
    "p = 0.5\n",
    "x = np.random.binomial(n,p,size=1000)"
   ]
  },
  {
   "cell_type": "markdown",
   "id": "83ba1a31",
   "metadata": {},
   "source": [
    "Lets plot the empirical density"
   ]
  },
  {
   "cell_type": "code",
   "execution_count": 21,
   "id": "cdc0d7a4",
   "metadata": {},
   "outputs": [
    {
     "data": {
      "image/png": "[encoded data removed]",
      "text/plain": [
       "<Figure size 432x288 with 1 Axes>"
      ]
     },
     "metadata": {
      "needs_background": "light"
     },
     "output_type": "display_data"
    }
   ],
   "source": [
    "from Utils import makeEMF,makeEDF,plotEDF,plotEMF\n",
    "plotEMF(makeEMF(x))"
   ]
  },
  {
   "cell_type": "markdown",
   "id": "8a28162a",
   "metadata": {},
   "source": [
    "If we had the function $g(x) = \\sin(x/3)$"
   ]
  },
  {
   "cell_type": "code",
   "execution_count": 22,
   "id": "dfcc9af5",
   "metadata": {},
   "outputs": [
    {
     "data": {
      "image/png": "[encoded data removed]",
      "text/plain": [
       "<Figure size 432x288 with 1 Axes>"
      ]
     },
     "metadata": {
      "needs_background": "light"
     },
     "output_type": "display_data"
    }
   ],
   "source": [
    "plotEMF(makeEMF(np.sin(x)))"
   ]
  },
  {
   "cell_type": "code",
   "execution_count": 23,
   "id": "4167118f",
   "metadata": {},
   "outputs": [
    {
     "data": {
      "image/png": "[encoded data removed]",
      "text/plain": [
       "<Figure size 432x288 with 1 Axes>"
      ]
     },
     "metadata": {
      "needs_background": "light"
     },
     "output_type": "display_data"
    }
   ],
   "source": [
    "plotEDF(makeEDF(np.sin(x)))"
   ]
  },
  {
   "cell_type": "markdown",
   "id": "6b0c8b89",
   "metadata": {},
   "source": [
    "Can we compute this thing?\n",
    "What is $\\sin^{[-1]}$?\n",
    "\n",
    "Since $X$ is discrete, we can check what $\\mathbb{Y}$ is, since $\\mathbb{X}=\\{0,1,\\ldots,10\\}$."
   ]
  },
  {
   "cell_type": "code",
   "execution_count": 24,
   "id": "8eea4e79",
   "metadata": {},
   "outputs": [],
   "source": [
    "import math\n",
    "result = math.asin(0.5)  # Returns π/6 or 0.5235987755982988\n"
   ]
  },
  {
   "cell_type": "code",
   "execution_count": 25,
   "id": "829f7a59",
   "metadata": {},
   "outputs": [],
   "source": [
    "Y_space = np.sort(np.sin(np.arange(0,11)))\n",
    "sin_inv = dict(zip(np.sin(np.arange(0,11)),np.arange(0,11)))"
   ]
  },
  {
   "cell_type": "code",
   "execution_count": 26,
   "id": "e4b83adf",
   "metadata": {},
   "outputs": [
    {
     "data": {
      "image/png": "[encoded data removed]",
      "text/plain": [
       "<Figure size 432x288 with 1 Axes>"
      ]
     },
     "metadata": {
      "needs_background": "light"
     },
     "output_type": "display_data"
    }
   ],
   "source": [
    "from scipy.special import binom as binomial\n",
    "plotEMF([(y,binomial(n,sin_inv[y])*(p**sin_inv[y])*((1-p)**(n-sin_inv[y]))) for y in Y_space])"
   ]
  },
  {
   "cell_type": "code",
   "execution_count": 27,
   "id": "4f068457",
   "metadata": {},
   "outputs": [
    {
     "ename": "NameError",
     "evalue": "name 'emfToEdf' is not defined",
     "output_type": "error",
     "traceback": [
      "\u001b[0;31m---------------------------------------------------------------------------\u001b[0m",
      "\u001b[0;31mNameError\u001b[0m                                 Traceback (most recent call last)",
      "Input \u001b[0;32mIn [27]\u001b[0m, in \u001b[0;36m<cell line: 1>\u001b[0;34m()\u001b[0m\n\u001b[0;32m----> 1\u001b[0m plotEDF(\u001b[43memfToEdf\u001b[49m([(y,binomial(n,sin_inv[y])\u001b[38;5;241m*\u001b[39m(p\u001b[38;5;241m*\u001b[39m\u001b[38;5;241m*\u001b[39msin_inv[y])\u001b[38;5;241m*\u001b[39m((\u001b[38;5;241m1\u001b[39m\u001b[38;5;241m-\u001b[39mp)\u001b[38;5;241m*\u001b[39m\u001b[38;5;241m*\u001b[39m(n\u001b[38;5;241m-\u001b[39msin_inv[y]))) \u001b[38;5;28;01mfor\u001b[39;00m y \u001b[38;5;129;01min\u001b[39;00m Y_space]))\n",
      "\u001b[0;31mNameError\u001b[0m: name 'emfToEdf' is not defined"
     ]
    }
   ],
   "source": [
    "plotEDF(emfToEdf([(y,binomial(n,sin_inv[y])*(p**sin_inv[y])*((1-p)**(n-sin_inv[y]))) for y in Y_space]))"
   ]
  }
 ],
 "metadata": {
  "kernelspec": {
   "display_name": "base",
   "language": "python",
   "name": "python3"
  },
  "language_info": {
   "codemirror_mode": {
    "name": "ipython",
    "version": 3
   },
   "file_extension": ".py",
   "mimetype": "text/x-python",
   "name": "python",
   "nbconvert_exporter": "python",
   "pygments_lexer": "ipython3",
   "version": "3.9.12"
  },
  "lx_course_instance": "2024",
  "lx_course_name": "Introduction to Data Science",
  "lx_course_number": "1MS041"
 },
 "nbformat": 4,
 "nbformat_minor": 5
}
