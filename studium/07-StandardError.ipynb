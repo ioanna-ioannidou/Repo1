{
 "cells": [
  {
   "cell_type": "markdown",
   "id": "0e32f9b4",
   "metadata": {
    "deletable": false
   },
   "source": [
    "# [Introduction to Data Science](http://datascience-intro.github.io/1MS041-2024/)    \n",
    "## 1MS041, 2024 \n",
    "&copy;2024 Raazesh Sainudiin, Benny Avelin. [Attribution 4.0 International     (CC BY 4.0)](https://creativecommons.org/licenses/by/4.0/)"
   ]
  },
  {
   "cell_type": "markdown",
   "id": "4af8f1ce",
   "metadata": {},
   "source": [
    "# Standard error simulations"
   ]
  },
  {
   "cell_type": "markdown",
   "id": "d5690883",
   "metadata": {},
   "source": [
    "## Balance scale problem\n",
    "\n",
    "With the help of a balance scale we have measured the weights of two items with true weights $m_1,m_2$. We have measured $m_1,m_2,m_1-m_2,m_1+m_2$. Whenever we measure we make a measurement error with standard deviation $\\sigma$. $X_1,X_2,X_3,X_4$ are the four measurements\n",
    "\n",
    "* We can use $X_1$ as an estimate for $m_1$\n",
    "* We could also use $(X_1-X_2+X_4)/2$ as an estimate for $m_1$\n",
    "* To estimate $m_1+m_2$ we could use $(X_3+X_4)/2$.\n",
    "* To estimate $m_1+m_2$ we could also use $(X_1+X_2+X_3)/2$"
   ]
  },
  {
   "cell_type": "code",
   "execution_count": 2,
   "id": "396ec93f",
   "metadata": {},
   "outputs": [],
   "source": [
    "import numpy as np\n",
    "def experiment():\n",
    "    m1 = 25\n",
    "    m2 = 16\n",
    "\n",
    "    err = np.random.normal(size=4)\n",
    "    X1 = m1+err[0]\n",
    "    X2 = m2+err[1]\n",
    "    X3 = m1-m2+err[2]\n",
    "    X4 = m1+m2+err[3]\n",
    "\n",
    "    theta1 = X1\n",
    "    theta2 = (X1-X2+X4)/2\n",
    "    theta3 = (X3 + X4)/2\n",
    "    theta4 = (X1 + X2 + X3)/2\n",
    "\n",
    "    return (theta1,theta2,theta3,theta4)"
   ]
  },
  {
   "cell_type": "code",
   "execution_count": 3,
   "id": "fdc7bdb6",
   "metadata": {},
   "outputs": [],
   "source": [
    "experiments = np.array([experiment() for i in range(10000)])"
   ]
  },
  {
   "cell_type": "code",
   "execution_count": 4,
   "id": "ba940622",
   "metadata": {},
   "outputs": [
    {
     "data": {
      "text/plain": [
       "(10000, 4)"
      ]
     },
     "execution_count": 4,
     "metadata": {},
     "output_type": "execute_result"
    }
   ],
   "source": [
    "experiments.shape"
   ]
  },
  {
   "cell_type": "code",
   "execution_count": 5,
   "id": "ce1e478f",
   "metadata": {},
   "outputs": [
    {
     "data": {
      "image/png": "[encoded data removed]",
      "text/plain": [
       "<Figure size 216x216 with 1 Axes>"
      ]
     },
     "metadata": {
      "needs_background": "light"
     },
     "output_type": "display_data"
    },
    {
     "data": {
      "image/png": "[encoded data removed]",
      "text/plain": [
       "<Figure size 216x216 with 1 Axes>"
      ]
     },
     "metadata": {
      "needs_background": "light"
     },
     "output_type": "display_data"
    },
    {
     "data": {
      "image/png": "[encoded data removed]",
      "text/plain": [
       "<Figure size 216x216 with 1 Axes>"
      ]
     },
     "metadata": {
      "needs_background": "light"
     },
     "output_type": "display_data"
    },
    {
     "data": {
      "image/png": "[encoded data removed]",
      "text/plain": [
       "<Figure size 216x216 with 1 Axes>"
      ]
     },
     "metadata": {
      "needs_background": "light"
     },
     "output_type": "display_data"
    }
   ],
   "source": [
    "import matplotlib.pyplot as plt\n",
    "for i in range(experiments.shape[1]):\n",
    "    plt.figure(figsize=(3,3))\n",
    "    _=plt.hist(experiments[:,i],bins=20)\n",
    "    plt.xlim(22,28)\n",
    "    plt.show()"
   ]
  },
  {
   "cell_type": "code",
   "execution_count": 6,
   "id": "f76108de",
   "metadata": {},
   "outputs": [
    {
     "data": {
      "text/plain": [
       "array([1.00374615, 0.74521701, 0.50164687, 0.76422415])"
      ]
     },
     "execution_count": 6,
     "metadata": {},
     "output_type": "execute_result"
    }
   ],
   "source": [
    "np.var(experiments,axis=0)"
   ]
  },
  {
   "cell_type": "markdown",
   "id": "67ff207d",
   "metadata": {},
   "source": [
    "## Reliability of parallel systems\n",
    "\n",
    "A reliability system consists of two parallell circuits which break independently of each other and has the probabilities $p_1$ and $p_2$ to break during a week. The weekwise probability that the system breaks is thus $p_1p_2$. We now test $n$ such systems and find that the first circuit breaks $x_1$ times and the second system breaks $x_2$ times and that the full system has broken down $x$ times. Two estimators for $p_1p_2$ has been proposed.\n",
    "\\begin{align*}\n",
    "    p^\\ast &:= \\frac{x}{n} \\\\\n",
    "    \\hat p &:= \\frac{x_1}{n}\\frac{x_2}{n}\n",
    "\\end{align*}\n",
    "Show that they are unbiased and compute the corresponding variances."
   ]
  },
  {
   "cell_type": "code",
   "execution_count": 7,
   "id": "5aae2747",
   "metadata": {},
   "outputs": [],
   "source": [
    "import numpy as np\n",
    "def experiment(n=100):\n",
    "    p1 = 0.1\n",
    "    p2 = 0.3\n",
    "\n",
    "    X1 = np.random.binomial(1,p1,size=n)\n",
    "    X2 = np.random.binomial(1,p2,size=n)\n",
    "\n",
    "    past = np.mean(X1*X2)\n",
    "    phat = np.mean(X1)*np.mean(X2)\n",
    "    return (past,phat)"
   ]
  },
  {
   "cell_type": "code",
   "execution_count": 8,
   "id": "ef11e2b0",
   "metadata": {},
   "outputs": [],
   "source": [
    "experiments = np.array([experiment() for i in range(1000)])"
   ]
  },
  {
   "cell_type": "code",
   "execution_count": 9,
   "id": "fab34e64",
   "metadata": {},
   "outputs": [
    {
     "data": {
      "text/plain": [
       "0.03"
      ]
     },
     "execution_count": 9,
     "metadata": {},
     "output_type": "execute_result"
    }
   ],
   "source": [
    "true_value = 0.1*0.3\n",
    "true_value"
   ]
  },
  {
   "cell_type": "code",
   "execution_count": 10,
   "id": "e1501826",
   "metadata": {},
   "outputs": [
    {
     "data": {
      "text/plain": [
       "array([0.02979 , 0.030143])"
      ]
     },
     "execution_count": 10,
     "metadata": {},
     "output_type": "execute_result"
    }
   ],
   "source": [
    "np.mean(experiments,axis=0)"
   ]
  },
  {
   "cell_type": "code",
   "execution_count": 11,
   "id": "b99996ce",
   "metadata": {},
   "outputs": [
    {
     "data": {
      "text/plain": [
       "array([0.01764811, 0.01006918])"
      ]
     },
     "execution_count": 11,
     "metadata": {},
     "output_type": "execute_result"
    }
   ],
   "source": [
    "np.std(experiments,axis=0)"
   ]
  }
 ],
 "metadata": {
  "kernelspec": {
   "display_name": "base",
   "language": "python",
   "name": "python3"
  },
  "language_info": {
   "codemirror_mode": {
    "name": "ipython",
    "version": 3
   },
   "file_extension": ".py",
   "mimetype": "text/x-python",
   "name": "python",
   "nbconvert_exporter": "python",
   "pygments_lexer": "ipython3",
   "version": "3.9.12"
  },
  "lx_course_instance": "2024",
  "lx_course_name": "Introduction to Data Science",
  "lx_course_number": "1MS041"
 },
 "nbformat": 4,
 "nbformat_minor": 5
}
