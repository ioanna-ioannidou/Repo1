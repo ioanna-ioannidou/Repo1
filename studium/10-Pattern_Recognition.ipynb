{
 "cells": [
  {
   "cell_type": "markdown",
   "id": "f6717533",
   "metadata": {
    "deletable": false
   },
   "source": [
    "# [Introduction to Data Science](http://datascience-intro.github.io/1MS041-2024/)    \n",
    "## 1MS041, 2024 \n",
    "&copy;2024 Raazesh Sainudiin, Benny Avelin. [Attribution 4.0 International     (CC BY 4.0)](https://creativecommons.org/licenses/by/4.0/)"
   ]
  },
  {
   "cell_type": "markdown",
   "id": "13e24c5f",
   "metadata": {},
   "source": [
    "# Pattern Recognition"
   ]
  },
  {
   "cell_type": "markdown",
   "id": "bcd3886e",
   "metadata": {},
   "source": [
    "Traditionally the machine learning started in principle with a single algorithm called the perceptron algorithm. The ideas come from computer science and as such the focus and terminology is different, but let us stick to the terminology used in the book \"Foundations of Data Science\" Chap 5.\n",
    "\n",
    "Let us say that we are trying to device a decision rule based on input data being in $\\mathbb{R}^d$, it could be binary or other. This input could be for instance the words being used in an email, where we have some form of dictionary where each word is represented by a dimension. The simplest form of decision problem is that of a binary decision, like in the case of logistic regression (the decision could be the most likely output). A commonly chosen example is that of email spam classification.\n",
    "\n",
    "> Goal: find a \"simple\" rule that performs well on training data\n",
    "\n",
    "## The perceptron algorithm\n",
    "\n",
    "The perceptron algorithm tries to find a linear separator, i.e. a plane in $\\mathbb{R}$ that separates the two classes. The task is thus to find $w$ and $t$ such that for the training data $S$, the data consists of pairs $(x_i,l_i)$ the $x_i$ represents our features and the $l_i$ our labels or target.\n",
    "\n",
    "$$\n",
    "\\begin{aligned}\n",
    "    w \\cdot x_i > t \\quad \\text{for each $x_i$ labeled $+1$} \\\\\n",
    "    w \\cdot x_i < t \\quad \\text{for each $x_i$ labeled $-1$}\n",
    "\\end{aligned}\n",
    "$$\n",
    "\n",
    "Adding a new coordinate to our space allows us to consider $\\hat x_i = (x_i,1)$ and $\\hat w = (w,t)$, this allows us to rewrite the inequalities above as\n",
    "\n",
    "$$\n",
    "    (\\hat w \\cdot \\hat x_i) l_i > 0.\n",
    "$$\n",
    "\n",
    "### The algorithm\n",
    "1. $w = 0$\n",
    "2. while there exists $x_i$ with $x_i l_i \\cdot w \\leq 0$, update $w := w+x_il_i$"
   ]
  },
  {
   "cell_type": "code",
   "execution_count": 1,
   "id": "1ec465da",
   "metadata": {},
   "outputs": [],
   "source": [
    "import numpy as np\n",
    "\n",
    "def gen_data(n_points=5,sep=1):\n",
    "    np.random.seed(3)\n",
    "    W = np.array([[1,-1],[1,1]])/np.sqrt(2)\n",
    "    rnd_pos_1 = np.random.uniform(0,1,size=(n_points,2))\n",
    "    X1 = (rnd_pos_1 + np.array([-1-sep,0]))@W\n",
    "    rnd_pos_2 = np.random.uniform(0,1,size=(n_points,2))\n",
    "    X2 = (rnd_pos_2 + np.array([+sep,0]))@W\n",
    "    \n",
    "    Xall = np.concatenate([X1,X2],axis=0)\n",
    "    y1 = np.ones(shape=n_points)\n",
    "    y2 = -np.ones(shape=n_points)\n",
    "    yall = np.concatenate([y1,y2])\n",
    "\n",
    "    X = np.concatenate([Xall,np.ones((n_points*2,1))],axis=1)\n",
    "    return X,X1,X2,Xall,yall\n",
    "X, X1, X2, Xall, yall = gen_data(n_points=100,sep=0.05)"
   ]
  },
  {
   "cell_type": "code",
   "execution_count": 2,
   "id": "d0260cb4",
   "metadata": {},
   "outputs": [
    {
     "data": {
      "text/plain": [
       "<matplotlib.collections.PathCollection at 0x7fe260fccfa0>"
      ]
     },
     "execution_count": 2,
     "metadata": {},
     "output_type": "execute_result"
    },
    {
     "data": {
      "image/png": "[encoded data removed]",
      "text/plain": [
       "<Figure size 576x576 with 1 Axes>"
      ]
     },
     "metadata": {
      "needs_background": "light"
     },
     "output_type": "display_data"
    }
   ],
   "source": [
    "%matplotlib inline\n",
    "import matplotlib.pyplot as plt\n",
    "plt.figure(figsize=(8,8))\n",
    "plt.scatter(X1[:,0],X1[:,1], color='red')\n",
    "plt.scatter(X2[:,0],X2[:,1], color='blue')"
   ]
  },
  {
   "cell_type": "code",
   "execution_count": 3,
   "id": "0dc6f915",
   "metadata": {},
   "outputs": [
    {
     "data": {
      "application/vnd.jupyter.widget-view+json": {
       "model_id": "88aded832ada4aaea7525b5a688e9cac",
       "version_major": 2,
       "version_minor": 0
      },
      "text/plain": [
       "interactive(children=(IntSlider(value=0, description='n_steps', max=63), Output()), _dom_classes=('widget-inte…"
      ]
     },
     "metadata": {},
     "output_type": "display_data"
    }
   ],
   "source": [
    "from ipywidgets import interact, IntSlider\n",
    "\n",
    "@interact\n",
    "def _(n_steps=IntSlider(0,0,63,1)):\n",
    "    n_points = X.shape[0]\n",
    "    W = np.array([0,0,0])\n",
    "    plt.scatter(X1[:,0],X1[:,1],color='blue')\n",
    "    plt.scatter(X2[:,0],X2[:,1],color='red')\n",
    "    \n",
    "    k = 0\n",
    "    max_iter=10000\n",
    "    j = 0\n",
    "    while ((k < n_steps) and (j < max_iter)):\n",
    "        i = j % n_points\n",
    "        j+=1\n",
    "        if (X[i,:]@W * yall[i] <= 0):\n",
    "            W = W + X[i,:]*yall[i]\n",
    "            plt.scatter(X[i,0],X[i,1],color='yellow')\n",
    "            k+=1\n",
    "    print(W)\n",
    "    \n",
    "    # Plotting the line\n",
    "    x_left = -2\n",
    "    x_right = 2\n",
    "    y_left = 0\n",
    "    y_right = 0\n",
    "    if (W[1] != 0):\n",
    "        y_left = (-W[2] - x_left*W[0])/W[1]\n",
    "        y_right = (-W[2] - x_right*W[0])/W[1]\n",
    "    plt.plot([x_left,x_right],[y_left,y_right])\n",
    "    plt.xlim(-1,2)\n",
    "    plt.ylim(-1,2)\n",
    "    plt.show()"
   ]
  },
  {
   "cell_type": "markdown",
   "id": "f23db080",
   "metadata": {},
   "source": [
    "### Theorem: Perceptron for linearly separable data\n",
    "> If there exists $w^\\ast$ such that $w^\\ast \\cdot x_i l_i \\geq 1$ for all $i$. Then the perceptron algorithm find a $w$ satisfying $w \\cdot x_i l_i \\geq 0$ for all $i$ in at most $r^2|w^\\ast|^2$ updates, where $r = \\max_i |x_i|$.\n",
    "\n",
    "So this theorem guarantees that if the two classes can be separated then the preceptron will also find a separator in finite time.\n",
    "\n",
    "### Kernels\n",
    "\n",
    "What about non-linearly separable data. Take for instance\n",
    "$$\n",
    "    X = (B_4 \\setminus B_3) \\cup B_1\n",
    "$$\n",
    "and let $c^\\ast = B_1$. We cannot separate these sets using a linear classifier"
   ]
  },
  {
   "cell_type": "code",
   "execution_count": 4,
   "id": "149ac103",
   "metadata": {},
   "outputs": [
    {
     "data": {
      "text/plain": [
       "<matplotlib.collections.PathCollection at 0x7fe26121be50>"
      ]
     },
     "execution_count": 4,
     "metadata": {},
     "output_type": "execute_result"
    },
    {
     "data": {
      "image/png": "[encoded data removed]",
      "text/plain": [
       "<Figure size 432x288 with 1 Axes>"
      ]
     },
     "metadata": {
      "needs_background": "light"
     },
     "output_type": "display_data"
    }
   ],
   "source": [
    "A = np.random.normal(size=(100,2))\n",
    "A_unit = A/(np.linalg.norm(A,axis=1).reshape(-1,1))\n",
    "radial_A = 3+np.random.uniform(size=(100,1))\n",
    "#P=points(A_unit*radial_A,color='blue')\n",
    "plt.scatter((A_unit*radial_A)[:,0],(A_unit*radial_A)[:,1])\n",
    "\n",
    "B = np.random.normal(size=(100,2))\n",
    "B_unit = B/(np.linalg.norm(B,axis=1).reshape(-1,1))\n",
    "radial_B = np.random.uniform(size=(100,1))\n",
    "plt.scatter((B_unit*radial_B)[:,0],(B_unit*radial_B)[:,1],color='red')"
   ]
  },
  {
   "cell_type": "markdown",
   "id": "826d53b2",
   "metadata": {},
   "source": [
    "we can however separate the following mapping of $X$. Namely in $\\mathbb R^2$ we can do\n",
    "$$\n",
    "    \\phi(x) = (x_1,x_2,x_1^2+x_2^2) \\in \\mathbb R^3\n",
    "$$\n",
    "This is clearly linearly separable as we can see in the following 3d plot"
   ]
  },
  {
   "cell_type": "code",
   "execution_count": 5,
   "id": "f13f17ec",
   "metadata": {},
   "outputs": [],
   "source": [
    "import sys, importlib\n",
    "#importlib.reload(sys.modules['Utils'])"
   ]
  },
  {
   "cell_type": "code",
   "execution_count": 6,
   "id": "5ceb2e6b",
   "metadata": {},
   "outputs": [
    {
     "data": {
      "application/vnd.plotly.v1+json": {
       "config": {
        "plotlyServerURL": "https://plot.ly"
       },
       "data": [
        {
         "marker": {
          "size": 2
         },
         "mode": "markers",
         "type": "scatter3d",
         "x": [
          3.4713816351992857,
          2.7293001869789646,
          -1.8835039111882907,
          -1.1357155813563,
          0.45217777467581655,
          1.6926494081010397,
          0.49333995191187086,
          -0.9129011515428472,
          -1.7798183165956034,
          1.2753832075426006,
          0.1491703248017518,
          1.6626960656175906,
          2.0530535366168676,
          0.3873415856975885,
          3.7131683690058357,
          -3.560742682725157,
          0.447307973658849,
          1.8075663381911968,
          -2.8738525501148073,
          -3.268823564313125,
          -0.014948895632894858,
          -2.96939209377234,
          2.773022691841335,
          2.3368475763172656,
          3.3672395667501394,
          3.637117691425921,
          2.5124696392914214,
          2.3287883646469867,
          0.7451608653808908,
          -2.146107119738956,
          -3.177806784810136,
          -3.045735685601893,
          -2.777979501713117,
          -2.7219811771620686,
          -2.7232778328725096,
          -0.5784109069671145,
          -3.2866508621417476,
          0.2611848394223306,
          3.129672799520648,
          0.2692189003455366,
          0.40453627718405355,
          2.729515207487141,
          0.8535005381554347,
          3.655942474332759,
          -2.043390271317005,
          -1.630897201132167,
          1.9486261584967688,
          1.5841972340794466,
          -2.800625142200226,
          -3.4013740759414546,
          3.931232379286089,
          -2.991557338699023,
          -1.633827370478007,
          -1.9178412870421155,
          3.0466614535615486,
          1.953090133253966,
          -3.5073646081037735,
          -0.837549800182993,
          -3.241478423503864,
          2.552857905053856,
          3.518789946195811,
          3.698713725705142,
          -3.3926546322318623,
          -1.875352876295798,
          -0.30890804828533286,
          2.148021775146226,
          3.252785285181033,
          -1.1335575124659887,
          -1.925722644755272,
          -1.0658996308892499,
          -0.8771392251239155,
          -3.7708399651743965,
          -3.2406390578485302,
          3.142109705343961,
          -3.2206530942124165,
          -2.7440928234860693,
          -2.5538401297679454,
          1.5085200246351396,
          2.9911744813963432,
          -3.6163892113222804,
          -2.8792291613024883,
          2.1424511504340393,
          -0.6224481026610368,
          2.287548698674275,
          -3.189457212307372,
          2.704582937395241,
          3.3492395490027116,
          -1.8699767885679845,
          1.4455358806098948,
          1.4389405506410664,
          3.5678362838265043,
          2.1631969495681074,
          1.4568284557976385,
          -2.6368592275991927,
          -1.2774348726706808,
          -0.7953934299544274,
          -2.313681386128243,
          -0.47344309254974926,
          1.2261430732213676,
          -3.488981820002123
         ],
         "y": [
          0.5607805820304191,
          2.9119717797437663,
          -3.2448481882294047,
          3.091548811400069,
          3.9013226905736516,
          -2.6970074952398053,
          3.372246736214858,
          -3.2466913723359894,
          -3.5662339943155947,
          -2.7203912032399633,
          -3.6462155146877895,
          3.089683756223381,
          -2.396850699215232,
          -3.6210200440614884,
          -0.8438984289200481,
          1.22933409478655,
          3.044945610539599,
          3.336987209277203,
          -1.713495598567064,
          2.0389444151637095,
          3.5620639259938875,
          -0.8177372514239002,
          -2.51664505831775,
          -2.6904178724354306,
          -0.7576600118038406,
          -0.09876552583382502,
          -2.3551266516960303,
          -1.9492716705032966,
          3.8410925075269775,
          -2.4907606001215736,
          0.8097169256117855,
          0.15592178626650113,
          -2.470193861220123,
          2.8061806943056204,
          -2.1391143077600785,
          -3.7700111981264652,
          -0.5281446841863543,
          3.374642955246566,
          1.0200949496524196,
          -3.28392159655327,
          3.538238365767372,
          -1.9004299584543862,
          2.9445954897388247,
          0.5021594223173373,
          -2.6022374150693546,
          -2.974520670135023,
          2.520976079721366,
          2.6055602854189472,
          2.3473992529251277,
          0.3860508096993199,
          -0.0954267601499029,
          -0.4055722714112556,
          -3.458386472177959,
          2.330979107941791,
          -0.8863266224043472,
          2.2953533198343723,
          -0.11903800476518148,
          3.2474367062168255,
          -0.710109150995984,
          3.046096441706643,
          -0.6484918784906326,
          1.3174551599584952,
          1.9010263675958996,
          2.763287925213444,
          3.640463204418304,
          -2.3652422567944833,
          0.8636932535333308,
          3.5060939746774333,
          -3.004675715569017,
          -2.894958589506816,
          2.9505199984763575,
          0.03495199844553109,
          -1.7877681546183206,
          1.8545220244915162,
          0.032827242300474256,
          -2.605232394196885,
          -2.5044774483732937,
          2.762007824097871,
          -1.0380399291367153,
          -0.17871097776330447,
          2.7453046642873735,
          2.8757281131654766,
          -3.235843775516028,
          2.9285732702319245,
          0.2965498528522954,
          -2.4381959096062356,
          -0.6613139660703616,
          2.3851518381097385,
          -3.205540348604278,
          -3.198762405615003,
          -1.6042727658372906,
          -3.015149309749223,
          2.965291678158863,
          2.5167657322315837,
          -2.9884230176891236,
          -3.5665337403097577,
          2.7599381605743796,
          3.5833447701775336,
          -2.9136387746862478,
          -1.2634018165646987
         ],
         "z": [
          12.364965318381245,
          15.928659156667488,
          14.076626748117237,
          10.847523935004654,
          15.424783475895609,
          10.13891144812449,
          11.61543235806417,
          11.374393379689208,
          15.88577814230137,
          9.027130624747029,
          13.3171393653514,
          12.310703920090837,
          9.959922098543577,
          13.261819663505786,
          14.499783894919181,
          14.190150769185413,
          9.471778194443155,
          14.402779701841585,
          11.195095646110083,
          14.842501822736043,
          12.68852288234763,
          9.485983618923997,
          14.023157199022114,
          12.699204923259865,
          11.912350993374261,
          13.238379730376652,
          11.859125233890119,
          9.2229152927419,
          15.309256366675081,
          10.809664136512218,
          10.754097461207538,
          9.300817469981371,
          13.819027823947838,
          15.283831617918176,
          11.992052176678675,
          14.547543611297467,
          11.081010697051395,
          11.456432595739345,
          10.835445538365784,
          10.85661986861224,
          12.682780332546098,
          11.061887294894511,
          9.399105766821846,
          13.618079461052416,
          10.947083365299818,
          11.507598897721243,
          10.152464300105182,
          9.298625277417434,
          13.353784439757485,
          11.718380832156084,
          15.46369428650007,
          9.113904178061663,
          14.629828867466589,
          9.111578803944468,
          10.067720894200468,
          9.08320793148867,
          12.315776540757415,
          11.247334828670956,
          11.011437376369331,
          15.795787015573834,
          12.802424401917026,
          15.416171323220876,
          15.124006703899173,
          11.152708568261344,
          13.34839652501904,
          10.208368479828604,
          11.326578147689244,
          13.577647593337481,
          12.736483860253424,
          9.516927258089133,
          9.474941481659908,
          14.220455685151782,
          13.697856477920805,
          13.312105339740825,
          10.373683981097068,
          14.317281251680583,
          12.794506697823559,
          9.904319885103057,
          10.02465167263884,
          13.110208541341304,
          15.826658263052638,
          12.859909112846411,
          10.858126580052147,
          13.809420447923278,
          10.260579124366233,
          13.25956815887005,
          11.6547417183236,
          9.185762480621298,
          12.36506290866066,
          12.302630835855094,
          15.30314685539615,
          13.77054640270198,
          10.915303886179936,
          13.28713633711019,
          10.562511986569328,
          13.35281362918258,
          12.970380206710997,
          13.064508103841751,
          9.992717745363919,
          13.769178290404307
         ]
        },
        {
         "marker": {
          "color": "red",
          "size": 2
         },
         "mode": "markers",
         "type": "scatter3d",
         "x": [
          0.03474681242901967,
          0.02330200022132461,
          -0.2727746462256962,
          0.317537328681844,
          0.04781753846002065,
          0.5399216786287913,
          0.010546685149915821,
          0.4781308209311371,
          0.15090470748844212,
          0.6011733150840369,
          0.2769096219437569,
          -0.4231131203097257,
          0.21006576028622256,
          -0.7214694584532546,
          -0.4568046141550987,
          -0.3116976322514701,
          -0.3165108224410782,
          -0.03078012333618627,
          0.2303007939374553,
          -0.06349705819231735,
          0.10745126479194038,
          -0.1594542649019364,
          -0.17401245997859147,
          -0.7462171895789558,
          0.2100364104790928,
          0.1030877822176498,
          0.31673155055702795,
          0.9324644234899503,
          -0.6317072073733855,
          -0.502169026209508,
          -0.7171350120581741,
          -0.172092373414705,
          0.5032227049717131,
          0.019893687232030933,
          -0.9228586924521723,
          0.36007266562822104,
          0.19473724968894204,
          0.08878149658006573,
          0.008174648205155555,
          -0.23604769106264928,
          -0.17161133855821575,
          -0.9038440694032741,
          0.6391534663553219,
          0.3539944707137862,
          -0.019387514816280132,
          0.27485897227245887,
          -0.21257470775733986,
          -0.3789887034357891,
          -0.0054411277095701115,
          -0.7592165979943807,
          -0.08164757907555838,
          -0.36013244889741514,
          0.954287924807045,
          0.6594425956348483,
          0.4345903997787156,
          0.01455532528724175,
          0.2584208052524141,
          0.26106293706839,
          0.7135179572836915,
          0.09839315497435255,
          0.03443900995025674,
          -0.13096040581043591,
          0.11793042729149895,
          -0.7688157602083053,
          -0.2370016405617998,
          0.10863194550950676,
          -0.4263241757361016,
          -0.055919652036285,
          0.5653024349716844,
          -0.6359377250543072,
          -0.19245713198175474,
          0.047219196897790305,
          -0.20906576812362349,
          -0.4199584031046655,
          0.24420485840176664,
          0.03164409448448921,
          -0.13653611033097707,
          -0.4659982004354392,
          0.5092030835929261,
          -0.3306257822061778,
          -0.22596471069049592,
          -0.1844125034988085,
          0.4105465623947158,
          -0.2622913418688717,
          0.20137558577520762,
          -0.6035648452745243,
          0.6762539196799461,
          0.5399806107347032,
          0.7219804083764368,
          -0.5319037203025289,
          -0.048306490701182266,
          0.2375640599626442,
          -0.08964348339969393,
          -0.2761983115622475,
          -0.02776092691853411,
          -0.545002029217637,
          0.08011255004352166,
          0.39388703950142634,
          -0.4186043189938291,
          -0.31361941526298476
         ],
         "y": [
          0.0054095962472919985,
          0.12249714492149358,
          0.06825941684840718,
          0.10806604263960376,
          -0.31393348121764264,
          0.16818696020698506,
          -0.6553491607251851,
          0.6964931186464293,
          0.34864096430386243,
          0.7200175913114837,
          -0.26178835474805334,
          0.014017590562064045,
          0.3570505352339374,
          0.25335599696791367,
          0.579366012422502,
          0.2849917439546223,
          -0.13123648017048445,
          0.0765005524259887,
          -0.10666724000400063,
          -0.04089331582667668,
          0.3147602546056751,
          -0.10219311370436092,
          -0.6219209872768633,
          0.008684560542431791,
          -0.44105464921470927,
          0.47139787629568736,
          -0.13565499201304185,
          0.22458996214027563,
          0.766631281825313,
          0.4004822803800179,
          0.4492086735937246,
          0.3339117654807458,
          0.30383696658548903,
          0.36881909846514715,
          0.22135931477638363,
          0.4895955487324098,
          0.8726475221179383,
          0.6116033635421324,
          0.08437445050012618,
          0.19833457783663763,
          -0.5677429268303864,
          -0.14629973883163558,
          -0.15100304024690306,
          -0.015245088711499273,
          -0.6575793736289356,
          0.5697699316197089,
          -0.9485296372654448,
          0.4745666665027359,
          -0.005965098260383974,
          0.6308351141204834,
          -0.12070278174223625,
          -0.02577195317938019,
          -0.14103690719613454,
          0.13112792041282026,
          0.5261198091093535,
          0.43368566065775044,
          -0.306231297685664,
          -0.15418708947369442,
          0.26531384580117306,
          -0.35061768539081695,
          0.11917953596558087,
          0.15528048850561454,
          -0.08247095093847241,
          0.4633788978809327,
          -0.12495808301041927,
          -0.2040847506221411,
          -0.49736727133702513,
          0.2955342814412241,
          0.5714698117113922,
          0.25954366541843243,
          0.5571654459338595,
          -0.47406248584337596,
          0.3130788005004089,
          -0.13451541559512764,
          -0.6634880310246282,
          0.04981515308816318,
          0.1869556353443061,
          -0.5218030234174544,
          0.49313279345133315,
          0.4670778332320296,
          -0.1316040853466725,
          0.12974832016456284,
          0.34060126440496424,
          0.02687860367301006,
          -0.7114995965567656,
          0.4744104622709576,
          0.24529597168711884,
          0.32284345997470415,
          -0.5261605312505466,
          -0.1498774784734534,
          0.2778838656880632,
          -0.009763187744587782,
          -0.04451890306016737,
          0.5525702790400189,
          0.7646954640427573,
          0.27457584218565145,
          -0.1054209391156815,
          0.5800600020343255,
          -0.6091989570799194,
          0.19423725779547224
         ],
         "z": [
          0.0012366047055361914,
          0.015548533728232013,
          0.07906535561203831,
          0.11250822467818608,
          0.10084074761380354,
          0.3198022726369976,
          0.42959375503085595,
          0.7137117462461121,
          0.14432275273289935,
          0.8798346865671215,
          0.14521208140672695,
          0.17922120542339806,
          0.1716127083554699,
          0.584707440680438,
          0.5443354318637392,
          0.1783757080734697,
          0.11740211444986567,
          0.006799750514072285,
          0.06441635577829331,
          0.005704139678378861,
          0.11061979218481709,
          0.03586909508400934,
          0.41706605064322927,
          0.5569155156149305,
          0.2386444973208522,
          0.23284304861863775,
          0.11872115197631761,
          0.9199305521686159,
          0.9867775181206039,
          0.4125597877825848,
          0.7160710579515109,
          0.14111285211397487,
          0.3455499930629193,
          0.1364232861843298,
          0.9006681124728032,
          0.3693561258712021,
          0.799436294274991,
          0.381940828431046,
          0.007185872770476295,
          0.09505511722164518,
          0.35178248248767596,
          0.8383377153776754,
          0.43131907171783146,
          0.12554449802575512,
          0.4327865083529747,
          0.4001852296166001,
          0.9448964791490349,
          0.3688459582874595,
          0.00006518826800788758,
          0.9743627838775643,
          0.021235488689213475,
          0.1303595743195295,
          0.9305568526239876,
          0.45205906844941696,
          0.46567086911708644,
          0.18829510975436686,
          0.16055892026955187,
          0.0919275156711432,
          0.5794993121401004,
          0.13261397425462085,
          0.015389807199325069,
          0.04126265800057635,
          0.020709043429851443,
          0.8057976761460222,
          0.07178430013862336,
          0.05345148502168197,
          0.42912650541430447,
          0.09046751899083987,
          0.6461445886823697,
          0.47177970440608286,
          0.34747308179331904,
          0.2269648930396733,
          0.14172683072389555,
          0.1944594573709506,
          0.4998523801799649,
          0.003482898192940413,
          0.053594519011305894,
          0.4894327180566643,
          0.5024677323176597,
          0.32747511015617453,
          0.06837968575737377,
          0.05084259803222396,
          0.2845577012083786,
          0.06951920735478408,
          0.5467838024467483,
          0.5893558091634041,
          0.5174894776084188,
          0.39580695961786133,
          0.7981006147252641,
          0.30538482622523133,
          0.07955295985360496,
          0.05653200242087088,
          0.010017886845711779,
          0.3816194205882007,
          0.5855298217909441,
          0.3724191049633017,
          0.017531595078507992,
          0.49161660584725986,
          0.5463529451875491,
          0.13608524994580123
         ]
        }
       ],
       "layout": {
        "template": {
         "data": {
          "bar": [
           {
            "error_x": {
             "color": "#2a3f5f"
            },
            "error_y": {
             "color": "#2a3f5f"
            },
            "marker": {
             "line": {
              "color": "#E5ECF6",
              "width": 0.5
             },
             "pattern": {
              "fillmode": "overlay",
              "size": 10,
              "solidity": 0.2
             }
            },
            "type": "bar"
           }
          ],
          "barpolar": [
           {
            "marker": {
             "line": {
              "color": "#E5ECF6",
              "width": 0.5
             },
             "pattern": {
              "fillmode": "overlay",
              "size": 10,
              "solidity": 0.2
             }
            },
            "type": "barpolar"
           }
          ],
          "carpet": [
           {
            "aaxis": {
             "endlinecolor": "#2a3f5f",
             "gridcolor": "white",
             "linecolor": "white",
             "minorgridcolor": "white",
             "startlinecolor": "#2a3f5f"
            },
            "baxis": {
             "endlinecolor": "#2a3f5f",
             "gridcolor": "white",
             "linecolor": "white",
             "minorgridcolor": "white",
             "startlinecolor": "#2a3f5f"
            },
            "type": "carpet"
           }
          ],
          "choropleth": [
           {
            "colorbar": {
             "outlinewidth": 0,
             "ticks": ""
            },
            "type": "choropleth"
           }
          ],
          "contour": [
           {
            "colorbar": {
             "outlinewidth": 0,
             "ticks": ""
            },
            "colorscale": [
             [
              0,
              "#0d0887"
             ],
             [
              0.1111111111111111,
              "#46039f"
             ],
             [
              0.2222222222222222,
              "#7201a8"
             ],
             [
              0.3333333333333333,
              "#9c179e"
             ],
             [
              0.4444444444444444,
              "#bd3786"
             ],
             [
              0.5555555555555556,
              "#d8576b"
             ],
             [
              0.6666666666666666,
              "#ed7953"
             ],
             [
              0.7777777777777778,
              "#fb9f3a"
             ],
             [
              0.8888888888888888,
              "#fdca26"
             ],
             [
              1,
              "#f0f921"
             ]
            ],
            "type": "contour"
           }
          ],
          "contourcarpet": [
           {
            "colorbar": {
             "outlinewidth": 0,
             "ticks": ""
            },
            "type": "contourcarpet"
           }
          ],
          "heatmap": [
           {
            "colorbar": {
             "outlinewidth": 0,
             "ticks": ""
            },
            "colorscale": [
             [
              0,
              "#0d0887"
             ],
             [
              0.1111111111111111,
              "#46039f"
             ],
             [
              0.2222222222222222,
              "#7201a8"
             ],
             [
              0.3333333333333333,
              "#9c179e"
             ],
             [
              0.4444444444444444,
              "#bd3786"
             ],
             [
              0.5555555555555556,
              "#d8576b"
             ],
             [
              0.6666666666666666,
              "#ed7953"
             ],
             [
              0.7777777777777778,
              "#fb9f3a"
             ],
             [
              0.8888888888888888,
              "#fdca26"
             ],
             [
              1,
              "#f0f921"
             ]
            ],
            "type": "heatmap"
           }
          ],
          "heatmapgl": [
           {
            "colorbar": {
             "outlinewidth": 0,
             "ticks": ""
            },
            "colorscale": [
             [
              0,
              "#0d0887"
             ],
             [
              0.1111111111111111,
              "#46039f"
             ],
             [
              0.2222222222222222,
              "#7201a8"
             ],
             [
              0.3333333333333333,
              "#9c179e"
             ],
             [
              0.4444444444444444,
              "#bd3786"
             ],
             [
              0.5555555555555556,
              "#d8576b"
             ],
             [
              0.6666666666666666,
              "#ed7953"
             ],
             [
              0.7777777777777778,
              "#fb9f3a"
             ],
             [
              0.8888888888888888,
              "#fdca26"
             ],
             [
              1,
              "#f0f921"
             ]
            ],
            "type": "heatmapgl"
           }
          ],
          "histogram": [
           {
            "marker": {
             "pattern": {
              "fillmode": "overlay",
              "size": 10,
              "solidity": 0.2
             }
            },
            "type": "histogram"
           }
          ],
          "histogram2d": [
           {
            "colorbar": {
             "outlinewidth": 0,
             "ticks": ""
            },
            "colorscale": [
             [
              0,
              "#0d0887"
             ],
             [
              0.1111111111111111,
              "#46039f"
             ],
             [
              0.2222222222222222,
              "#7201a8"
             ],
             [
              0.3333333333333333,
              "#9c179e"
             ],
             [
              0.4444444444444444,
              "#bd3786"
             ],
             [
              0.5555555555555556,
              "#d8576b"
             ],
             [
              0.6666666666666666,
              "#ed7953"
             ],
             [
              0.7777777777777778,
              "#fb9f3a"
             ],
             [
              0.8888888888888888,
              "#fdca26"
             ],
             [
              1,
              "#f0f921"
             ]
            ],
            "type": "histogram2d"
           }
          ],
          "histogram2dcontour": [
           {
            "colorbar": {
             "outlinewidth": 0,
             "ticks": ""
            },
            "colorscale": [
             [
              0,
              "#0d0887"
             ],
             [
              0.1111111111111111,
              "#46039f"
             ],
             [
              0.2222222222222222,
              "#7201a8"
             ],
             [
              0.3333333333333333,
              "#9c179e"
             ],
             [
              0.4444444444444444,
              "#bd3786"
             ],
             [
              0.5555555555555556,
              "#d8576b"
             ],
             [
              0.6666666666666666,
              "#ed7953"
             ],
             [
              0.7777777777777778,
              "#fb9f3a"
             ],
             [
              0.8888888888888888,
              "#fdca26"
             ],
             [
              1,
              "#f0f921"
             ]
            ],
            "type": "histogram2dcontour"
           }
          ],
          "mesh3d": [
           {
            "colorbar": {
             "outlinewidth": 0,
             "ticks": ""
            },
            "type": "mesh3d"
           }
          ],
          "parcoords": [
           {
            "line": {
             "colorbar": {
              "outlinewidth": 0,
              "ticks": ""
             }
            },
            "type": "parcoords"
           }
          ],
          "pie": [
           {
            "automargin": true,
            "type": "pie"
           }
          ],
          "scatter": [
           {
            "marker": {
             "colorbar": {
              "outlinewidth": 0,
              "ticks": ""
             }
            },
            "type": "scatter"
           }
          ],
          "scatter3d": [
           {
            "line": {
             "colorbar": {
              "outlinewidth": 0,
              "ticks": ""
             }
            },
            "marker": {
             "colorbar": {
              "outlinewidth": 0,
              "ticks": ""
             }
            },
            "type": "scatter3d"
           }
          ],
          "scattercarpet": [
           {
            "marker": {
             "colorbar": {
              "outlinewidth": 0,
              "ticks": ""
             }
            },
            "type": "scattercarpet"
           }
          ],
          "scattergeo": [
           {
            "marker": {
             "colorbar": {
              "outlinewidth": 0,
              "ticks": ""
             }
            },
            "type": "scattergeo"
           }
          ],
          "scattergl": [
           {
            "marker": {
             "colorbar": {
              "outlinewidth": 0,
              "ticks": ""
             }
            },
            "type": "scattergl"
           }
          ],
          "scattermapbox": [
           {
            "marker": {
             "colorbar": {
              "outlinewidth": 0,
              "ticks": ""
             }
            },
            "type": "scattermapbox"
           }
          ],
          "scatterpolar": [
           {
            "marker": {
             "colorbar": {
              "outlinewidth": 0,
              "ticks": ""
             }
            },
            "type": "scatterpolar"
           }
          ],
          "scatterpolargl": [
           {
            "marker": {
             "colorbar": {
              "outlinewidth": 0,
              "ticks": ""
             }
            },
            "type": "scatterpolargl"
           }
          ],
          "scatterternary": [
           {
            "marker": {
             "colorbar": {
              "outlinewidth": 0,
              "ticks": ""
             }
            },
            "type": "scatterternary"
           }
          ],
          "surface": [
           {
            "colorbar": {
             "outlinewidth": 0,
             "ticks": ""
            },
            "colorscale": [
             [
              0,
              "#0d0887"
             ],
             [
              0.1111111111111111,
              "#46039f"
             ],
             [
              0.2222222222222222,
              "#7201a8"
             ],
             [
              0.3333333333333333,
              "#9c179e"
             ],
             [
              0.4444444444444444,
              "#bd3786"
             ],
             [
              0.5555555555555556,
              "#d8576b"
             ],
             [
              0.6666666666666666,
              "#ed7953"
             ],
             [
              0.7777777777777778,
              "#fb9f3a"
             ],
             [
              0.8888888888888888,
              "#fdca26"
             ],
             [
              1,
              "#f0f921"
             ]
            ],
            "type": "surface"
           }
          ],
          "table": [
           {
            "cells": {
             "fill": {
              "color": "#EBF0F8"
             },
             "line": {
              "color": "white"
             }
            },
            "header": {
             "fill": {
              "color": "#C8D4E3"
             },
             "line": {
              "color": "white"
             }
            },
            "type": "table"
           }
          ]
         },
         "layout": {
          "annotationdefaults": {
           "arrowcolor": "#2a3f5f",
           "arrowhead": 0,
           "arrowwidth": 1
          },
          "autotypenumbers": "strict",
          "coloraxis": {
           "colorbar": {
            "outlinewidth": 0,
            "ticks": ""
           }
          },
          "colorscale": {
           "diverging": [
            [
             0,
             "#8e0152"
            ],
            [
             0.1,
             "#c51b7d"
            ],
            [
             0.2,
             "#de77ae"
            ],
            [
             0.3,
             "#f1b6da"
            ],
            [
             0.4,
             "#fde0ef"
            ],
            [
             0.5,
             "#f7f7f7"
            ],
            [
             0.6,
             "#e6f5d0"
            ],
            [
             0.7,
             "#b8e186"
            ],
            [
             0.8,
             "#7fbc41"
            ],
            [
             0.9,
             "#4d9221"
            ],
            [
             1,
             "#276419"
            ]
           ],
           "sequential": [
            [
             0,
             "#0d0887"
            ],
            [
             0.1111111111111111,
             "#46039f"
            ],
            [
             0.2222222222222222,
             "#7201a8"
            ],
            [
             0.3333333333333333,
             "#9c179e"
            ],
            [
             0.4444444444444444,
             "#bd3786"
            ],
            [
             0.5555555555555556,
             "#d8576b"
            ],
            [
             0.6666666666666666,
             "#ed7953"
            ],
            [
             0.7777777777777778,
             "#fb9f3a"
            ],
            [
             0.8888888888888888,
             "#fdca26"
            ],
            [
             1,
             "#f0f921"
            ]
           ],
           "sequentialminus": [
            [
             0,
             "#0d0887"
            ],
            [
             0.1111111111111111,
             "#46039f"
            ],
            [
             0.2222222222222222,
             "#7201a8"
            ],
            [
             0.3333333333333333,
             "#9c179e"
            ],
            [
             0.4444444444444444,
             "#bd3786"
            ],
            [
             0.5555555555555556,
             "#d8576b"
            ],
            [
             0.6666666666666666,
             "#ed7953"
            ],
            [
             0.7777777777777778,
             "#fb9f3a"
            ],
            [
             0.8888888888888888,
             "#fdca26"
            ],
            [
             1,
             "#f0f921"
            ]
           ]
          },
          "colorway": [
           "#636efa",
           "#EF553B",
           "#00cc96",
           "#ab63fa",
           "#FFA15A",
           "#19d3f3",
           "#FF6692",
           "#B6E880",
           "#FF97FF",
           "#FECB52"
          ],
          "font": {
           "color": "#2a3f5f"
          },
          "geo": {
           "bgcolor": "white",
           "lakecolor": "white",
           "landcolor": "#E5ECF6",
           "showlakes": true,
           "showland": true,
           "subunitcolor": "white"
          },
          "hoverlabel": {
           "align": "left"
          },
          "hovermode": "closest",
          "mapbox": {
           "style": "light"
          },
          "paper_bgcolor": "white",
          "plot_bgcolor": "#E5ECF6",
          "polar": {
           "angularaxis": {
            "gridcolor": "white",
            "linecolor": "white",
            "ticks": ""
           },
           "bgcolor": "#E5ECF6",
           "radialaxis": {
            "gridcolor": "white",
            "linecolor": "white",
            "ticks": ""
           }
          },
          "scene": {
           "xaxis": {
            "backgroundcolor": "#E5ECF6",
            "gridcolor": "white",
            "gridwidth": 2,
            "linecolor": "white",
            "showbackground": true,
            "ticks": "",
            "zerolinecolor": "white"
           },
           "yaxis": {
            "backgroundcolor": "#E5ECF6",
            "gridcolor": "white",
            "gridwidth": 2,
            "linecolor": "white",
            "showbackground": true,
            "ticks": "",
            "zerolinecolor": "white"
           },
           "zaxis": {
            "backgroundcolor": "#E5ECF6",
            "gridcolor": "white",
            "gridwidth": 2,
            "linecolor": "white",
            "showbackground": true,
            "ticks": "",
            "zerolinecolor": "white"
           }
          },
          "shapedefaults": {
           "line": {
            "color": "#2a3f5f"
           }
          },
          "ternary": {
           "aaxis": {
            "gridcolor": "white",
            "linecolor": "white",
            "ticks": ""
           },
           "baxis": {
            "gridcolor": "white",
            "linecolor": "white",
            "ticks": ""
           },
           "bgcolor": "#E5ECF6",
           "caxis": {
            "gridcolor": "white",
            "linecolor": "white",
            "ticks": ""
           }
          },
          "title": {
           "x": 0.05
          },
          "xaxis": {
           "automargin": true,
           "gridcolor": "white",
           "linecolor": "white",
           "ticks": "",
           "title": {
            "standoff": 15
           },
           "zerolinecolor": "white",
           "zerolinewidth": 2
          },
          "yaxis": {
           "automargin": true,
           "gridcolor": "white",
           "linecolor": "white",
           "ticks": "",
           "title": {
            "standoff": 15
           },
           "zerolinecolor": "white",
           "zerolinewidth": 2
          }
         }
        }
       }
      }
     },
     "metadata": {},
     "output_type": "display_data"
    }
   ],
   "source": [
    "A_2d = A_unit*radial_A\n",
    "A_3d = np.concatenate([A_2d,np.linalg.norm(A_2d,axis=1).reshape(-1,1)**2],axis=1)\n",
    "B_2d = B_unit*radial_B\n",
    "B_3d = np.concatenate([B_2d,np.linalg.norm(B_2d,axis=1).reshape(-1,1)**2],axis=1)\n",
    "\n",
    "from Utils import scatter3d\n",
    "fig = scatter3d(A_3d[:,0],A_3d[:,1],A_3d[:,2])\n",
    "fig = scatter3d(B_3d[:,0],B_3d[:,1],B_3d[:,2],fig=fig,c='red')\n",
    "fig.show()"
   ]
  },
  {
   "cell_type": "markdown",
   "id": "d8325bcb",
   "metadata": {},
   "source": [
    "> Remember the extra dimension that we always add to simplify notation. Therefore the full $\\phi$ in the above examples is $\\hat \\phi(x) = (x_1,x_2,x_1^2+x_2^2,1)$.\n",
    "\n",
    "So if we transform the $x \\to \\phi(x)$ for some good transformation $\\phi$ then our perceptron will try to solve\n",
    "$$\n",
    "    w \\cdot \\phi(x_i)l_i > 0\n",
    "$$\n",
    "furthermore, remember how we constructed $w$ using the perceptron algorithms, i.e. using additions of $x_i l_i$, which transforms into $\\phi(x_i)l_i$, and we start with $w=0$, this gives that the weight has the form\n",
    "$$\n",
    "    w = \\sum_{i=1}^n c_i \\phi(x_i)\n",
    "$$\n",
    "for numbers $c_i$. The perceptron algorithm becomes just addition and subtraction of certain $c_i$'s by 1."
   ]
  },
  {
   "cell_type": "markdown",
   "id": "3e5833e0",
   "metadata": {},
   "source": [
    "Furthermore\n",
    "$$\n",
    "    w \\cdot \\phi(x_i) = \\sum_{i=1}^n c_j \\phi(x_j) \\cdot \\phi(x_i) = \\sum_{i=1}^n c_i k_{ij}\n",
    "$$\n",
    "where $k_{ij} = \\phi(x_i) \\cdot \\phi(x_j)$."
   ]
  },
  {
   "cell_type": "markdown",
   "id": "d7c62953",
   "metadata": {},
   "source": [
    "Is it easy to find such a mapping $\\phi$? No, it is actually quite difficult. Furthermore, if the mapping $\\phi$ is high dimensional we might need to do alot of computation, which is not so efficient. What if we had a function $k(x,y)$ that could be written as\n",
    "$$\n",
    "    k(x,y) = \\phi(x) \\cdot \\phi(y)\n",
    "$$\n",
    "for some $\\phi$ and $k$ is easier to compute, then our life would be simpler. Also, what if we are given a function $k(x,y)$ and we would like to know if it is a \"kernel function\".\n",
    "\n",
    "### Lemma\n",
    "If $k_{ij}$ is symmetric and positive semidefinite, then there is a mapping $\\phi$ such that\n",
    "$k_{ij} = \\phi(x_i)\\phi(x_j)$.\n",
    "\n",
    "### Proof\n",
    "1. $k = Q \\Lambda Q^T$ (eigendecomposition)\n",
    "2. $k$ is positive definite, all eigenvalues $\\geq 0$, so we can define $B = Q \\Lambda^{1/2}$.\n",
    "3. $k = B B^T$\n",
    "4. define $\\phi(x_i) = B_{i\\cdot}$, i.e. the $i$:th row of $B$, then $k_{ij} = \\phi(x_i)\\cdot \\phi(x_j)$.\n",
    "\n",
    "\n",
    "We now have a way to identify whenever a matrix $k$ is a kernel matrix. There are some standard choices of kernel functions one could try, that produces positive semi-definite matrices whenever all points $x_i$ are distinct.\n",
    "1. $k(x,y) = e^{-\\gamma |x-y|}$, called Radial Basis Function\n",
    "2. $k(x,y) = (\\gamma x \\cdot y + r)^d$, polynomial\n",
    "3. $k(x,y) = x \\cdot y$, linear\n",
    "4. $k(x,y) = \\tanh(\\gamma x \\cdot y + r)$, sigmoidal\n",
    "\n",
    "\n",
    "### Definition\n",
    "> We call a function $k(x,y)$ a kernel function if there is a mapping $\\phi$ such that $k(x,y) = \\phi(x) \\cdot \\phi(y)$.\n",
    "\n",
    "### Theorem (properties)\n",
    "Suppose $k_1,k_2$ are kernel functions. Then\n",
    "1. For any constant $c \\geq 0$, $c k_1$ is a kernel function.\n",
    "2. For any scalar function $f$, $k(x,y) = f(x)f(y)k_1(x,y)$ is a kernel function.\n",
    "3. $k_1 + k_2$ is a kernel function.\n",
    "4. $k_1k_2$ is a kernel function."
   ]
  },
  {
   "cell_type": "markdown",
   "id": "e956e390",
   "metadata": {},
   "source": [
    "## Let me cheat a bit\n",
    "\n",
    "As we have noted, the perceptron converges in finite time if the set is linearly separable. The way to solve this problem is to introduce a \"cost function\" that penalizes misses in classification, the goal is then to minimize the total cost. The perceptron becomes the Support Vector Machine in this case, the loss is the so called \"hinge loss\"\n",
    "$$\n",
    "    \\min(0,1-w \\cdot x_i l_i)\n",
    "$$\n",
    "this means that if $w \\cdot x_i l_i \\geq 1$ (which is the requirement for the perceptron) we have 0 cost, but if we are closer to the plane $w \\cdot x = 0$ then there is a cost proportional to 1 - distance.\n",
    "\n",
    "Consider the problem of differentiating between the following handwritten digits, where $c^\\ast$ is the set of digits greater than or equal to 5."
   ]
  },
  {
   "cell_type": "code",
   "execution_count": 7,
   "id": "d96d45f1",
   "metadata": {},
   "outputs": [
    {
     "data": {
      "image/png": "[encoded data removed]",
      "text/plain": [
       "<Figure size 432x288 with 10 Axes>"
      ]
     },
     "metadata": {
      "needs_background": "light"
     },
     "output_type": "display_data"
    }
   ],
   "source": [
    "from math import floor\n",
    "from sklearn.datasets import load_digits\n",
    "import matplotlib.pyplot as plt\n",
    "from sklearn.datasets import load_digits\n",
    "digits = load_digits()\n",
    "fig, ax = plt.subplots(2,5)\n",
    "plt.gray()\n",
    "for i in range(10):\n",
    "    row = floor(i/5)\n",
    "    column = i % 5\n",
    "    ax[row,column].imshow(digits['data'][i,:].reshape(8,8))"
   ]
  },
  {
   "cell_type": "code",
   "execution_count": 8,
   "id": "96ba8b1d",
   "metadata": {},
   "outputs": [
    {
     "data": {
      "text/plain": [
       "SVC(kernel='linear')"
      ]
     },
     "execution_count": 8,
     "metadata": {},
     "output_type": "execute_result"
    }
   ],
   "source": [
    "from sklearn.svm import SVC\n",
    "\n",
    "labels = digits['target'] > 5\n",
    "\n",
    "X = digits['data']\n",
    "\n",
    "from sklearn.model_selection import train_test_split\n",
    "X_train, X_test, Y_train, Y_test = train_test_split(X,labels,)\n",
    "\n",
    "per = SVC(kernel='linear')\n",
    "\n",
    "per.fit(X_train,Y_train)"
   ]
  },
  {
   "cell_type": "code",
   "execution_count": 9,
   "id": "81a54e5d",
   "metadata": {},
   "outputs": [
    {
     "data": {
      "text/plain": [
       "0.9133333333333333"
      ]
     },
     "execution_count": 9,
     "metadata": {},
     "output_type": "execute_result"
    }
   ],
   "source": [
    "per.score(X_test, Y_test)"
   ]
  },
  {
   "cell_type": "code",
   "execution_count": 10,
   "id": "6f9b6455",
   "metadata": {},
   "outputs": [
    {
     "name": "stdout",
     "output_type": "stream",
     "text": [
      "Training precision: \t 0.8864142538975501\n",
      "Test precision: \t 0.9133333333333333\n"
     ]
    }
   ],
   "source": [
    "print(\"Training precision: \\t\", per.score(X_train,Y_train))\n",
    "\n",
    "print(\"Test precision: \\t\", per.score(X_test,Y_test))"
   ]
  },
  {
   "cell_type": "markdown",
   "id": "79096957",
   "metadata": {},
   "source": [
    "This is really interesting right? With just a linear classifier we can differentiate between digits less than and larger than 5 using a linear classifier up to 88% correct..."
   ]
  },
  {
   "cell_type": "markdown",
   "id": "181176b8",
   "metadata": {},
   "source": [
    "But, we talked about the fact that different kernels might improve things. A famous kernel is the Radial Basis Function kernel, which we showed above. Lets try it"
   ]
  },
  {
   "cell_type": "markdown",
   "id": "6f1fe621",
   "metadata": {},
   "source": [
    "### The Radial Basis Function Kernel"
   ]
  },
  {
   "cell_type": "code",
   "execution_count": 11,
   "id": "d2c7d8f7",
   "metadata": {},
   "outputs": [
    {
     "name": "stdout",
     "output_type": "stream",
     "text": [
      "Training precision: \t 0.9873793615441723\n",
      "Test precision: \t 0.9866666666666667\n"
     ]
    }
   ],
   "source": [
    "from sklearn.svm import SVC\n",
    "\n",
    "labels = digits['target'] > 5\n",
    "\n",
    "X = digits['data']\n",
    "\n",
    "from sklearn.model_selection import train_test_split\n",
    "X_train, X_test, Y_train, Y_test = train_test_split(X,labels)\n",
    "\n",
    "per = SVC(kernel='rbf')\n",
    "\n",
    "per.fit(X_train,Y_train)\n",
    "\n",
    "print(\"Training precision: \\t\", per.score(X_train,Y_train))\n",
    "\n",
    "print(\"Test precision: \\t\", per.score(X_test,Y_test))"
   ]
  },
  {
   "cell_type": "markdown",
   "id": "be7c2126",
   "metadata": {},
   "source": [
    "This is borderline crazy, how can we differentiate between these digits at 98% accuracy?\n",
    "I would leave this up to you to think about. But the fact is that it does work well."
   ]
  },
  {
   "cell_type": "markdown",
   "id": "cd3923af",
   "metadata": {},
   "source": [
    "## Probabilistic viewpoint\n",
    "\n",
    "Another model for the pattern recognition problem that has a probabilistic interpretation is the logistic regression (See Chapter 4) in the notes. In this model, we make the ansatz that the target variable, only takes values $0$ or $1$ and thus the conditional distribution of the target given the feature is thus a Bernoulli random variable. The model is thus that the $p$ in the Bernoulli is given as a function of $x$ (the feature). \n",
    "\n",
    "Let us consider the following classical wine quality dataset.\n",
    "This dataset is actually built into sklearn and we can load it as follows"
   ]
  },
  {
   "cell_type": "code",
   "execution_count": 12,
   "id": "ee02e515",
   "metadata": {},
   "outputs": [],
   "source": [
    "import ssl \n",
    "# this hack of unverified ssl context is not recommended and \n",
    "#unnecessary if you do: 'sage --pip install certifi' in your \n",
    "#bash shell after installing SageMath\n",
    "ssl._create_default_https_context = ssl._create_unverified_context\n",
    "\n",
    "import sklearn.datasets as datasets\n",
    "X, Y = datasets.load_wine(return_X_y=True)"
   ]
  },
  {
   "cell_type": "markdown",
   "id": "4ea05be4",
   "metadata": {},
   "source": [
    "<div class=\"section\" id=\"wine-recognition-dataset\">\n",
    "<span id=\"wine-dataset\"></span><h3>Wine recognition dataset<a class=\"headerlink\" href=\"#wine-recognition-dataset\" title=\"Permalink to this headline\">¶</a></h3>\n",
    "<p><strong>Data Set Characteristics:</strong></p>\n",
    "<blockquote>\n",
    "<div><dl class=\"field-list simple\">\n",
    "<dt class=\"field-odd\">Number of Instances</dt>\n",
    "<dd class=\"field-odd\"><p>178 (50 in each of three classes)</p>\n",
    "</dd>\n",
    "<dt class=\"field-even\">Number of Attributes</dt>\n",
    "<dd class=\"field-even\"><p>13 numeric, predictive attributes and the class</p>\n",
    "</dd>\n",
    "<dt class=\"field-odd\">Attribute Information</dt>\n",
    "<dd class=\"field-odd\"><ul class=\"simple\">\n",
    "<li><p>Alcohol</p></li>\n",
    "<li><p>Malic acid</p></li>\n",
    "<li><p>Ash</p></li>\n",
    "<li><p>Alcalinity of ash</p></li>\n",
    "<li><p>Magnesium</p></li>\n",
    "<li><p>Total phenols</p></li>\n",
    "<li><p>Flavanoids</p></li>\n",
    "<li><p>Nonflavanoid phenols</p></li>\n",
    "<li><p>Proanthocyanins</p></li>\n",
    "<li><p>Color intensity</p></li>\n",
    "<li><p>Hue</p></li>\n",
    "<li><p>OD280/OD315 of diluted wines</p></li>\n",
    "<li><p>Proline</p></li>\n",
    "</ul>\n",
    "</dd>\n",
    "</dl>\n",
    "<ul class=\"simple\">\n",
    "<li><dl class=\"simple\">\n",
    "<dt>class:</dt><dd><ul>\n",
    "<li><p>class_0</p></li>\n",
    "<li><p>class_1</p></li>\n",
    "<li><p>class_2</p></li>\n",
    "</ul>\n",
    "</dd>\n",
    "</dl>\n",
    "</li>\n",
    "</ul>"
   ]
  },
  {
   "cell_type": "markdown",
   "id": "1e88d92e",
   "metadata": {},
   "source": [
    "The wine have been grown by three different cultivators in Italy, the goal is to predict which cultivator actually made the wine base on what we can measure."
   ]
  },
  {
   "cell_type": "markdown",
   "id": "6d782fa1",
   "metadata": {},
   "source": [
    "We will simplify this problem by making sure that we only have two possible classes, lets try to differentiate between `class_2` and the other cultivators. Lets convert our data so that this is the case"
   ]
  },
  {
   "cell_type": "code",
   "execution_count": 13,
   "id": "61989353",
   "metadata": {},
   "outputs": [
    {
     "data": {
      "text/plain": [
       "array([0, 0, 0, 0, 0, 0, 0, 0, 0, 0, 0, 0, 0, 0, 0, 0, 0, 0, 0, 0, 0, 0,\n",
       "       0, 0, 0, 0, 0, 0, 0, 0, 0, 0, 0, 0, 0, 0, 0, 0, 0, 0, 0, 0, 0, 0,\n",
       "       0, 0, 0, 0, 0, 0, 0, 0, 0, 0, 0, 0, 0, 0, 0, 0, 0, 0, 0, 0, 0, 0,\n",
       "       0, 0, 0, 0, 0, 0, 0, 0, 0, 0, 0, 0, 0, 0, 0, 0, 0, 0, 0, 0, 0, 0,\n",
       "       0, 0, 0, 0, 0, 0, 0, 0, 0, 0, 0, 0, 0, 0, 0, 0, 0, 0, 0, 0, 0, 0,\n",
       "       0, 0, 0, 0, 0, 0, 0, 0, 0, 0, 0, 0, 0, 0, 0, 0, 0, 0, 0, 0, 1, 1,\n",
       "       1, 1, 1, 1, 1, 1, 1, 1, 1, 1, 1, 1, 1, 1, 1, 1, 1, 1, 1, 1, 1, 1,\n",
       "       1, 1, 1, 1, 1, 1, 1, 1, 1, 1, 1, 1, 1, 1, 1, 1, 1, 1, 1, 1, 1, 1,\n",
       "       1, 1])"
      ]
     },
     "execution_count": 13,
     "metadata": {},
     "output_type": "execute_result"
    }
   ],
   "source": [
    "Y_binary = (Y > 1)*1\n",
    "Y_binary"
   ]
  },
  {
   "cell_type": "code",
   "execution_count": 14,
   "id": "e9ebab80",
   "metadata": {},
   "outputs": [
    {
     "data": {
      "text/plain": [
       "(178, 13)"
      ]
     },
     "execution_count": 14,
     "metadata": {},
     "output_type": "execute_result"
    }
   ],
   "source": [
    "X.shape # 178 samples and 13 features"
   ]
  },
  {
   "cell_type": "code",
   "execution_count": 15,
   "id": "cdf96699",
   "metadata": {},
   "outputs": [
    {
     "data": {
      "text/plain": [
       "(178,)"
      ]
     },
     "execution_count": 15,
     "metadata": {},
     "output_type": "execute_result"
    }
   ],
   "source": [
    "Y_binary.shape # 178 samples"
   ]
  },
  {
   "cell_type": "markdown",
   "id": "53e65af9",
   "metadata": {},
   "source": [
    "We will now try to apply the logistic regression model, recall the logistic function $\\frac{1}{1+e^{-x}}$"
   ]
  },
  {
   "cell_type": "code",
   "execution_count": 16,
   "id": "7deff32e",
   "metadata": {},
   "outputs": [
    {
     "data": {
      "text/plain": [
       "[<matplotlib.lines.Line2D at 0x7fe252338550>]"
      ]
     },
     "execution_count": 16,
     "metadata": {},
     "output_type": "execute_result"
    },
    {
     "data": {
      "image/png": "[encoded data removed]",
      "text/plain": [
       "<Figure size 432x288 with 1 Axes>"
      ]
     },
     "metadata": {
      "needs_background": "light"
     },
     "output_type": "display_data"
    }
   ],
   "source": [
    "x = np.linspace(-10,10,100)\n",
    "plt.plot(x,1/(1+np.exp(-x)))"
   ]
  },
  {
   "cell_type": "markdown",
   "id": "eef2f27b",
   "metadata": {},
   "source": [
    "To start, we are going to put everything on unit scale (for us this is only to simplify plotting). The unit scale is done using `StandardScaler` which takes each feature in `X` and rescales so that the mean is zero and standard deviation is $1$.\n",
    "\n",
    "The second thing we are going to do is to consider only one feature, $X$ has $13$ features, I have for your pleasure chosen the feature with index $9$ (most visual)."
   ]
  },
  {
   "cell_type": "code",
   "execution_count": 17,
   "id": "60c524ee",
   "metadata": {},
   "outputs": [],
   "source": [
    "from sklearn.preprocessing import StandardScaler\n",
    "sc = StandardScaler()\n",
    "X_sc = sc.fit_transform(X)\n",
    "Y1 = 2*Y_binary-1 # Transform into +-1"
   ]
  },
  {
   "cell_type": "code",
   "execution_count": 29,
   "id": "682d88ba",
   "metadata": {},
   "outputs": [],
   "source": [
    "# Uncomment and run to understand what it does\n",
    "#?StandardScaler"
   ]
  },
  {
   "cell_type": "code",
   "execution_count": 18,
   "id": "2b90d522",
   "metadata": {},
   "outputs": [
    {
     "data": {
      "text/plain": [
       "  message: CONVERGENCE: REL_REDUCTION_OF_F_<=_FACTR*EPSMCH\n",
       "  success: True\n",
       "   status: 0\n",
       "      fun: 67.32689020081213\n",
       "        x: [-1.433e+00  1.840e+00]\n",
       "      nit: 8\n",
       "      jac: [-3.553e-05  2.132e-05]\n",
       "     nfev: 30\n",
       "     njev: 10\n",
       " hess_inv: <2x2 LbfgsInvHessProduct with dtype=float64>"
      ]
     },
     "execution_count": 18,
     "metadata": {},
     "output_type": "execute_result"
    }
   ],
   "source": [
    "import numpy as np\n",
    "from scipy import optimize\n",
    "\n",
    "# define the objective/cost/loss function we want to minimise\n",
    "def f(x):\n",
    "    return np.sum(np.log(1+np.exp(-Y1*(x[0] + x[1]*X_sc[:,9]))))\n",
    "\n",
    "# multi-dimensional optimisation is syntactically similar to 1D, \n",
    "# but we are using Gradient and Hessian information from numerical evaluation of f to \n",
    "# iteratively improve the solution along the steepest direction, etc. \n",
    "# It 'LBFGS' method you will see in scientific computing\n",
    "parameter_bounding_box=((-10, 2), (-10, 2)) # specify the constraints for each parameter\n",
    "initial_arguments = np.array([0, 0]) # point in 2D to initialise the minimize algorithm\n",
    "result = optimize.minimize(f, initial_arguments, bounds=parameter_bounding_box,) # just call the minimize method!\n",
    "result"
   ]
  },
  {
   "cell_type": "code",
   "execution_count": 19,
   "id": "697ea5fb",
   "metadata": {},
   "outputs": [],
   "source": [
    "result_func= lambda z: 1/(1+np.exp(-result.x[0]-result.x[1]*z))"
   ]
  },
  {
   "cell_type": "code",
   "execution_count": 20,
   "id": "6117fc24",
   "metadata": {},
   "outputs": [
    {
     "data": {
      "text/plain": [
       "[<matplotlib.lines.Line2D at 0x7fe2416520d0>]"
      ]
     },
     "execution_count": 20,
     "metadata": {},
     "output_type": "execute_result"
    },
    {
     "data": {
      "image/png": "[encoded data removed]",
      "text/plain": [
       "<Figure size 432x288 with 1 Axes>"
      ]
     },
     "metadata": {
      "needs_background": "light"
     },
     "output_type": "display_data"
    }
   ],
   "source": [
    "plt.scatter(X_sc[:,9],Y_binary)\n",
    "plt.plot(x,result_func(x))\n",
    "#P = points(zip(X_sc[:,9],Y_binary))\n",
    "#P+= plot(result_func,-10,10)\n",
    "#P+= plot(0.5,color='grey')\n",
    "#show(P)"
   ]
  },
  {
   "cell_type": "markdown",
   "id": "b5ae630a",
   "metadata": {},
   "source": [
    "Lets try to do the same thing with the ready made `LogisticRegression` in `sklearn`"
   ]
  },
  {
   "cell_type": "code",
   "execution_count": 21,
   "id": "80716a5d",
   "metadata": {},
   "outputs": [
    {
     "data": {
      "text/plain": [
       "LogisticRegression(penalty='none')"
      ]
     },
     "execution_count": 21,
     "metadata": {},
     "output_type": "execute_result"
    }
   ],
   "source": [
    "from sklearn.linear_model import LogisticRegression\n",
    "logreg = LogisticRegression(penalty='none')\n",
    "logreg.fit(X_sc[:,9].reshape(-1,1),Y_binary)"
   ]
  },
  {
   "cell_type": "code",
   "execution_count": 22,
   "id": "180ba3f0",
   "metadata": {},
   "outputs": [
    {
     "data": {
      "text/plain": [
       "(array([[1.84018447]]), array([-1.43278738]))"
      ]
     },
     "execution_count": 22,
     "metadata": {},
     "output_type": "execute_result"
    }
   ],
   "source": [
    "(logreg.coef_,logreg.intercept_)"
   ]
  },
  {
   "cell_type": "markdown",
   "id": "3f246dec",
   "metadata": {},
   "source": [
    "As we can see, we get the same result and it is very easy to write the code. **But now you know what is under the hood, so if you need to apply a different model, you can do it yourself.**"
   ]
  },
  {
   "cell_type": "markdown",
   "id": "c476224a",
   "metadata": {},
   "source": []
  }
 ],
 "metadata": {
  "kernelspec": {
   "display_name": "base",
   "language": "python",
   "name": "python3"
  },
  "language_info": {
   "codemirror_mode": {
    "name": "ipython",
    "version": 3
   },
   "file_extension": ".py",
   "mimetype": "text/x-python",
   "name": "python",
   "nbconvert_exporter": "python",
   "pygments_lexer": "ipython3",
   "version": "3.9.12"
  },
  "lx_course_instance": "2024",
  "lx_course_name": "Introduction to Data Science",
  "lx_course_number": "1MS041"
 },
 "nbformat": 4,
 "nbformat_minor": 5
}
