{
 "cells": [
  {
   "cell_type": "markdown",
   "id": "183a8006",
   "metadata": {
    "deletable": false
   },
   "source": [
    "# [Introduction to Data Science](http://datascience-intro.github.io/1MS041-2024/)    \n",
    "## 1MS041, 2024 \n",
    "&copy;2024 Raazesh Sainudiin, Benny Avelin. [Attribution 4.0 International     (CC BY 4.0)](https://creativecommons.org/licenses/by/4.0/)"
   ]
  },
  {
   "cell_type": "markdown",
   "id": "92cac8e6",
   "metadata": {},
   "source": [
    "# Estimating the distribution function\n"
   ]
  },
  {
   "cell_type": "markdown",
   "id": "cf9b937d",
   "metadata": {},
   "source": [
    "Suppose we don't know what the distribution function (DF) is?  We are not trying to estimate some fixed but unknown parameter $\\theta^*$ for some RV we are assuming to be $Bernoulli(\\theta^*)$, we are trying to estimate the DF itself.  In real life, data does not come neatly labeled \"I am a realisation of a $Bernoulli$ RV\", or \"I am a realisation of an $Exponential$ RV\": an important part of inference and estimation is to make inferences about the DF itself from our observations.   \n",
    "\n",
    "### Observations from some unknown process\n",
    "<img src=\"images/unknownProcessTimesAnim.gif\" width=400>\n",
    "\n",
    "Consider the following non-parametric product experiment:\n",
    "\n",
    "$$X_1, X_2, \\ldots, X_n\\ \\overset{IID}{\\sim} F^* \\in \\{\\text{all DFs}\\}$$\n",
    "\n",
    "We want to produce a point estimate for $F^*$, which is a allowed to be any DF (\"lives in the set of all DFs\"), i.e., $F^* \\in \\{\\text{all DFs}\\}$\n",
    "\n",
    "Crucially, $\\{\\text{all DFs}\\}$, i.e., the set of all distribution functions over $\\mathbb{R}$ is infinite dimensional.\n",
    "\n",
    "<img src=\"images/TwoDFs.png\" width=400>\n",
    "\n",
    "We have already seen an estimate, made using the data, of a distribution function:  the empirical or data-based distribution function (or empirical cumulative distribution function). This can be formalized as the following process of adding indicator functions of the half-lines beginning at the data points $[X_1,+\\infty),[X_2,+\\infty),\\ldots,[X_n,+\\infty)$:\n",
    "\n",
    "$$\\widehat{F}_n (x) = \\frac{1}{n} \\sum_{i=1}^n \\mathbf{1}_{[X_i,+\\infty)}(x)$$\n",
    "\n",
    "\n",
    "where,\n",
    "\n",
    "$$\\mathbf{1}_{[X_i,+\\infty)}(x) := \\begin{cases} & 1 \\quad \\text{ if } X_i \\leq x \\\\ & 0 \\quad \\text{ if }X_i > x \\end{cases}$$\n",
    "\n",
    "Lets take a look at this for an example"
   ]
  },
  {
   "cell_type": "code",
   "execution_count": 1,
   "id": "1c55f0b4",
   "metadata": {},
   "outputs": [
    {
     "name": "stdout",
     "output_type": "stream",
     "text": [
      "[[0.    0.338]\n",
      " [1.    0.709]\n",
      " [2.    0.92 ]\n",
      " [3.    0.972]\n",
      " [4.    0.996]\n",
      " [5.    1.   ]]\n"
     ]
    },
    {
     "data": {
      "image/png": "[encoded data removed]",
      "text/plain": [
       "<Figure size 432x288 with 1 Axes>"
      ]
     },
     "metadata": {
      "needs_background": "light"
     },
     "output_type": "display_data"
    }
   ],
   "source": [
    "import numpy as np\n",
    "X = np.random.poisson(1,size=1000)\n",
    "from Utils import makeEDF, makeEMF, plotEDF\n",
    "print(makeEDF(X))\n",
    "plotEDF(makeEDF(X))"
   ]
  },
  {
   "cell_type": "markdown",
   "id": "0341b821",
   "metadata": {},
   "source": [
    "## Dvoretsky-Kiefer-Wolfowitz (DKW) Inequality\n",
    "\n",
    "Let $X_1, X_2, \\ldots, X_n \\overset{IID}{\\sim} F^* \\in \\{\\text{all DFs}\\}$\n",
    "\n",
    "and the empirical distribution function (EDF) is $\\widehat{F}_n(x) := \\displaystyle\\frac{1}{n} \\sum_{i=1}^n \\mathbf{1}_{[X_i,+\\infty)}(x)$,\n",
    "\n",
    "then, for any $\\varepsilon > 0$,\n",
    "\n",
    "$$P\\left( \\sup_x { | \\widehat{F}_n(x) - F^*(x) | > \\varepsilon  }\\right) \\leq 2 \\exp(-2n\\varepsilon^2) $$\n",
    "\n",
    "We can use this inequality to get a $1-\\alpha$ confidence band $C_n(x) := \\left[\\underline{C}_n(x), \\overline{C}_n(x)\\right]$ about our point estimate $\\widehat{F}_n$ of our possibly unknown $F^*$ such that the $F^*$ is 'trapped' by the band with probability at least $1-\\varepsilon$.\n",
    "\n",
    "$$\n",
    "\\begin{aligned} \n",
    "    \\underline{C}_{\\, n}(x) &= \\max \\{ \\widehat{F}_n(x)-\\varepsilon_n, 0 \\}, \\notag \\\\ \n",
    "    \\overline{C}_{\\, n}(x) &= \\min \\{ \\widehat{F}_n(x)+\\varepsilon_n, 1 \\}, \\notag \\\\ \n",
    "    \\varepsilon_n &= \\sqrt{ \\frac{1}{2n} \\log \\left( \\frac{2}{\\alpha}\\right)} \\\\ \n",
    "\\end{aligned}\n",
    "$$\n",
    "\n",
    "and\n",
    "\n",
    "$$P\\left(\\underline{C}_n(x) \\leq F^*(x) \\leq \\overline{C}_n(x)\\right) \\geq 1-\\alpha$$"
   ]
  },
  {
   "cell_type": "markdown",
   "id": "61d362e9",
   "metadata": {},
   "source": [
    "# Estimating the density\n",
    "\n",
    "For a discrete random variable, estimating the density (pmf) is as simple as using the empirical pmf"
   ]
  },
  {
   "cell_type": "code",
   "execution_count": 2,
   "id": "a32d5e6d",
   "metadata": {},
   "outputs": [
    {
     "name": "stdout",
     "output_type": "stream",
     "text": [
      "[[0.00e+00 3.38e-01]\n",
      " [1.00e+00 3.71e-01]\n",
      " [2.00e+00 2.11e-01]\n",
      " [3.00e+00 5.20e-02]\n",
      " [4.00e+00 2.40e-02]\n",
      " [5.00e+00 4.00e-03]]\n"
     ]
    },
    {
     "data": {
      "image/png": "[encoded data removed]",
      "text/plain": [
       "<Figure size 432x288 with 1 Axes>"
      ]
     },
     "metadata": {
      "needs_background": "light"
     },
     "output_type": "display_data"
    }
   ],
   "source": [
    "from Utils import plotEMF\n",
    "print(makeEMF(X))\n",
    "plotEMF(makeEMF(X))"
   ]
  },
  {
   "cell_type": "markdown",
   "id": "801c2934",
   "metadata": {},
   "source": [
    "## For a continuous random variable\n",
    "\n",
    "For a continuous random variable we cannot really use the pmf, instead we consider something like a histogram"
   ]
  },
  {
   "cell_type": "code",
   "execution_count": 3,
   "id": "68457eb0",
   "metadata": {
    "scrolled": false
   },
   "outputs": [
    {
     "data": {
      "image/png": "[encoded data removed]",
      "text/plain": [
       "<Figure size 432x288 with 1 Axes>"
      ]
     },
     "metadata": {
      "needs_background": "light"
     },
     "output_type": "display_data"
    }
   ],
   "source": [
    "import matplotlib.pyplot as plt\n",
    "Y = np.random.normal(size=1000)\n",
    "freq,bins,_ = plt.hist(Y,density=True,bins=50)"
   ]
  },
  {
   "cell_type": "code",
   "execution_count": 4,
   "id": "a8ad1bbd",
   "metadata": {},
   "outputs": [
    {
     "name": "stdout",
     "output_type": "stream",
     "text": [
      "     Bin \t Freq\n",
      "[-3.11,-2.99] \t 0.01\n",
      "[-2.99,-2.87] \t 0.02\n",
      "[-2.87,-2.74] \t 0.01\n",
      "[-2.74,-2.62] \t 0.01\n",
      "[-2.62,-2.50] \t 0.02\n",
      "[-2.50,-2.38] \t 0.03\n",
      "[-2.38,-2.25] \t 0.03\n",
      "[-2.25,-2.13] \t 0.03\n",
      "[-2.13,-2.01] \t 0.03\n",
      "[-2.01,-1.89] \t 0.06\n",
      "[-1.89,-1.76] \t 0.08\n",
      "[-1.76,-1.64] \t 0.12\n",
      "[-1.64,-1.52] \t 0.14\n",
      "[-1.52,-1.39] \t 0.23\n",
      "[-1.39,-1.27] \t 0.21\n",
      "[-1.27,-1.15] \t 0.20\n",
      "[-1.15,-1.03] \t 0.19\n",
      "[-1.03,-0.90] \t 0.30\n",
      "[-0.90,-0.78] \t 0.28\n",
      "[-0.78,-0.66] \t 0.35\n",
      "[-0.66,-0.53] \t 0.37\n",
      "[-0.53,-0.41] \t 0.28\n",
      "[-0.41,-0.29] \t 0.37\n",
      "[-0.29,-0.17] \t 0.33\n",
      "[-0.17,-0.04] \t 0.43\n",
      "[-0.04,0.08] \t 0.35\n",
      "[0.08,0.20] \t 0.42\n",
      "[0.20,0.32] \t 0.44\n",
      "[0.32,0.45] \t 0.36\n",
      "[0.45,0.57] \t 0.32\n",
      "[0.57,0.69] \t 0.31\n",
      "[0.69,0.82] \t 0.29\n",
      "[0.82,0.94] \t 0.29\n",
      "[0.94,1.06] \t 0.17\n",
      "[1.06,1.18] \t 0.20\n",
      "[1.18,1.31] \t 0.13\n",
      "[1.31,1.43] \t 0.11\n",
      "[1.43,1.55] \t 0.18\n",
      "[1.55,1.68] \t 0.06\n",
      "[1.68,1.80] \t 0.08\n",
      "[1.80,1.92] \t 0.08\n",
      "[1.92,2.04] \t 0.07\n",
      "[2.04,2.17] \t 0.04\n",
      "[2.17,2.29] \t 0.00\n",
      "[2.29,2.41] \t 0.02\n",
      "[2.41,2.53] \t 0.04\n",
      "[2.53,2.66] \t 0.02\n",
      "[2.66,2.78] \t 0.01\n",
      "[2.78,2.90] \t 0.01\n",
      "[2.90,3.03] \t 0.01\n"
     ]
    }
   ],
   "source": [
    "print(\"     Bin \\t Freq\")\n",
    "for frq,l_edge,r_edge in zip(freq,bins,bins[1:]):\n",
    "    print(\"[%.2f,%.2f] \\t %.2f\" % (l_edge,r_edge,frq))"
   ]
  },
  {
   "cell_type": "markdown",
   "id": "a5f5a143",
   "metadata": {},
   "source": [
    "Whenever we want to use a histogram estimator, we need to decide how many bins we are going to need. This is a topic for another day."
   ]
  },
  {
   "cell_type": "markdown",
   "id": "47b23413",
   "metadata": {},
   "source": [
    "# Regression example of risk minimization\n",
    "\n",
    "Consider the following house price data"
   ]
  },
  {
   "cell_type": "code",
   "execution_count": 5,
   "id": "cde191cb",
   "metadata": {},
   "outputs": [],
   "source": [
    "import csv\n",
    "data = []\n",
    "header = []\n",
    "with open('data/portland.csv', mode='r') as f:\n",
    "    reader = csv.reader(f)\n",
    "    header = tuple(next(reader))\n",
    "    for row in reader:\n",
    "        try:\n",
    "            data.append((int(row[0]),int(row[1]),int(row[2])))\n",
    "        except e:\n",
    "            print(e)"
   ]
  },
  {
   "cell_type": "code",
   "execution_count": 6,
   "id": "88e1227b",
   "metadata": {},
   "outputs": [
    {
     "name": "stdout",
     "output_type": "stream",
     "text": [
      "('Size of the house (in square feet)', 'Number of bedrooms', 'Price of the house')\n",
      "[(2104, 3, 399900)]\n"
     ]
    }
   ],
   "source": [
    "print(header)\n",
    "print(data[:1])"
   ]
  },
  {
   "cell_type": "markdown",
   "id": "b4dc918c",
   "metadata": {},
   "source": [
    "Lets think that the data generator $X$ is here the size of the house and the $Y$ is the price of the house."
   ]
  },
  {
   "cell_type": "code",
   "execution_count": 7,
   "id": "4f788b8d",
   "metadata": {},
   "outputs": [],
   "source": [
    "import numpy as np\n",
    "D = np.array(data)\n",
    "X = D[:,0]\n",
    "Y = D[:,2]"
   ]
  },
  {
   "cell_type": "code",
   "execution_count": 8,
   "id": "f61c07a7",
   "metadata": {},
   "outputs": [
    {
     "data": {
      "text/plain": [
       "<matplotlib.collections.PathCollection at 0x7f80591c3f40>"
      ]
     },
     "execution_count": 8,
     "metadata": {},
     "output_type": "execute_result"
    },
    {
     "data": {
      "image/png": "[encoded data removed]",
      "text/plain": [
       "<Figure size 432x288 with 1 Axes>"
      ]
     },
     "metadata": {
      "needs_background": "light"
     },
     "output_type": "display_data"
    }
   ],
   "source": [
    "import matplotlib.pyplot as plt\n",
    "plt.scatter(X,Y)"
   ]
  },
  {
   "cell_type": "markdown",
   "id": "ba372db6",
   "metadata": {},
   "source": [
    "## Linear regression\n",
    "\n",
    "An example of a learning machine is linear regression with quadratic loss. What we have is essentially\n",
    "\n",
    "* The loss is the quadratic function\n",
    "* We are searching among linear functions, $g_{k,m}(x) = kx+m$.\n",
    "\n",
    "$$\n",
    "    k^\\ast, m^\\ast = \\text{argmin}_{k,m}\\frac{1}{n} \\sum_{i=1}^n (k X_i + m - Y_i)^2\n",
    "$$"
   ]
  },
  {
   "cell_type": "code",
   "execution_count": 9,
   "id": "869ad921",
   "metadata": {},
   "outputs": [],
   "source": [
    "R = lambda a: np.mean(np.power((a[0]*X+a[1]-Y),2))"
   ]
  },
  {
   "cell_type": "code",
   "execution_count": 10,
   "id": "dcd5dc0a",
   "metadata": {},
   "outputs": [],
   "source": [
    "import scipy.optimize as so"
   ]
  },
  {
   "cell_type": "markdown",
   "id": "2b57ff00",
   "metadata": {},
   "source": [
    "We can use scipy to minimize the total loss $L$ above. "
   ]
  },
  {
   "cell_type": "code",
   "execution_count": 11,
   "id": "c441d186",
   "metadata": {},
   "outputs": [
    {
     "data": {
      "text/plain": [
       "       message: Optimization terminated successfully.\n",
       "       success: True\n",
       "        status: 0\n",
       "           fun: 4116265480.866082\n",
       "             x: [ 1.345e+02  7.127e+04]\n",
       "           nit: 174\n",
       "          nfev: 330\n",
       " final_simplex: (array([[ 1.345e+02,  7.127e+04],\n",
       "                       [ 1.345e+02,  7.127e+04],\n",
       "                       [ 1.345e+02,  7.127e+04]]), array([ 4.116e+09,  4.116e+09,  4.116e+09]))"
      ]
     },
     "execution_count": 11,
     "metadata": {},
     "output_type": "execute_result"
    }
   ],
   "source": [
    "result = so.minimize(R,(0,0),method = 'Nelder-Mead')\n",
    "result"
   ]
  },
  {
   "cell_type": "markdown",
   "id": "a9db2d0a",
   "metadata": {},
   "source": [
    "This gives us that the found $k \\approx 135$ and the found $m \\approx 70000$, we can also plot this together with data to see"
   ]
  },
  {
   "cell_type": "markdown",
   "id": "657b6447",
   "metadata": {},
   "source": [
    "\n",
    "1. **`message: Optimization terminated successfully.`**  \n",
    "   The algorithm converged and found a solution without errors.\n",
    "\n",
    "2. **`success: True`**  \n",
    "   The optimization process completed successfully.\n",
    "\n",
    "3. **`status: 0`**  \n",
    "   Indicates successful termination (no issues).\n",
    "\n",
    "4. **`fun: 4116265480.866082`**  \n",
    "   The minimum value of the objective function is approximately \\(4.12 \\times 10^9\\).\n",
    "\n",
    "5. **`x: [1.345e+02, 7.127e+04]`**  \n",
    "   The optimal parameters are approximately \\(134.5\\) and \\(71270\\).\n",
    "\n",
    "6. **`nit: 174`**  \n",
    "   The algorithm completed 174 iterations before converging.\n",
    "\n",
    "7. **`nfev: 330`**  \n",
    "   The objective function was evaluated 330 times during the optimization.\n",
    "\n",
    "8. **`final_simplex: ...`**  \n",
    "   The vertices and function values in the final simplex confirm convergence to the solution."
   ]
  },
  {
   "cell_type": "code",
   "execution_count": 12,
   "id": "407aa767",
   "metadata": {},
   "outputs": [
    {
     "data": {
      "text/plain": [
       "[<matplotlib.lines.Line2D at 0x7f80698e69a0>]"
      ]
     },
     "execution_count": 12,
     "metadata": {},
     "output_type": "execute_result"
    },
    {
     "data": {
      "image/png": "[encoded data removed]",
      "text/plain": [
       "<Figure size 432x288 with 1 Axes>"
      ]
     },
     "metadata": {
      "needs_background": "light"
     },
     "output_type": "display_data"
    }
   ],
   "source": [
    "x_pred = np.linspace(np.min(X),np.max(X),2)\n",
    "y_pred = x_pred*result['x'][0]+result['x'][1]\n",
    "plt.scatter(X,Y)\n",
    "plt.plot(x_pred,y_pred,color='green')"
   ]
  }
 ],
 "metadata": {
  "kernelspec": {
   "display_name": "base",
   "language": "python",
   "name": "python3"
  },
  "language_info": {
   "codemirror_mode": {
    "name": "ipython",
    "version": 3
   },
   "file_extension": ".py",
   "mimetype": "text/x-python",
   "name": "python",
   "nbconvert_exporter": "python",
   "pygments_lexer": "ipython3",
   "version": "3.9.12"
  },
  "lx_course_instance": "2024",
  "lx_course_name": "Introduction to Data Science",
  "lx_course_number": "1MS041"
 },
 "nbformat": 4,
 "nbformat_minor": 5
}
