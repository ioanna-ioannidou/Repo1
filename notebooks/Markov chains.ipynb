{
 "cells": [
  {
   "cell_type": "markdown",
   "metadata": {},
   "source": [
    "CHAPTER 7. FINITE MARKOV CHAINS"
   ]
  },
  {
   "cell_type": "markdown",
   "metadata": {},
   "source": [
    "Exercise 1: Take the text file pride_and_prejudice.txt and define a Markov chain where each state is a word. You could either model everything as an observation of a single Markov chain, i.e. the entire book is one long chain. Otherwise you could consider each sentence to be an observation, but now you have different starting points. You need to assume homogeneity to estimate the transition matrix.\n",
    "• Estimate the transition matrix.\n",
    "• Calculate the probability of going from the word ‘the‘ to the word ‘her‘.\n",
    "• Use Theorem 7.14 \"Every Markov chain on X has a random mapping repre-\n",
    "sentation.\" to generate a sentence using the estimated transition matrix starting from the word ‘Lady‘."
   ]
  },
  {
   "cell_type": "code",
   "execution_count": 2,
   "metadata": {},
   "outputs": [
    {
     "name": "stdout",
     "output_type": "stream",
     "text": [
      "Probability of transitioning from 'the' to 'her': 0.0000\n",
      "Generated sentence: lady to avoid her present elizabeth on his wifes offers elizabeth gave me because it\n"
     ]
    }
   ],
   "source": [
    "import numpy as np\n",
    "import re\n",
    "from collections import defaultdict, Counter\n",
    "import random\n",
    "\n",
    "# Load and preprocess the text\n",
    "def preprocess_text(filename):\n",
    "    \"\"\"Load and preprocess text into a list of words.\"\"\"\n",
    "    with open(filename, 'r') as file:\n",
    "        text = file.read().lower()\n",
    "    # Remove punctuation and split into words\n",
    "    text = re.sub(r'[^\\w\\s]', '', text)\n",
    "    words = text.split()\n",
    "    return words\n",
    "\n",
    "# Build the transition matrix\n",
    "def build_transition_matrix(words):\n",
    "    \"\"\"Build a transition matrix as a nested dictionary.\"\"\"\n",
    "    transitions = defaultdict(Counter)\n",
    "    for i in range(len(words) - 1):\n",
    "        transitions[words[i]][words[i + 1]] += 1\n",
    "    \n",
    "    # Normalize counts to probabilities\n",
    "    transition_matrix = {}\n",
    "    for word, next_words in transitions.items():\n",
    "        total_count = sum(next_words.values())\n",
    "        transition_matrix[word] = {k: v / total_count for k, v in next_words.items()}\n",
    "    \n",
    "    return transition_matrix\n",
    "\n",
    "# Calculate transition probability\n",
    "def transition_probability(matrix, word1, word2):\n",
    "    \"\"\"Calculate the probability of transitioning from word1 to word2.\"\"\"\n",
    "    return matrix.get(word1, {}).get(word2, 0.0)\n",
    "\n",
    "# Generate a sentence\n",
    "def generate_sentence(matrix, start_word, max_length=15):\n",
    "    \"\"\"Generate a sentence using the transition matrix.\"\"\"\n",
    "    sentence = [start_word]\n",
    "    current_word = start_word\n",
    "    for _ in range(max_length - 1):\n",
    "        next_word_probs = matrix.get(current_word, {})\n",
    "        if not next_word_probs:  # No transition available\n",
    "            break\n",
    "        # Choose the next word based on probabilities\n",
    "        next_word = random.choices(list(next_word_probs.keys()), weights=next_word_probs.values())[0]\n",
    "        sentence.append(next_word)\n",
    "        current_word = next_word\n",
    "    return ' '.join(sentence)\n",
    "\n",
    "# Main Script\n",
    "# Load the text file\n",
    "filename = 'pride_and_prejudice.txt'  # Replace with the actual path to the text file\n",
    "words = preprocess_text(filename)\n",
    "\n",
    "# Build the transition matrix\n",
    "transition_matrix = build_transition_matrix(words)\n",
    "\n",
    "# Calculate probability of 'the' -> 'her'\n",
    "prob_the_to_her = transition_probability(transition_matrix, 'the', 'her')\n",
    "print(f\"Probability of transitioning from 'the' to 'her': {prob_the_to_her:.4f}\")\n",
    "\n",
    "# Generate a sentence starting with 'Lady'\n",
    "sentence = generate_sentence(transition_matrix, start_word='lady', max_length=15)\n",
    "print(f\"Generated sentence: {sentence}\")\n"
   ]
  },
  {
   "cell_type": "markdown",
   "metadata": {},
   "source": [
    "Exercise 2: Consider a set of bacteria, each bacteria either splits into 2, stays the same or dies. I.e. each bacteria can create either {0, 1, 2} succes- sors. The branching process. Let Zn denote the number of bacteria at time n, let Xn,i be a random variable denoting the number of direct successors for member i (can only be {0,1,2} in period n, where Xn,i are i.i.d., here n ∈ {0,1,...} and i ∈ {1,...,Zn}. The recurrence relation is\n",
    "with Z0 = 1.\n",
    "• Is this a Markov chain?\n",
    "Zn Zn+1 = X Xn,i\n",
    "i=1\n",
    "• Let p = (1/3,1/3,1/3) be the probabilities of {0,1,2} offspring and simulate the chain.\n",
    "•WesaythatthepopulationdiesoutifZn =0forsomenandn denotes the life-time of the population, by simulation, calculate the expected life-time of the population.\n",
    "• If you want to read more, check out the Galton-Watson process.\n",
    "\n",
    "The problem describes a branching process where a set of bacteria evolves over discrete time steps. At each time \n",
    "n, each bacterium can either:\n",
    "\n",
    "Die (0 offspring),\n",
    "Stay the same (1 offspring),\n",
    "Split into two (2 offspring)"
   ]
  },
  {
   "cell_type": "code",
   "execution_count": 3,
   "metadata": {},
   "outputs": [
    {
     "name": "stdout",
     "output_type": "stream",
     "text": [
      "Expected lifetime of the population: 21.08 generations\n"
     ]
    }
   ],
   "source": [
    "import numpy as np\n",
    "\n",
    "def simulate_branching_process(p=[1/3, 1/3, 1/3]):\n",
    "    Z_n = 1  # initial number of bacteria\n",
    "    time = 0\n",
    "    while Z_n > 0:\n",
    "        # Simulate the number of offspring for each bacterium\n",
    "        offspring = np.random.choice([0, 1, 2], size=Z_n, p=p)\n",
    "        Z_n = np.sum(offspring)  # total number of bacteria at the next time step\n",
    "        time += 1  # increment the time step\n",
    "    return time  # lifetime of the population\n",
    "\n",
    "# Simulate the branching process multiple times to estimate the expected lifetime\n",
    "n_simulations = 10000\n",
    "lifetimes = [simulate_branching_process() for _ in range(n_simulations)]\n",
    "\n",
    "# Calculate the expected lifetime (mean of the lifetimes)\n",
    "expected_lifetime = np.mean(lifetimes)\n",
    "print(f\"Expected lifetime of the population: {expected_lifetime:.2f} generations\")\n"
   ]
  }
 ],
 "metadata": {
  "kernelspec": {
   "display_name": "base",
   "language": "python",
   "name": "python3"
  },
  "language_info": {
   "codemirror_mode": {
    "name": "ipython",
    "version": 3
   },
   "file_extension": ".py",
   "mimetype": "text/x-python",
   "name": "python",
   "nbconvert_exporter": "python",
   "pygments_lexer": "ipython3",
   "version": "3.9.12"
  }
 },
 "nbformat": 4,
 "nbformat_minor": 2
}
