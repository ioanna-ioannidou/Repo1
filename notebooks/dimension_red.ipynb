{
 "cells": [
  {
   "cell_type": "markdown",
   "metadata": {},
   "source": [
    "\n",
    "# Johnson-Lindenstrauss Lemma\n",
    "The Johnson-Lindenstrauss Lemma states that a set of n points in high-dimensional space can be embedded into a lower-dimensional space (of dimension k) while approximately preserving the pairwise distances between the points. This is particularly useful in machine learning, where reducing dimensionality can help with computation and storage without losing much information."
   ]
  },
  {
   "cell_type": "code",
   "execution_count": 1,
   "metadata": {},
   "outputs": [
    {
     "name": "stdout",
     "output_type": "stream",
     "text": [
      "Original pairwise distances (first 3):\n",
      " [[0.         4.23450514 4.26156823]\n",
      " [4.23450514 0.         4.42274646]\n",
      " [4.26156823 4.42274646 0.        ]]\n",
      "Reduced pairwise distances (first 3):\n",
      " [[0.         3.97758741 4.16120501]\n",
      " [3.97758741 0.         2.93491154]\n",
      " [4.16120501 2.93491154 0.        ]]\n",
      "Relative errors (first 3):\n",
      " [[0.         0.06067243 0.02355077]\n",
      " [0.06067243 0.         0.3364052 ]\n",
      " [0.02355077 0.3364052  0.        ]]\n"
     ]
    }
   ],
   "source": [
    "import numpy as np\n",
    "from sklearn.random_projection import GaussianRandomProjection\n",
    "from sklearn.metrics.pairwise import euclidean_distances\n",
    "\n",
    "# Generate random data: 10 points in 100-dimensional space\n",
    "np.random.seed(42)\n",
    "original_data = np.random.rand(10, 100)\n",
    "\n",
    "# Compute pairwise distances in the original space\n",
    "original_distances = euclidean_distances(original_data)\n",
    "\n",
    "# Use Gaussian Random Projection to reduce dimensions to 5\n",
    "projection = GaussianRandomProjection(n_components=5, random_state=42)\n",
    "reduced_data = projection.fit_transform(original_data)\n",
    "\n",
    "# Compute pairwise distances in the reduced space\n",
    "reduced_distances = euclidean_distances(reduced_data)\n",
    "\n",
    "# Compare distances before and after projection\n",
    "print(\"Original pairwise distances (first 3):\\n\", original_distances[:3, :3])\n",
    "print(\"Reduced pairwise distances (first 3):\\n\", reduced_distances[:3, :3])\n",
    "\n",
    "# Check relative errors between original and reduced distances\n",
    "relative_errors = np.abs(original_distances - reduced_distances) / (original_distances + 1e-9)\n",
    "print(\"Relative errors (first 3):\\n\", relative_errors[:3, :3])\n"
   ]
  },
  {
   "cell_type": "markdown",
   "metadata": {},
   "source": [
    "The theorem guarantees that a random projection approximately preserves pairwise distances between \\( n \\) points in $$ \\mathbb{R}^d $$ when the projection is into \\( k \\)-dimensional space, where $$ k \\geq \\frac{384 \\ln(n)}{\\epsilon^2} $$. \n"
   ]
  },
  {
   "cell_type": "code",
   "execution_count": 4,
   "metadata": {},
   "outputs": [
    {
     "name": "stdout",
     "output_type": "stream",
     "text": [
      "Reducing dimension from 500 to 500 to satisfy the theorem.\n",
      "Total number of points: 100\n",
      "Number of violations: 4950\n",
      "Violation rate: 1.0000\n",
      "The JL Lemma holds with high probability if the violation rate is small.\n"
     ]
    }
   ],
   "source": [
    "import numpy as np\n",
    "from sklearn.random_projection import GaussianRandomProjection\n",
    "from sklearn.metrics.pairwise import euclidean_distances\n",
    "\n",
    "# Define parameters\n",
    "n = 100  # Number of points\n",
    "d = 500  # Original dimensionality\n",
    "epsilon = 0.5  # Approximation factor\n",
    "\n",
    "# Calculate the required number of dimensions for the projection\n",
    "k = min(d, int(np.ceil(384 * np.log(n) / epsilon**2)))\n",
    "print(f\"Reducing dimension from {d} to {k} to satisfy the theorem.\")\n",
    "\n",
    "# Generate random high-dimensional data\n",
    "np.random.seed(42)\n",
    "data = np.random.rand(n, d)\n",
    "\n",
    "# Compute pairwise distances in the original space\n",
    "original_distances = euclidean_distances(data)\n",
    "\n",
    "# Apply random projection\n",
    "projection = GaussianRandomProjection(n_components=k, random_state=42)\n",
    "reduced_data = projection.fit_transform(data)\n",
    "\n",
    "# Compute pairwise distances in the reduced space\n",
    "reduced_distances = euclidean_distances(reduced_data)\n",
    "\n",
    "# Check if the distances satisfy the JL guarantee\n",
    "sqrt_k = np.sqrt(k)\n",
    "violations = 0\n",
    "for i in range(n):\n",
    "    for j in range(i + 1, n):\n",
    "        orig_dist = original_distances[i, j]\n",
    "        reduced_dist = reduced_distances[i, j]\n",
    "        lower_bound = (1 - epsilon) * sqrt_k * orig_dist\n",
    "        upper_bound = (1 + epsilon) * sqrt_k * orig_dist\n",
    "        if not (lower_bound <= reduced_dist <= upper_bound):\n",
    "            violations += 1\n",
    "\n",
    "# Report results\n",
    "print(f\"Total number of points: {n}\")\n",
    "print(f\"Number of violations: {violations}\")\n",
    "print(f\"Violation rate: {violations / (n * (n - 1) / 2):.4f}\")\n",
    "print(\"The JL Lemma holds with high probability if the violation rate is small.\")\n"
   ]
  }
 ],
 "metadata": {
  "kernelspec": {
   "display_name": "base",
   "language": "python",
   "name": "python3"
  },
  "language_info": {
   "codemirror_mode": {
    "name": "ipython",
    "version": 3
   },
   "file_extension": ".py",
   "mimetype": "text/x-python",
   "name": "python",
   "nbconvert_exporter": "python",
   "pygments_lexer": "ipython3",
   "version": "3.9.12"
  }
 },
 "nbformat": 4,
 "nbformat_minor": 2
}
