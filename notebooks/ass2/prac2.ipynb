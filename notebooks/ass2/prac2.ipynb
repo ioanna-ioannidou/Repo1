{
 "cells": [
  {
   "cell_type": "markdown",
   "metadata": {
    "lx_assignment_number": "2",
    "lx_problem_cell_type": "PROBLEM"
   },
   "source": [
    "# Exercise 1"
   ]
  },
  {
   "cell_type": "markdown",
   "metadata": {
    "deletable": false,
    "lx_assignment_number": "2",
    "lx_assignment_type": "ASSIGNMENT",
    "lx_assignment_type2print": "Assignment",
    "lx_problem_cell_type": "PROBLEM",
    "lx_problem_number": "0",
    "lx_problem_points": "1"
   },
   "source": [
    "\n",
    "We have seen how to implement a new iterator (just like a function) but with `yield` statement (just like `return` in a function). This model of computation is called **continuation**. This is very useful in combinatorics, especially when combined with recursion (*Computational Mathematics with SageMath, SIAM, 2019, p. 346*). Below is an iterator called `generateWords(alphabet,L)` that can generate all words of of a given length `L` on a given `alphabet`.\n",
    "\n",
    "Your task is simple! \n",
    "\n",
    "- Just understand what the following iterator is doing from the comments in code and explanations earlier. \n",
    "- how we are computing the number of words of length `L` equalling 3 and then 23 using `sum`:\n",
    "  - via list comprehension\n",
    "  - via generator expression\n",
    "- You *don't need to change any of the code in the next 4 cells, but just understand it*. \n",
    "- Finally, try to explain by chosing the right answer below as to why the list comprhension is taking longer to compute than the generator expression as evident by the `Wall time` (see [Wall Time](https://en.wikipedia.org/wiki/Elapsed_real_time), it's just the elapsed real time from the start to end of a computation).\n",
    "\n",
    "---\n",
    "\n",
    "```\n",
    "%%time \n",
    "# time for list comprehension to compute the sum of [1,1,1,...,2^23]\n",
    "sumFromListCom = sum( [ 1 for w in generateWords(['H','T'], 23) ]  ) \n",
    "```\n",
    "will result in output:\n",
    "```\n",
    "CPU times: user 6.94 s, sys: 200 ms, total: 7.14 s\n",
    "Wall time: 7.11 s\n",
    "```\n",
    "---\n",
    "\n",
    "---\n",
    "```\n",
    "%%time \n",
    "# time for generator expression to compute the sum of [1,1,1,...,2^23]\n",
    "sumFromGenEx = sum( ( 1 for w in generateWords(['H','T'], 23) )  ) \n",
    "```\n",
    "will result in output:\n",
    "```\n",
    "CPU times: user 5.51 s, sys: 0 ns, total: 5.51 s\n",
    "Wall time: 5.52 s\n",
    "```\n",
    "---\n",
    "\n",
    "(you may have slightly different numbers for `time` and `Wall time` based on your machine details at the time of computation). \n",
    "\n",
    "**Multiple-choice Question:**\n",
    "\n",
    "- Why is the `Wall time` for generator expression (genex) smaller that for the list comprehension (listcomp) here? \n",
    "\n",
    "**Answer Choices**\n",
    "\n",
    "- **A.** genex if faster because the individual words are not allocated space in memory, i.e., materialised in memory\n",
    "- **B.** listcomp is slower because the list of all words is allocated space in memory\n",
    "- **C.** both **A** and **B** are true\n"
   ]
  },
  {
   "cell_type": "code",
   "execution_count": 1,
   "metadata": {
    "deletable": false,
    "lx_assignment_number": "2",
    "lx_assignment_type": "ASSIGNMENT",
    "lx_assignment_type2print": "Assignment",
    "lx_problem_cell_type": "PROBLEM",
    "lx_problem_number": "0",
    "lx_problem_points": "1"
   },
   "outputs": [],
   "source": [
    "choiceForProblem0 = 'C' "
   ]
  },
  {
   "cell_type": "markdown",
   "metadata": {},
   "source": [
    "\n",
    "- **List Comprehension** (`listcomp`): When we use list comprehension, it creates the entire list of words in memory before performing any computation. This means all the words of length `23` on the alphabet `['H', 'T']` are generated and stored in memory at once, which can take up a significant amount of memory and time.\n",
    "\n",
    "- **Generator Expression** (`genex`): On the other hand, a generator expression generates each word one at a time and yields it. This means it doesn't store the entire list in memory. Instead, it computes each word on demand, which uses less memory and results in faster computation in terms of wall time.\n",
    "\n",
    "- **C. both A and B are true**: The generator expression is faster because it does not allocate space in memory for all words at once, and the list comprehension is slower because it stores all words in memory.\n"
   ]
  },
  {
   "cell_type": "code",
   "execution_count": 3,
   "metadata": {
    "deletable": false,
    "lx_assignment_number": "2",
    "lx_assignment_type": "ASSIGNMENT",
    "lx_assignment_type2print": "Assignment",
    "lx_problem_cell_type": "PROBLEM",
    "lx_problem_number": "0",
    "lx_problem_points": "1"
   },
   "outputs": [
    {
     "name": "stdout",
     "output_type": "stream",
     "text": [
      "[['H', 'H', 'H'], ['H', 'H', 'T'], ['H', 'T', 'H'], ['H', 'T', 'T'], ['T', 'H', 'H'], ['T', 'H', 'T'], ['T', 'T', 'H'], ['T', 'T', 'T']]\n",
      "8\n",
      "8\n",
      "The number of words of length 3 from an alphabet of size 2 is 2^3 =  1\n"
     ]
    }
   ],
   "source": [
    "# This cell is to help you make the right choice between A, B and C\n",
    "def generateWords(alphabet, L):\n",
    "    if L == 0:\n",
    "        yield []\n",
    "    else:\n",
    "        for word in generateWords(alphabet, L-1): # here is the recursion when we cann the iterator again on L-1\n",
    "            for L in alphabet: \n",
    "                yield word + [L]\n",
    "\n",
    "print( [ w for w in generateWords(['H','T'], 3) ] )# now call the iterator to find all words of length 3 in ['H','T']\n",
    "\n",
    "print( sum( [ 1 for w in generateWords(['H','T'], 3) ]  )) # these words can then be counted by list comprehension\n",
    "print( sum( ( 1 for w in generateWords(['H','T'], 3) )  )) # these words can then be counted by generator expression\n",
    "\n",
    "print( 'The number of words of length 3 from an alphabet of size 2 is 2^3 = ', 2^3) # the above sum`s makes sense"
   ]
  },
  {
   "cell_type": "markdown",
   "metadata": {
    "lx_assignment_number": "2",
    "lx_problem_cell_type": "PROBLEM"
   },
   "source": [
    "# Exercise 2"
   ]
  },
  {
   "cell_type": "markdown",
   "metadata": {
    "deletable": false,
    "lx_assignment_number": "2",
    "lx_assignment_type": "ASSIGNMENT",
    "lx_assignment_type2print": "Assignment",
    "lx_problem_cell_type": "PROBLEM",
    "lx_problem_number": "1",
    "lx_problem_points": "1"
   },
   "source": [
    "\n",
    "Recall how we downloaded *Pride and Prejudice* and processed it as a String and split it by `Chapter`s. These code snippets are at our disposal now - all we need to do is copy-paste the right set of cells from earlier into the cells below here to have the string from that Book for more refined processing.\n",
    "\n",
    "Think about what algorithmic constructs and methods one will need to `split` each sentence by the **English words** it contains and then count the number of each distinct word.\n",
    "\n",
    "Now that you have understood `for` loops, `list` comprehensions and anonymous `function`s, and can learn about the needed methods on strings for splitting (which you can search by adding a `.` after a `srt` and hitting the `Tab` button to look through existing methods and followed by `?` for their docstrings), the `dictionary` data structure, and already seen how to count the number of ball labels, you are ready for this problem stated below. If you attended the lab then you have an advantage if you tried to work on this with some help from your instructors.\n",
    "\n",
    "**Problem:** Process the English words in a text file, such as those in the book *Pride and Prejudice* by Jane Austin, and obtain the top `K` most frequent *words that are longer than* a given parameter `wordLongerThan` which can be any value in $\\mathbb{Z}_+ := \\{ 0, 1, 2, 3, 4, \\ldots \\}$, i.e., *words that are longer than* `wordLongerThan` many characters in length. \n",
    "\n",
    "Your function must be generic and named as follows including input parameter order and names: \n",
    "\n",
    "- `frequencyOftheKMostCommonWordsIn(thisTextFile, wordLongerThan, K)`\n",
    "\n",
    "This function must be capable of:\n",
    "- reading any available text file in the `data/` directory that can be passed as the parameter `thisTextFile` \n",
    "- and return a `dict` type whose:\n",
    "  - key is the word whose character length is longer than the parameter `wordlongerThan` and \n",
    "  - value is the frequency of this word in the text file. \n",
    "  - Yor returned `dict` should only contain the top `K` most frequent words longer than `wordLongerThan` and be already sorted in descending order of in frequency.\n",
    "\n",
    "Use the next cell to submit your answer and for rough-work use more cells as needed in order to copy-paste code snippets from earlier content to get this working. But please remove the cells for rough-work when done.\n",
    "\n",
    "*Note: that you may not import libraries that have not been introduced in the course so far.*"
   ]
  },
  {
   "cell_type": "code",
   "execution_count": 6,
   "metadata": {
    "deletable": false,
    "lx_assignment_number": "2",
    "lx_assignment_type": "ASSIGNMENT",
    "lx_assignment_type2print": "Assignment",
    "lx_problem_cell_type": "PROBLEM",
    "lx_problem_number": "1",
    "lx_problem_points": "1"
   },
   "outputs": [
    {
     "name": "stdout",
     "output_type": "stream",
     "text": [
      "{'the': 4479, 'to': 4189, 'of': 3707, 'and': 3507, 'her': 2191, 'a': 1983, 'in': 1904, 'was': 1835, 'i': 1751, 'she': 1684, 'that': 1517, 'it': 1431, 'not': 1424, 'he': 1307, 'you': 1271, 'his': 1259, 'be': 1251, 'as': 1175, 'had': 1173, 'with': 1090}\n"
     ]
    }
   ],
   "source": [
    "import string\n",
    "# Report these variables so the exam can be calibrated fairly - your report will be used to justify exam-difficulty\n",
    "timeToCompleteThisProblemInMinutes = 0 # replace 0 by a positive integer if it applies\n",
    "\n",
    "# Do NOT change the name of the function and names of paramaters !\n",
    "\n",
    "thisTextFile = 'data/pride_and_prejudice.txt' # try a text file in data/ directory\n",
    "wordLongerThan = 0 # this can be any larger integer also\n",
    "K = 20 # this can be any integer larger than 0 also\n",
    "\n",
    "def frequencyOftheKMostCommonWordsIn(thisTextFile, wordLongerThan, K):\n",
    "    '''explain what the function is supposed to do briefly'''\n",
    "    # write the body of the function and replace 'None' with the correct return value\n",
    "    with open(thisTextFile, 'r') as file:\n",
    "        text = file.read()\n",
    "    \n",
    "    # Remove punctuation and split by spaces\n",
    "    translator = str.maketrans('', '', string.punctuation)\n",
    "    words = text.translate(translator).lower().split()\n",
    "    \n",
    "    # Filter words longer than 'wordLongerThan'\n",
    "    filtered_words = [word for word in words if len(word) > wordLongerThan]\n",
    "    \n",
    "    # Count the frequency of each word\n",
    "    word_freq = {}\n",
    "    for word in filtered_words:\n",
    "        if word in word_freq:\n",
    "            word_freq[word] += 1\n",
    "        else:\n",
    "            word_freq[word] = 1\n",
    "    \n",
    "    # Sort the words by frequency in descending order and get top K\n",
    "    sorted_word_freq = sorted(word_freq.items(), key=lambda x: x[1], reverse=True)\n",
    "    \n",
    "    # Return top K words and their frequencies as a dictionary\n",
    "    top_k_words = dict(sorted_word_freq[:K])\n",
    "    return top_k_words\n",
    "\n",
    "print(frequencyOftheKMostCommonWordsIn(thisTextFile, wordLongerThan, K))"
   ]
  },
  {
   "cell_type": "markdown",
   "metadata": {
    "lx_assignment_number": "2",
    "lx_problem_cell_type": "PROBLEM"
   },
   "source": [
    "# Exercise 3"
   ]
  },
  {
   "cell_type": "markdown",
   "metadata": {
    "deletable": false,
    "lx_assignment_number": "2",
    "lx_assignment_type": "ASSIGNMENT",
    "lx_assignment_type2print": "Assignment",
    "lx_problem_cell_type": "PROBLEM",
    "lx_problem_number": "2",
    "lx_problem_points": "1"
   },
   "source": [
    "\n",
    "Recall the problem above on counting the number of votes by party across all of Sweden from the **Swedish 2018 National Election Data**.\n",
    "\n",
    "Your task is to adapt the code snippets there and others we have encountered thus far to count the total number of votes by each **district** and return a `list` of `Integers` giving the number of votes for the top `K` districts with the most votes. Your function `numberOfVotesInKMostVotedDistrictsInSE('data/final.csv', K)` should work for any valid integer `K`. \n",
    "\n",
    "*Note: that you may not import libraries that have not been introduced in the course so far.*\n",
    "\n",
    "---\n",
    "*unzip issues:* If you are unable to call `unzip final.csv.zip` on your windows laptop. You can either do it in the computer lab or do the following with internet access to download the large `final.csv` file from the internet:\n",
    "\n",
    "```\n",
    "%%sh\n",
    "cd data\n",
    " \n",
    "curl -O http://lamastex.org/datasets/public/elections/2018/sv/final.csv\n",
    "```\n",
    "\n",
    "Then you should have the needed `data/final.csv` file.\n",
    "\n",
    "---"
   ]
  },
  {
   "cell_type": "code",
   "execution_count": 7,
   "metadata": {
    "deletable": false,
    "lx_assignment_number": "2",
    "lx_assignment_type": "ASSIGNMENT",
    "lx_assignment_type2print": "Assignment",
    "lx_problem_cell_type": "PROBLEM",
    "lx_problem_number": "2",
    "lx_problem_points": "1"
   },
   "outputs": [
    {
     "name": "stdout",
     "output_type": "stream",
     "text": [
      "[13435, 10625, 7910, 7094, 6182, 6118, 6022, 5454, 5286, 4919, 4916, 4839, 4728, 4709, 4411, 4399, 4300, 4146, 4137, 4132]\n"
     ]
    }
   ],
   "source": [
    "import csv\n",
    "# Report these variables so the exam can be calibrated fairly - your report will be used to justify exam-difficulty\n",
    "timeToCompleteThisProblemInMinutes = 0 # replace 0 by a positive integer if it applies\n",
    "\n",
    "# Do NOT change the name of the function and names of paramaters !\n",
    "\n",
    "K = 20 # this can be any integer larger than 0 also, change K and make sure your function works\n",
    "filename = 'data/final.csv' # this has to be a csv file with the same structure as out final.csv\n",
    "\n",
    "def numberOfVotesInKMostVotedDistrictsInSE(filename, K):\n",
    "    '''explain what the function is supposed to do briefly'''\n",
    "    # write the body of the function and replace 'None' with the correct return value\n",
    "    # Read the CSV file and extract the necessary columns\n",
    "    district_votes = {}\n",
    "    \n",
    "    with open(filename, 'r') as file:\n",
    "        reader = csv.DictReader(file)\n",
    "        \n",
    "        for row in reader:\n",
    "            district = row['district']  # Assuming the 'district' column exists\n",
    "            votes = int(row['votes'])  # Assuming the 'votes' column exists\n",
    "            \n",
    "            # Sum the votes by district\n",
    "            if district in district_votes:\n",
    "                district_votes[district] += votes\n",
    "            else:\n",
    "                district_votes[district] = votes\n",
    "    \n",
    "    # Sort the districts by the total number of votes in descending order\n",
    "    sorted_districts = sorted(district_votes.items(), key=lambda x: x[1], reverse=True)\n",
    "    \n",
    "    # Extract the top K districts and their vote counts\n",
    "    top_k_votes = [votes for _, votes in sorted_districts[:K]]\n",
    "    return top_k_votes\n",
    "\n",
    "print(numberOfVotesInKMostVotedDistrictsInSE(filename, K))"
   ]
  },
  {
   "cell_type": "markdown",
   "metadata": {
    "deletable": false,
    "lx_assignment_number": "2",
    "lx_assignment_type": "ASSIGNMENT",
    "lx_assignment_type2print": "Assignment",
    "lx_problem_cell_type": "PROBLEM",
    "lx_problem_number": "3",
    "lx_problem_points": "1"
   },
   "source": [
    "\n",
    "A disadvantage of using list comprehension is that we cannot create a lot of random numbers as we will have to store the returned list. Since you know about generators your task is to use the following warm-up on generating natural numbers and write an iterator version called `lcg` of the function `LinConGen` we have been seeing thus far."
   ]
  },
  {
   "cell_type": "code",
   "execution_count": 9,
   "metadata": {
    "deletable": false,
    "lx_assignment_number": "2",
    "lx_assignment_type": "ASSIGNMENT",
    "lx_assignment_type2print": "Assignment",
    "lx_problem_cell_type": "PROBLEM",
    "lx_problem_number": "3",
    "lx_problem_points": "1"
   },
   "outputs": [],
   "source": [
    "def naturals():\n",
    "    '''define the countably infinite set of natural numbers using an iterator'''\n",
    "    n = 1 # the first natural number 1\n",
    "    while True: # an infinite while loop\n",
    "        yield n # output n\n",
    "        n = n + 1 # increment n by 1   "
   ]
  },
  {
   "cell_type": "code",
   "execution_count": 10,
   "metadata": {
    "deletable": false,
    "lx_assignment_number": "2",
    "lx_assignment_type": "ASSIGNMENT",
    "lx_assignment_type2print": "Assignment",
    "lx_problem_cell_type": "PROBLEM",
    "lx_problem_number": "3",
    "lx_problem_points": "1"
   },
   "outputs": [
    {
     "name": "stdout",
     "output_type": "stream",
     "text": [
      "1\n",
      "2\n",
      "3\n",
      "4\n",
      "5\n"
     ]
    }
   ],
   "source": [
    "# Example run - keep printing the natural numbers using the iterator until we hit 5\n",
    "for n in naturals():\n",
    "      print(n)\n",
    "      if n >= 5:\n",
    "          break"
   ]
  },
  {
   "cell_type": "code",
   "execution_count": 11,
   "metadata": {
    "deletable": false,
    "lx_assignment_number": "2",
    "lx_assignment_type": "ASSIGNMENT",
    "lx_assignment_type2print": "Assignment",
    "lx_problem_cell_type": "PROBLEM",
    "lx_problem_number": "3",
    "lx_problem_points": "1"
   },
   "outputs": [
    {
     "name": "stdout",
     "output_type": "stream",
     "text": [
      "1\n",
      "2\n"
     ]
    }
   ],
   "source": [
    "# printing next from our iterator\n",
    "generateNaturals = naturals() # let's assign our iterator\n",
    "print(next(generateNaturals))\n",
    "print(next(generateNaturals))"
   ]
  },
  {
   "cell_type": "code",
   "execution_count": 12,
   "metadata": {
    "deletable": false,
    "lx_assignment_number": "2",
    "lx_assignment_type": "ASSIGNMENT",
    "lx_assignment_type2print": "Assignment",
    "lx_problem_cell_type": "PROBLEM",
    "lx_problem_number": "3",
    "lx_problem_points": "1"
   },
   "outputs": [
    {
     "data": {
      "text/plain": [
       "[(1, 'a'), (2, 'b'), (3, 'c'), (4, 'd')]"
      ]
     },
     "execution_count": 12,
     "metadata": {},
     "output_type": "execute_result"
    }
   ],
   "source": [
    "list(zip(naturals(), ['a', 'b', 'c', 'd'])) # the second list stops at 4 to give an enumeration that ends"
   ]
  },
  {
   "cell_type": "code",
   "execution_count": 14,
   "metadata": {
    "deletable": false,
    "lx_assignment_number": "2",
    "lx_assignment_type": "ASSIGNMENT",
    "lx_assignment_type2print": "Assignment",
    "lx_problem_cell_type": "PROBLEM",
    "lx_problem_number": "3",
    "lx_problem_points": "1"
   },
   "outputs": [],
   "source": [
    "# Here is the actual task \n",
    "# just replace XXX with the right values to make an iterator of function LinConGen\n",
    "#ef lcg(m, a, c, x0):\n",
    "    #x = XXX\n",
    "    #while True:\n",
    "        #yield XXX\n",
    "        #x = XXX\n",
    "\n",
    "def lcg(m, a, c, x0):\n",
    "    '''Linear Congruential Generator (LCG) as an iterator using yield'''\n",
    "    x = x0  # Initialize with the seed (x0)\n",
    "    while True:\n",
    "        yield x  # Yield the current value of x\n",
    "        x = (a * x + c) % m  # Update x using the LCG formula\n"
   ]
  }
 ],
 "metadata": {
  "kernelspec": {
   "display_name": "base",
   "language": "python",
   "name": "python3"
  },
  "language_info": {
   "codemirror_mode": {
    "name": "ipython",
    "version": 3
   },
   "file_extension": ".py",
   "mimetype": "text/x-python",
   "name": "python",
   "nbconvert_exporter": "python",
   "pygments_lexer": "ipython3",
   "version": "3.9.12"
  },
  "lx_assignment_number": "2",
  "lx_course_instance": "2020",
  "lx_course_name": "Introduction to Data Science: A Comp-Math-Stat Approach",
  "lx_course_number": "1MS041"
 },
 "nbformat": 4,
 "nbformat_minor": 2
}
