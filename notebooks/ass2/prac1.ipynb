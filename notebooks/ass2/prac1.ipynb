{
 "cells": [
  {
   "cell_type": "markdown",
   "metadata": {},
   "source": [
    "# Exercise 1"
   ]
  },
  {
   "cell_type": "markdown",
   "metadata": {
    "deletable": false,
    "lx_assignment_number": "1",
    "lx_assignment_type": "ASSIGNMENT",
    "lx_assignment_type2print": "Assignment",
    "lx_problem_cell_type": "PROBLEM",
    "lx_problem_number": "1",
    "lx_problem_points": "2"
   },
   "source": [
    "\n",
    "### Finding out the number of lines and characters in a file\n",
    "\n",
    "Evaluate the following two cells by replacing `X` with the right command-line option to `wc` command in order to find:\n",
    "\n",
    "1. the number of lines in `data/earthquakes_small.csv` and \n",
    "2. the number of words in `data/earthquakes_small.csv` \n",
    "\n",
    "Finally, update the following cell by replacing `XXX` with the right integer answers, respectively, for:\n",
    "\n",
    "1. `NumberOfLinesIn_earthquakes_small_csv_file` and \n",
    "2. `NumberOfWordsIn_earthquakes_small_csv_file` \n",
    "\n",
    "Here is a brief synopsis of `wc` that you would get from running `man wc` as follows:\n",
    "```\n",
    "%%sh\n",
    "man wc\n",
    "```\n",
    "\n",
    "```\n",
    "WC(1)                     BSD General Commands Manual                    WC(1)\n",
    "\n",
    "NAME\n",
    "     wc -- word, line, character, and byte count\n",
    "\n",
    "SYNOPSIS\n",
    "     wc [-clmw] [file ...]\n",
    "\n",
    "DESCRIPTION\n",
    "     The wc utility displays the number of lines, words, and bytes contained in each input file, or standard input (if no file is specified) to the standard output.  A line is defined as a string of characters delimited by a <newline> character.  Characters beyond the final <newline> character will not be included in the line count.\n",
    "\n",
    "     A word is defined as a string of characters delimited by white space characters.  White space characters are the set of characters for which the iswspace(3) function returns true.  If more than one input file is specified, a line of cumulative counts for all the files is displayed on a separate line after the output for the last file.\n",
    "\n",
    "     The following options are available:\n",
    "\n",
    "     -c      The number of bytes in each input file is written to the standard output.  This will cancel out any prior usage of the -m option.\n",
    "\n",
    "     -l      The number of lines in each input file is written to the standard output.\n",
    "\n",
    "     -m      The number of characters in each input file is written to the standard output.  If the current locale does not support multibyte\n",
    "             characters, this is equivalent to the -c option.  This will cancel out any prior usage of the -c option.\n",
    "\n",
    "     -w      The number of words in each input file is written to the standard output.\n",
    "\n",
    "     When an option is specified, wc only reports the information requested by that option.  The order of output always takes the form of line, word, byte, and file name.  The default action is equivalent to specifying the -c, -l and -w options.\n",
    "```"
   ]
  },
  {
   "cell_type": "code",
   "execution_count": null,
   "metadata": {
    "deletable": false,
    "lx_assignment_number": "1",
    "lx_assignment_type": "ASSIGNMENT",
    "lx_assignment_type2print": "Assignment",
    "lx_problem_cell_type": "PROBLEM",
    "lx_problem_number": "1",
    "lx_problem_points": "2"
   },
   "outputs": [
    {
     "name": "stdout",
     "output_type": "stream",
     "text": [
      "     411 data/earthquakes_small.csv\n"
     ]
    }
   ],
   "source": [
    "%%sh\n",
    "# replace X in the next line with the right option to find the number of lines\n",
    "wc -l data/earthquakes_small.csv"
   ]
  },
  {
   "cell_type": "code",
   "execution_count": 1,
   "metadata": {
    "deletable": false,
    "lx_assignment_number": "1",
    "lx_assignment_type": "ASSIGNMENT",
    "lx_assignment_type2print": "Assignment",
    "lx_problem_cell_type": "PROBLEM",
    "lx_problem_number": "1",
    "lx_problem_points": "2"
   },
   "outputs": [
    {
     "name": "stdout",
     "output_type": "stream",
     "text": [
      "     418 data/earthquakes_small.csv\n"
     ]
    }
   ],
   "source": [
    "%%sh\n",
    "# replace X in the next line with the right option to find the number of words\n",
    "wc -w data/earthquakes_small.csv"
   ]
  },
  {
   "cell_type": "code",
   "execution_count": null,
   "metadata": {
    "deletable": false,
    "lx_assignment_number": "1",
    "lx_assignment_type": "ASSIGNMENT",
    "lx_assignment_type2print": "Assignment",
    "lx_problem_cell_type": "PROBLEM",
    "lx_problem_number": "1",
    "lx_problem_points": "2"
   },
   "outputs": [],
   "source": [
    "\n",
    "NumberOfLinesIn_earthquakes_small_csv_file = 411\n",
    "NumberOfWordsIn_earthquakes_small_csv_file = 418"
   ]
  },
  {
   "cell_type": "markdown",
   "metadata": {},
   "source": [
    "# Exercise 2"
   ]
  },
  {
   "cell_type": "markdown",
   "metadata": {
    "deletable": false,
    "lx_assignment_number": "1",
    "lx_assignment_type": "ASSIGNMENT",
    "lx_assignment_type2print": "Assignment",
    "lx_problem_cell_type": "PROBLEM",
    "lx_problem_number": "2",
    "lx_problem_points": "1"
   },
   "source": [
    "\n",
    "Consider the experiment where we roll two fair dice independently. \n",
    "\n",
    "Let $D$ be the event that \"the sum of the two dice is 7\" and let $C$ be the event that \"the first die is 2\".\n",
    "\n",
    "What is the probability of D given C, i.e. what is $P(D|C)$?\n",
    "\n",
    "Do the calculation by hand and write the answer in the next cell by assigning the variable `ProbOfDGivenC`. "
   ]
  },
  {
   "cell_type": "code",
   "execution_count": 8,
   "metadata": {
    "deletable": false,
    "lx_assignment_number": "1",
    "lx_assignment_type": "ASSIGNMENT",
    "lx_assignment_type2print": "Assignment",
    "lx_problem_cell_type": "PROBLEM",
    "lx_problem_number": "2",
    "lx_problem_points": "1"
   },
   "outputs": [
    {
     "data": {
      "text/plain": [
       "0.16666666666666666"
      ]
     },
     "execution_count": 8,
     "metadata": {},
     "output_type": "execute_result"
    }
   ],
   "source": [
    "\n",
    "# Calculate P(C)\n",
    "P_C = 1 / 6\n",
    "\n",
    "# Calculate P(D ∩ C)\n",
    "P_D_intersection_C = (1 / 6) * (1 / 6)\n",
    "\n",
    "# Calculate P(D | C)\n",
    "ProbOfDGivenC = P_D_intersection_C / P_C\n",
    "\n",
    "ProbOfDGivenC\n"
   ]
  },
  {
   "cell_type": "markdown",
   "metadata": {
    "lx_assignment_number": "1",
    "lx_problem_cell_type": "PROBLEM"
   },
   "source": [
    "# Exercise 3"
   ]
  },
  {
   "cell_type": "markdown",
   "metadata": {
    "deletable": false,
    "lx_assignment_number": "1",
    "lx_assignment_type": "ASSIGNMENT",
    "lx_assignment_type2print": "Assignment",
    "lx_problem_cell_type": "PROBLEM",
    "lx_problem_number": "3",
    "lx_problem_points": "2"
   },
   "source": [
    "\n",
    "Recall that for a given parameter $\\theta \\in [0,1]$, the probability mass function (PMF) for the $Bernoulli(\\theta)$ RV $X$ is:\n",
    "\n",
    "$$\n",
    "\\begin{equation}\n",
    "f(x;\\theta)= \\theta^x (1-\\theta)^{1-x} \\mathbf{1}_{\\{0,1\\}}(x) =\n",
    "\\begin{cases}\n",
    "\\theta & \\text{if $x=1$,}\\\\\n",
    "1-\\theta & \\text{if $x=0$,}\\\\\n",
    "0 & \\text{otherwise}\n",
    "\\end{cases}\n",
    "\\end{equation}\n",
    "$$\n",
    "\n",
    "In the next cell write a function named `pmfOfBernoulli` that takes in two arguments:\n",
    "\n",
    "- the first argument is `x` and \n",
    "- the second argument is `theta`\n",
    "\n",
    "and returns the value for $f(x; \\theta)$."
   ]
  },
  {
   "cell_type": "code",
   "execution_count": 10,
   "metadata": {
    "deletable": false,
    "lx_assignment_number": "1",
    "lx_assignment_type": "ASSIGNMENT",
    "lx_assignment_type2print": "Assignment",
    "lx_problem_cell_type": "PROBLEM",
    "lx_problem_number": "3",
    "lx_problem_points": "2"
   },
   "outputs": [],
   "source": [
    "# Replace RRR...RRR below Do NOT change the name of the function `pmfOfBernoulli`!\n",
    "\n",
    "def pmfOfBernoulli(x, theta):\n",
    "    '''Calculate the probability mass function for a Bernoulli distribution'''\n",
    "    if x == 1:\n",
    "        return theta\n",
    "    elif x == 0:\n",
    "        return 1 - theta\n",
    "    else:\n",
    "        return 0\n"
   ]
  }
 ],
 "metadata": {
  "kernelspec": {
   "display_name": "base",
   "language": "python",
   "name": "python3"
  },
  "language_info": {
   "codemirror_mode": {
    "name": "ipython",
    "version": 3
   },
   "file_extension": ".py",
   "mimetype": "text/x-python",
   "name": "python",
   "nbconvert_exporter": "python",
   "pygments_lexer": "ipython3",
   "version": "3.9.12"
  },
  "lx_assignment_number": "1",
  "lx_course_instance": "2020",
  "lx_course_name": "Introduction to Data Science: A Comp-Math-Stat Approach",
  "lx_course_number": "1MS041"
 },
 "nbformat": 4,
 "nbformat_minor": 2
}
