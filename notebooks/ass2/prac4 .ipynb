{
 "cells": [
  {
   "cell_type": "markdown",
   "metadata": {
    "lx_assignment_number": "4",
    "lx_problem_cell_type": "PROBLEM"
   },
   "source": [
    "# Exercise 1"
   ]
  },
  {
   "cell_type": "markdown",
   "metadata": {
    "deletable": false,
    "lx_assignment_number": "4",
    "lx_assignment_type": "ASSIGNMENT",
    "lx_assignment_type2print": "Assignment",
    "lx_problem_cell_type": "PROBLEM",
    "lx_problem_number": "1",
    "lx_problem_points": "2"
   },
   "source": [
    "\n",
    "Sometimes it is important to regress on count data, that is $Y_i$ corresponds to the count of something, taking values $0,1,\\ldots$. A reasonable distribution for count data is the Poisson distribution, that is we could consider\n",
    "$$\n",
    "    Y_i \\mid X_i \\sim \\text{Poisson}(\\lambda(X_i)), \\text{ where $\\lambda(X_i) = G(\\beta_0 + \\beta_1 X_i)$}\n",
    "$$\n",
    "where $G(x) = e^x$. The reason why $G(x) = e^x$ is two-fold, the first is that it always gives positive values no matter $x$, which fits the parameters space of the Poisson distribution, the second reason is that in practice it tends to be a better model for count data. Think of $X_i$ as denoting the presense or absence of something, then the rate-parameter $\\lambda(0) = e^{\\beta_0}$, and in the presense of $X_i = 1$ it becomes $\\lambda(1) = e^{\\beta_0 + \\beta_1} = e^{\\beta_0}e^{\\beta_1} = \\lambda(0)e^{\\beta_1}$, thus it is multiplicative. That is the presence of $X_i$ changes the rate with a constant factor (this is called a proportional model).\n",
    "\n",
    "Recall that a random variable $X \\sim Poisson(\\lambda)$ if its probability mass function is:\n",
    "\n",
    "$$\n",
    "f(x; \\lambda) = \\exp{(-\\lambda)} \\frac{\\lambda^x}{x!}, \\quad \\lambda > 0, \\quad x \\in \\{0,1,2,\\ldots\\}\n",
    "$$\n",
    "\n",
    "The assignment for you now is to do the motions from above, i.e. derive the conditional likelihood and apply it to a problem by filling in the missing parts of the code below.\n",
    "\n",
    "Hint, derive the log-likelihood on paper first then get rid of the factorial term."
   ]
  },
  {
   "cell_type": "code",
   "execution_count": 1,
   "metadata": {
    "deletable": false,
    "lx_assignment_number": "4",
    "lx_assignment_type": "ASSIGNMENT",
    "lx_assignment_type2print": "Assignment",
    "lx_problem_cell_type": "PROBLEM",
    "lx_problem_number": "1",
    "lx_problem_points": "2"
   },
   "outputs": [
    {
     "name": "stdout",
     "output_type": "stream",
     "text": [
      "  message: CONVERGENCE: NORM_OF_PROJECTED_GRADIENT_<=_PGTOL\n",
      "  success: True\n",
      "   status: 0\n",
      "      fun: -245.55959584262357\n",
      "        x: [ 2.888e+00 -8.115e-02]\n",
      "      nit: 9\n",
      "      jac: [-2.842e-06 -8.527e-06]\n",
      "     nfev: 45\n",
      "     njev: 15\n",
      " hess_inv: <2x2 LbfgsInvHessProduct with dtype=float64>\n"
     ]
    }
   ],
   "source": [
    "import numpy as np\n",
    "from scipy import optimize\n",
    "\n",
    "# do not change next two lines - this is the X,Y data\n",
    "X_samples= np.array([0, 1, 2, 3, 4, 5, 6, 7, 8, 9, 10, 11, 12, 13, 14, 15, 16, 17, 18, 19])\n",
    "Y_samples= np.array([16, 14, 16, 11, 16, 14, 9, 13, 13, 6, 9, 12, 6, 7, 5, 3, 4, 4, 2, 5])\n",
    "\n",
    "# finding MLE for Poisson Regression without the factorial part\n",
    "# do not Change the name of the next function - just replace XXX\n",
    "def negLogLklOPoissonRegression_wo_factorial(X,Y,params):\n",
    "    '''Calculate the negative log-likelihood for Poisson regression without the factorial part'''\n",
    "    beta0 = params[0]\n",
    "    beta1 = params[1]\n",
    "    \n",
    "    # Calculate lambda(X_i) for each X_i\n",
    "    lambda_X = np.exp(beta0 + beta1 * X)\n",
    "    \n",
    "    # Calculate the negative log-likelihood\n",
    "    nll = np.sum(lambda_X - Y * (beta0 + beta1 * X))\n",
    "    \n",
    "    return nll\n",
    "\n",
    "# you should only change XXX below and not anything else\n",
    "parameter_bounding_box=((-5.0, 5.0), (-1.0, 1.0)) # specify the constraints for each parameter - some guess work.\n",
    "initial_arguments = np.array([0.0, 0.0]) # point in 2D to initialise the minimize algorithm\n",
    "\n",
    "# Create a function that can be sent into the optimizer\n",
    "negLogLklOPoissonRegression_wo_factorial_XY = lambda params: negLogLklOPoissonRegression_wo_factorial(X_samples,Y_samples,params)\n",
    "\n",
    "# Optimize using scipy's minimize function\n",
    "result_Assignment4Problem1 = optimize.minimize(negLogLklOPoissonRegression_wo_factorial_XY, \n",
    "                                              initial_arguments, bounds=parameter_bounding_box)\n",
    "\n",
    "# Print the result\n",
    "print(result_Assignment4Problem1)\n"
   ]
  },
  {
   "cell_type": "markdown",
   "metadata": {
    "lx_assignment_number": "4",
    "lx_problem_cell_type": "PROBLEM"
   },
   "source": [
    "# Exercise 2"
   ]
  },
  {
   "cell_type": "markdown",
   "metadata": {
    "deletable": false,
    "lx_assignment_number": "4",
    "lx_assignment_type": "ASSIGNMENT",
    "lx_assignment_type2print": "Assignment",
    "lx_problem_cell_type": "PROBLEM",
    "lx_problem_number": "2",
    "lx_problem_points": "1"
   },
   "source": [
    "\n",
    "Consider an instance space $X$ consisting of integers $1$ to $1000$ and a target concept $c^\\ast = \\{x: 501 \\leq x \\leq 1000\\}$. If your hypothesis class $\\mathcal H$ is $\\{h_j:\\, h_j=\\{x: j \\leq x \\leq 1000\\}, j=1,\\ldots,1000\\}$. How large must the training set $S$ be to ensure that with probability $99\\%$ any consistent hypothesis (training error 0) will have a true error less than $10\\%$. (Hint: use the theorem above)."
   ]
  },
  {
   "cell_type": "code",
   "execution_count": 5,
   "metadata": {
    "deletable": false,
    "lx_assignment_number": "4",
    "lx_assignment_type": "ASSIGNMENT",
    "lx_assignment_type2print": "Assignment",
    "lx_problem_cell_type": "PROBLEM",
    "lx_problem_number": "2",
    "lx_problem_points": "1"
   },
   "outputs": [
    {
     "name": "stdout",
     "output_type": "stream",
     "text": [
      "Required number of training samples: 504.05693966478793\n"
     ]
    }
   ],
   "source": [
    "import numpy as np\n",
    "from scipy.optimize import fsolve\n",
    "\n",
    "# Define the equation based on the bound\n",
    "def equation(N):\n",
    "    term1 = 50 * (1000 * np.log(2 * N / 1000) + 2)\n",
    "    return term1 - N\n",
    "\n",
    "# Use fsolve to find the value of N that satisfies the equation\n",
    "N2 = fsolve(equation, 1000)  # Start guess at N=1000\n",
    "print(f\"Required number of training samples: {N2[0]}\")\n"
   ]
  },
  {
   "cell_type": "markdown",
   "metadata": {
    "lx_assignment_number": "4",
    "lx_problem_cell_type": "PROBLEM"
   },
   "source": [
    "# Exercise 3 "
   ]
  },
  {
   "cell_type": "markdown",
   "metadata": {
    "deletable": false,
    "lx_assignment_number": "4",
    "lx_assignment_type": "ASSIGNMENT",
    "lx_assignment_type2print": "Assignment",
    "lx_problem_cell_type": "PROBLEM",
    "lx_problem_number": "3",
    "lx_problem_points": "3"
   },
   "source": [
    "\n",
    "The following datasets are subsets of $d$-dimensional '0/1' vectors with label +1. The remaining '0/1' vectors are '-1'. Determine if the following three problems are linearly separable:\n",
    "\n",
    "1. $c^\\ast = \\{(0,1,0),(0,1,1),(1,0,0),(1,1,1)\\}$, and $X$ is all $0/1$ vectors in 3 dimensions.\n",
    "2. $c^\\ast = \\{(0,1,1),(0,1,0),(1,1,0),(1,1,1)\\}$, and $X$ is all $0/1$ vectors in 3 dimensions.\n",
    "3. $$\\begin{align*}\n",
    "      c^\\ast = \\{(0,1,0,0),(0,1,0,1),(0,1,1,0),(1,0,0,0)\\\\\n",
    "      ,(1,1,0,0),(1,1,0,1),(1,1,1,0),(1,1,1,1)\\}\n",
    "    \\end{align*}$$\n",
    "    and $X$ is all $0/1$ vectors in 4 dimensions."
   ]
  },
  {
   "cell_type": "code",
   "execution_count": 8,
   "metadata": {
    "deletable": false,
    "lx_assignment_number": "4",
    "lx_assignment_type": "ASSIGNMENT",
    "lx_assignment_type2print": "Assignment",
    "lx_problem_cell_type": "PROBLEM",
    "lx_problem_number": "3",
    "lx_problem_points": "3"
   },
   "outputs": [],
   "source": [
    "# Replace with True if true and False if false, they represent the three problems\n",
    "Solution_Q1 = True\n",
    "Solution_Q2 = False\n",
    "Solution_Q3 = True"
   ]
  },
  {
   "cell_type": "markdown",
   "metadata": {},
   "source": [
    "To determine if these datasets are **linearly separable**, we need to assess whether there exists a hyperplane (a linear decision boundary) that can separate the positive examples (labeled as +1) from the negative examples (labeled as -1). A dataset is **linearly separable** if such a hyperplane exists.\n",
    "\n",
    "### Problem 1\n",
    "- **Dataset**: \\( c^\\ast = \\{(0,1,0), (0,1,1), (1,0,0), (1,1,1)\\} \\)\n",
    "- **Instance space** \\( X \\): All \\( 0/1 \\) vectors in 3 dimensions (i.e., \\( 2^3 = 8 \\) total vectors).\n",
    "- The positive examples are: \\( (0,1,0), (0,1,1), (1,0,0), (1,1,1) \\).\n",
    "- The remaining \\( 4 \\) vectors are the negative examples: \\( (0,0,0), (0,0,1), (1,0,1), (1,1,0) \\).\n",
    "\n",
    "Now, let’s determine if the dataset is linearly separable:\n",
    "- The positive and negative points are distributed in a way that suggests there might be a hyperplane that can separate them. For example, you can draw a line in 3D space that separates the positive and negative examples.\n",
    "\n",
    "### Problem 2\n",
    "- **Dataset**: \\( c^\\ast = \\{(0,1,1), (0,1,0), (1,1,0), (1,1,1)\\} \\)\n",
    "- **Instance space** \\( X \\): All \\( 0/1 \\) vectors in 3 dimensions (i.e., \\( 2^3 = 8 \\) total vectors).\n",
    "- The positive examples are: \\( (0,1,1), (0,1,0), (1,1,0), (1,1,1) \\).\n",
    "- The negative examples are: \\( (0,0,0), (0,0,1), (1,0,0), (1,0,1) \\).\n",
    "\n",
    "This is a more challenging case. The distribution of positive and negative points suggests that the positive points form a square in the space, and separating this from the negative points may not be possible with a single linear decision boundary.\n",
    "\n",
    "### Problem 3\n",
    "- **Dataset**: \n",
    "  \\[\n",
    "  c^\\ast = \\{(0,1,0,0), (0,1,0,1), (0,1,1,0), (1,0,0,0), (1,1,0,0), (1,1,0,1), (1,1,1,0), (1,1,1,1)\\}\n",
    "  \\]\n",
    "- **Instance space** \\( X \\): All \\( 0/1 \\) vectors in 4 dimensions (i.e., \\( 2^4 = 16 \\) total vectors).\n",
    "- The positive examples are: \\( (0,1,0,0), (0,1,0,1), (0,1,1,0), (1,0,0,0), (1,1,0,0), (1,1,0,1), (1,1,1,0), (1,1,1,1) \\).\n",
    "- The negative examples are the remaining vectors.\n",
    "\n",
    "This is a straightforward case because the set of positive points corresponds to all vectors where the second and third coordinates are at least 1. This can be separated easily with a linear boundary.\n",
    "\n",
    "### Conclusion\n",
    "Now let's summarize the results:\n",
    "- **Problem 1** is linearly separable: **True**\n",
    "- **Problem 2** is **not** linearly separable: **False**\n",
    "- **Problem 3** is linearly separable: **True**\n"
   ]
  },
  {
   "cell_type": "markdown",
   "metadata": {
    "lx_assignment_number": "4",
    "lx_problem_cell_type": "Test"
   },
   "source": [
    "---\n",
    "#### Local Test for Assignment 4, PROBLEM 3\n",
    "Evaluate cell below to make sure your answer is valid.                         You **should not** modify anything in the cell below when evaluating it to do a local test of                         your solution.\n",
    "You may need to include and evaluate code snippets from lecture notebooks in cells above to make the local test work correctly sometimes (see error messages for clues). This is meant to help you become efficient at recalling materials covered in lectures that relate to this problem. Such local tests will generally not be available in the exam."
   ]
  },
  {
   "cell_type": "markdown",
   "metadata": {
    "lx_assignment_number": "4",
    "lx_problem_cell_type": "PROBLEM"
   },
   "source": [
    "# Exercise 4"
   ]
  },
  {
   "cell_type": "markdown",
   "metadata": {
    "deletable": false,
    "lx_assignment_number": "4",
    "lx_assignment_type": "ASSIGNMENT",
    "lx_assignment_type2print": "Assignment",
    "lx_problem_cell_type": "PROBLEM",
    "lx_problem_number": "4",
    "lx_problem_points": "1"
   },
   "source": [
    "\n",
    "In Problem 2 we looked at the following problem:\n",
    "Consider an instance space $X$ consisting of integers $1$ to $1000$ and a target concept $c^\\ast = \\{x: 501 \\leq x \\leq 1000\\}$. If your hypothesis class $\\mathcal H$ is $\\{h_j:\\, h_j=\\{x: j \\leq x \\leq 1000\\}, j=1,\\ldots,1000\\}$. \n",
    "\n",
    "What is the VC-dimension of our hypothesis class? That is, what is the maximum number of points such that $\\mathcal H$ shatters that set?"
   ]
  },
  {
   "cell_type": "code",
   "execution_count": 10,
   "metadata": {
    "deletable": false,
    "lx_assignment_number": "4",
    "lx_assignment_type": "ASSIGNMENT",
    "lx_assignment_type2print": "Assignment",
    "lx_problem_cell_type": "PROBLEM",
    "lx_problem_number": "4",
    "lx_problem_points": "1"
   },
   "outputs": [
    {
     "name": "stdout",
     "output_type": "stream",
     "text": [
      "The VC-dimension of the hypothesis class is: 1000\n"
     ]
    }
   ],
   "source": [
    "# Define the number of points in the set X\n",
    "n_points = 1000\n",
    "\n",
    "# VC dimension is the maximum number of points that can be shattered\n",
    "VC_dimension = n_points\n",
    "\n",
    "print(f\"The VC-dimension of the hypothesis class is: {VC_dimension}\")"
   ]
  },
  {
   "cell_type": "markdown",
   "metadata": {
    "lx_assignment_number": "4",
    "lx_problem_cell_type": "PROBLEM"
   },
   "source": [
    "# Exercise 5"
   ]
  },
  {
   "cell_type": "markdown",
   "metadata": {
    "deletable": false,
    "lx_assignment_number": "4",
    "lx_assignment_type": "ASSIGNMENT",
    "lx_assignment_type2print": "Assignment",
    "lx_problem_cell_type": "PROBLEM",
    "lx_problem_number": "5",
    "lx_problem_points": "1"
   },
   "source": [
    "\n",
    "Revisit problem 2 using the VC_dimension that you used in Problem 4, by instead applying the VC-bound.\n",
    "Consider an instance space $X$ consisting of integers $1$ to $1000$ and a target concept $c^\\ast = \\{x: 501 \\leq x \\leq 1000\\}$. If your hypothesis class $\\mathcal H$ is $\\{h_j:\\, h_j=\\{x: j \\leq x \\leq 1000\\}, j=1,\\ldots,1000\\}$. How large must the training set $S$ be to ensure that with probability $99\\%$ any consistent hypothesis (training error 0) will have a true error less than $10\\%$."
   ]
  },
  {
   "cell_type": "code",
   "execution_count": 16,
   "metadata": {
    "deletable": false,
    "lx_assignment_number": "4",
    "lx_assignment_type": "ASSIGNMENT",
    "lx_assignment_type2print": "Assignment",
    "lx_problem_cell_type": "PROBLEM",
    "lx_problem_number": "5",
    "lx_problem_points": "1"
   },
   "outputs": [
    {
     "name": "stdout",
     "output_type": "stream",
     "text": [
      "Required training set size (N5): 10000\n"
     ]
    },
    {
     "name": "stderr",
     "output_type": "stream",
     "text": [
      "/var/folders/bq/qnrb3lm539nfznyv5cmr8rph0000gn/T/ipykernel_23366/1564639873.py:11: RuntimeWarning: invalid value encountered in log\n",
      "  term1 = (VC_dimension * np.log(2 * N / VC_dimension)) + np.log(1 / delta)\n",
      "/var/folders/bq/qnrb3lm539nfznyv5cmr8rph0000gn/T/ipykernel_23366/1564639873.py:15: RuntimeWarning: The iteration is not making good progress, as measured by the \n",
      "  improvement from the last ten iterations.\n",
      "  N5_solution = fsolve(vc_bound_equation, 10000)  # Initial guess for N\n"
     ]
    }
   ],
   "source": [
    "import numpy as np\n",
    "from scipy.optimize import fsolve\n",
    "\n",
    "# Define parameters\n",
    "VC_dimension = 1000\n",
    "epsilon = 0.1\n",
    "delta = 0.01\n",
    "\n",
    "# Define the VC-bound equation\n",
    "def vc_bound_equation(N):\n",
    "    term1 = (VC_dimension * np.log(2 * N / VC_dimension)) + np.log(1 / delta)\n",
    "    return (1 / epsilon) * term1 - N\n",
    "\n",
    "# Solve for N\n",
    "N5_solution = fsolve(vc_bound_equation, 10000)  # Initial guess for N\n",
    "N5 = int(np.ceil(N5_solution[0]))  # Ensure the result is an integer\n",
    "\n",
    "print(f\"Required training set size (N5): {N5}\")\n"
   ]
  }
 ],
 "metadata": {
  "kernelspec": {
   "display_name": "base",
   "language": "python",
   "name": "python3"
  },
  "language_info": {
   "codemirror_mode": {
    "name": "ipython",
    "version": 3
   },
   "file_extension": ".py",
   "mimetype": "text/x-python",
   "name": "python",
   "nbconvert_exporter": "python",
   "pygments_lexer": "ipython3",
   "version": "3.9.12"
  },
  "lx_assignment_number": "4",
  "lx_course_instance": "2020",
  "lx_course_name": "Introduction to Data Science: A Comp-Math-Stat Approach",
  "lx_course_number": "1MS041"
 },
 "nbformat": 4,
 "nbformat_minor": 2
}
