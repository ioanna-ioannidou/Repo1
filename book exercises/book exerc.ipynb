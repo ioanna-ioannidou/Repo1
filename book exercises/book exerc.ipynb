{
 "cells": [
  {
   "cell_type": "markdown",
   "metadata": {},
   "source": [
    "Chapter 4: Inequalities"
   ]
  },
  {
   "cell_type": "markdown",
   "metadata": {},
   "source": [
    "1. Let x~exp(b) find P(∣X−μ∣≥k)>=kσ for k>1. compare this to chebyshevs bound."
   ]
  },
  {
   "cell_type": "markdown",
   "metadata": {},
   "source": [
    "### Properties of the exponential distribution\n",
    "1. **Mean** $$ \\mu :  \\mu = b $$.\n",
    "2. **Variance** $$ \\sigma^2 :  \\sigma^2 = b^2 ,  \\sigma = b $$.\n",
    "\n",
    "### Calculate $$ P(|X - \\mu| \\geq k\\sigma) $$\n",
    "The condition becomes:\n",
    "$$\n",
    "P(|X - \\mu| \\geq k\\sigma) = P(|X - b| \\geq kb) = P(X \\leq b - kb) + P(X \\geq b + kb).\n",
    "$$\n",
    "\n",
    "#### Case 1: $$ P(X \\leq b - kb) $$\n",
    "For an exponential distribution, $$ X \\geq 0$$ . If $ b - kb \\leq 0 $ (which is true when \\( k > 1 \\)), this term is zero:\n",
    "$$\n",
    "P(X \\leq b - kb) = 0.\n",
    "$$\n",
    "\n",
    "#### Case 2: $$ P(X \\geq b + kb) $$\n",
    "For $X \\sim \\text{Exp}(\\frac{1}{b})$, the survival function is:\n",
    "$$\n",
    "P(X \\geq x) = e^{-x/b}\n",
    "$$\n",
    "Substitute $x = b + kb$:\n",
    "$$\n",
    "P(X \\geq b + kb) = e^{-(b + kb)/b} = e^{-(1 + k)}\n",
    "$$\n",
    "$$\n",
    "P(|X - \\mu| \\geq k\\sigma) = P(X \\geq b + kb) = e^{-(1 + k)}\n",
    "$$\n",
    "\n",
    "\n",
    "### Compare to Chebyshev’s bound\n",
    "Chebyshev's inequality states:\n",
    "$$\n",
    "P(|X - \\mu| \\geq k\\sigma) \\leq \\frac{1}{k^2}.\n",
    "$$\n",
    "\n",
    "The exponential bound is much tighter (\\( 0.0498 \\) vs. \\( 0.25 \\))."
   ]
  },
  {
   "cell_type": "markdown",
   "metadata": {},
   "source": [
    "4. Let X1, X2, ..., Xn ~ Bernoulli(p) A. Let a>0 be fixed and define ε_n = sqrt((1/2n)*(log(2/a))). Let p_n_hat = n^-1sum(Xi). Define Cn=(p_n_hat-ε_n, p_n_hat+ε_n). Use Hoeffding's inequality to show that P(Cn contains p)>=1-a. In practise we truncate the interval so it does not go below 0 and above 1.\n",
    "B. Let's examine the properties of this confidence interval. Let a=0.05 and p=0.4. Consider a simulation study to see how often the interval contains p (called the coverage). Do this for various values of n between 1 and 10000, Plot the coverage versus n. \n",
    "C. Plot the length of the interval versus n. Suppose we want the lenght of the interval to be more than 0.05. How large should n be?"
   ]
  },
  {
   "cell_type": "markdown",
   "metadata": {},
   "source": [
    "### Hoeffding's Inequality\n",
    "Let $$ X_1, X_2, \\dots, X_n $$ be independent random variables, each bounded such that $$ X_i \\in [0, 1] $$. Hoeffding's inequality states:\n",
    "$$\n",
    "P\\left( \\left| \\frac{1}{n} \\sum_{i=1}^n X_i - p \\right| \\geq \\epsilon \\right) \\leq 2e^{-2n\\epsilon^2}.\n",
    "$$\n",
    "\n",
    "### Verify the bound\n",
    "Calculate $$ 2e^{-2n\\epsilon_n^2} $$:\n",
    "$$\n",
    "2e^{-2n\\epsilon_n^2} = 2e^{-2n \\cdot \\frac{\\log(2/a)}{2n}} = 2e^{-\\log(2/a)} = a.\n",
    "$$\n",
    "$$\n",
    "P\\left( \\left| \\frac{1}{n} \\sum_{i=1}^n X_i - p \\right| \\geq \\epsilon_n \\right) \\leq a.\n",
    "$$\n",
    "\n",
    "### Probability that \\( C_n \\) contains \\( p \\)\n",
    "The interval \\( C_n \\) is defined as:\n",
    "$$\n",
    "C_n = \\left( \\hat{p}_n - \\epsilon_n, \\hat{p}_n + \\epsilon_n \\right),\n",
    "$$\n",
    "where $$ \\hat{p}_n = \\frac{1}{n} \\sum_{i=1}^n X_i $$. The complement of \\( C_n \\) containing \\( p \\) is:\n",
    "$$\n",
    "P\\left( p \\notin C_n \\right) = P\\left( \\left| \\hat{p}_n - p \\right| \\geq \\epsilon_n \\right).\n",
    "$$\n",
    "\n",
    "Using Hoeffding's inequality:\n",
    "$$\n",
    "P\\left( p \\notin C_n \\right) \\leq a.\n",
    "$$\n",
    "$$\n",
    "P\\left( p \\in C_n \\right) = 1 - P\\left( p \\notin C_n \\right) \\geq 1 - a.\n",
    "$$\n",
    "\n",
    "### Truncating \\( C_n \\)\n",
    "In practice, the interval $$C_n = (\\hat{p}_n - \\epsilon_n, \\hat{p}_n + \\epsilon_n) $$ is truncated to ensure it remains within the valid range of probabilities \\( [0, 1] \\). The truncated interval is:\n",
    "$$\n",
    "C_n^{\\text{truncated}} = \\left( \\max(0, \\hat{p}_n - \\epsilon_n), \\min(1, \\hat{p}_n + \\epsilon_n) \\right).\n",
    "$$\n"
   ]
  },
  {
   "cell_type": "code",
   "execution_count": 1,
   "metadata": {},
   "outputs": [
    {
     "ename": "KeyboardInterrupt",
     "evalue": "",
     "output_type": "error",
     "traceback": [
      "\u001b[0;31m---------------------------------------------------------------------------\u001b[0m",
      "\u001b[0;31mKeyboardInterrupt\u001b[0m                         Traceback (most recent call last)",
      "Input \u001b[0;32mIn [1]\u001b[0m, in \u001b[0;36m<cell line: 14>\u001b[0;34m()\u001b[0m\n\u001b[1;32m     18\u001b[0m \u001b[38;5;28;01mfor\u001b[39;00m _ \u001b[38;5;129;01min\u001b[39;00m \u001b[38;5;28mrange\u001b[39m(simulations):\n\u001b[1;32m     19\u001b[0m     sample \u001b[38;5;241m=\u001b[39m np\u001b[38;5;241m.\u001b[39mrandom\u001b[38;5;241m.\u001b[39mbinomial(\u001b[38;5;241m1\u001b[39m, p, n)  \u001b[38;5;66;03m# Generate a sample of size n\u001b[39;00m\n\u001b[0;32m---> 20\u001b[0m     p_hat \u001b[38;5;241m=\u001b[39m \u001b[43mnp\u001b[49m\u001b[38;5;241;43m.\u001b[39;49m\u001b[43mmean\u001b[49m\u001b[43m(\u001b[49m\u001b[43msample\u001b[49m\u001b[43m)\u001b[49m  \u001b[38;5;66;03m# Sample mean\u001b[39;00m\n\u001b[1;32m     21\u001b[0m     lower_bound \u001b[38;5;241m=\u001b[39m \u001b[38;5;28mmax\u001b[39m(\u001b[38;5;241m0\u001b[39m, p_hat \u001b[38;5;241m-\u001b[39m epsilon)  \u001b[38;5;66;03m# Truncate lower bound at 0\u001b[39;00m\n\u001b[1;32m     22\u001b[0m     upper_bound \u001b[38;5;241m=\u001b[39m \u001b[38;5;28mmin\u001b[39m(\u001b[38;5;241m1\u001b[39m, p_hat \u001b[38;5;241m+\u001b[39m epsilon)  \u001b[38;5;66;03m# Truncate upper bound at 1\u001b[39;00m\n",
      "File \u001b[0;32m~/opt/anaconda3/lib/python3.9/site-packages/numpy/core/fromnumeric.py:3504\u001b[0m, in \u001b[0;36mmean\u001b[0;34m(a, axis, dtype, out, keepdims, where)\u001b[0m\n\u001b[1;32m   3501\u001b[0m     \u001b[38;5;28;01melse\u001b[39;00m:\n\u001b[1;32m   3502\u001b[0m         \u001b[38;5;28;01mreturn\u001b[39;00m mean(axis\u001b[38;5;241m=\u001b[39maxis, dtype\u001b[38;5;241m=\u001b[39mdtype, out\u001b[38;5;241m=\u001b[39mout, \u001b[38;5;241m*\u001b[39m\u001b[38;5;241m*\u001b[39mkwargs)\n\u001b[0;32m-> 3504\u001b[0m \u001b[38;5;28;01mreturn\u001b[39;00m \u001b[43m_methods\u001b[49m\u001b[38;5;241;43m.\u001b[39;49m\u001b[43m_mean\u001b[49m\u001b[43m(\u001b[49m\u001b[43ma\u001b[49m\u001b[43m,\u001b[49m\u001b[43m \u001b[49m\u001b[43maxis\u001b[49m\u001b[38;5;241;43m=\u001b[39;49m\u001b[43maxis\u001b[49m\u001b[43m,\u001b[49m\u001b[43m \u001b[49m\u001b[43mdtype\u001b[49m\u001b[38;5;241;43m=\u001b[39;49m\u001b[43mdtype\u001b[49m\u001b[43m,\u001b[49m\n\u001b[1;32m   3505\u001b[0m \u001b[43m                      \u001b[49m\u001b[43mout\u001b[49m\u001b[38;5;241;43m=\u001b[39;49m\u001b[43mout\u001b[49m\u001b[43m,\u001b[49m\u001b[43m \u001b[49m\u001b[38;5;241;43m*\u001b[39;49m\u001b[38;5;241;43m*\u001b[39;49m\u001b[43mkwargs\u001b[49m\u001b[43m)\u001b[49m\n",
      "File \u001b[0;32m~/opt/anaconda3/lib/python3.9/site-packages/numpy/core/_methods.py:107\u001b[0m, in \u001b[0;36m_mean\u001b[0;34m(a, axis, dtype, out, keepdims, where)\u001b[0m\n\u001b[1;32m    104\u001b[0m is_float16_result \u001b[38;5;241m=\u001b[39m \u001b[38;5;28;01mFalse\u001b[39;00m\n\u001b[1;32m    106\u001b[0m rcount \u001b[38;5;241m=\u001b[39m _count_reduce_items(arr, axis, keepdims\u001b[38;5;241m=\u001b[39mkeepdims, where\u001b[38;5;241m=\u001b[39mwhere)\n\u001b[0;32m--> 107\u001b[0m \u001b[38;5;28;01mif\u001b[39;00m \u001b[43mrcount\u001b[49m\u001b[43m \u001b[49m\u001b[38;5;241;43m==\u001b[39;49m\u001b[43m \u001b[49m\u001b[38;5;241;43m0\u001b[39;49m \u001b[38;5;28;01mif\u001b[39;00m where \u001b[38;5;129;01mis\u001b[39;00m \u001b[38;5;28;01mTrue\u001b[39;00m \u001b[38;5;28;01melse\u001b[39;00m umr_any(rcount \u001b[38;5;241m==\u001b[39m \u001b[38;5;241m0\u001b[39m, axis\u001b[38;5;241m=\u001b[39m\u001b[38;5;28;01mNone\u001b[39;00m):\n\u001b[1;32m    108\u001b[0m     warnings\u001b[38;5;241m.\u001b[39mwarn(\u001b[38;5;124m\"\u001b[39m\u001b[38;5;124mMean of empty slice.\u001b[39m\u001b[38;5;124m\"\u001b[39m, \u001b[38;5;167;01mRuntimeWarning\u001b[39;00m, stacklevel\u001b[38;5;241m=\u001b[39m\u001b[38;5;241m2\u001b[39m)\n\u001b[1;32m    110\u001b[0m \u001b[38;5;66;03m# Cast bool, unsigned int, and int to float64 by default\u001b[39;00m\n",
      "\u001b[0;31mKeyboardInterrupt\u001b[0m: "
     ]
    }
   ],
   "source": [
    "import numpy as np\n",
    "import matplotlib.pyplot as plt\n",
    "\n",
    "p = 0.4  \n",
    "alpha = 0.05  \n",
    "a = alpha  \n",
    "n_values = np.arange(1, 10001) \n",
    "simulations = 10000  \n",
    "\n",
    "def epsilon_n(n, a):\n",
    "    return np.sqrt((1 / (2 * n)) * np.log(2 / a))\n",
    "\n",
    "coverage = []\n",
    "for n in n_values:\n",
    "    epsilon = epsilon_n(n, a)\n",
    "    contained = 0  # Count how many intervals contain the true p\n",
    "    \n",
    "    for _ in range(simulations):\n",
    "        sample = np.random.binomial(1, p, n)  # Generate a sample of size n\n",
    "        p_hat = np.mean(sample)  # Sample mean\n",
    "        lower_bound = max(0, p_hat - epsilon)  # Truncate lower bound at 0\n",
    "        upper_bound = min(1, p_hat + epsilon)  # Truncate upper bound at 1\n",
    "        if lower_bound <= p <= upper_bound:  # Check if interval contains p\n",
    "            contained += 1\n",
    "    \n",
    "    # Coverage probability\n",
    "    coverage.append(contained / simulations)\n",
    "\n",
    "# coverage vs. sample size\n",
    "plt.figure(figsize=(10, 6))\n",
    "plt.plot(n_values, coverage, label=f\"Coverage (p = {p}, alpha = {alpha})\")\n",
    "plt.axhline(y=1 - alpha, color='red', linestyle='--', label=\"Target Coverage (1 - alpha)\")\n",
    "plt.xlabel(\"Sample Size (n)\")\n",
    "plt.ylabel(\"Coverage Probability\")\n",
    "plt.title(\"Coverage Probability vs. Sample Size\")\n",
    "plt.legend()\n",
    "plt.grid()\n",
    "plt.show()\n"
   ]
  },
  {
   "cell_type": "code",
   "execution_count": null,
   "metadata": {},
   "outputs": [
    {
     "data": {
      "image/png": "[encoded data removed]",
      "text/plain": [
       "<Figure size 720x432 with 1 Axes>"
      ]
     },
     "metadata": {
      "needs_background": "light"
     },
     "output_type": "display_data"
    },
    {
     "name": "stdout",
     "output_type": "stream",
     "text": [
      "2952\n",
      "The smallest n where the interval length is greater than 0.05 is n=139. This means you would need at least samples to ensure the interval length exceeds 0.05\n"
     ]
    }
   ],
   "source": [
    "# Calculate the length of the interval for each n\n",
    "interval_lengths = []\n",
    "\n",
    "for n in n_values:\n",
    "    epsilon = epsilon_n(n, a)  # Calculate epsilon for the given n\n",
    "    length = 2 * epsilon  # Length of the confidence interval\n",
    "    interval_lengths.append(length)\n",
    "\n",
    "# Find the minimum n where the interval length is greater than 0.05\n",
    "threshold_length = 0.05\n",
    "n_required = n_values[np.argmax(np.array(interval_lengths) <= threshold_length)]\n",
    "\n",
    "# Plot length of the interval vs. sample size\n",
    "plt.figure(figsize=(10, 6))\n",
    "plt.plot(n_values, interval_lengths, label=\"Interval Length\")\n",
    "plt.axhline(y=threshold_length, color='red', linestyle='--', label=f\"Threshold = {threshold_length}\")\n",
    "plt.xlabel(\"Sample Size (n)\")\n",
    "plt.ylabel(\"Interval Length\")\n",
    "plt.title(\"Interval Length vs. Sample Size\")\n",
    "plt.legend()\n",
    "plt.grid()\n",
    "plt.show()\n",
    "\n",
    "print(n_required)\n",
    "\n",
    "print('The smallest n where the interval length is greater than 0.05 is n=2952. This means you would need at least samples to ensure the interval length exceeds 0.05')"
   ]
  },
  {
   "cell_type": "markdown",
   "metadata": {},
   "source": [
    "6. Let Z~N(0,1) find P(|Z|>t) and plot this as a function of t. From Markov's inequality we have the bound P(|Z|>t) <= (E_|Z|^k)/(t^k) for any k>0. Plot these bounds for k=1,2,3,4,5 and compare them to the true value of P(|Z|>t). Also, plot the bound from Mill's Inequality."
   ]
  },
  {
   "cell_type": "markdown",
   "metadata": {},
   "source": [
    "\n",
    "1. **Find \\( P(|Z| > t) \\) for a standard normal distribution \\( Z \\sim N(0,1) \\).** This can be expressed using the cumulative distribution function (CDF) of the standard normal distribution, as:\n",
    "\n",
    "$$\n",
    "P(|Z| > t) = 2 \\cdot P(Z > t) = 2 \\cdot (1 - \\Phi(t))\n",
    "$$\n",
    "where \\( \\Phi(t) \\) is the CDF of the standard normal distribution.\n",
    "\n",
    "2. **Markov's inequality**\n",
    "   Markov's inequality states that for any random variable \\( X \\) and any \\( a > 0 \\):\n",
    "  $$\n",
    "   P(|X| \\geq a) \\leq \\frac{E[|X|^k]}{a^k}\n",
    "  $$\n",
    "   \n",
    "   For the standard normal distribution \\( Z \\), we have \\( E[|Z|^k] = \\Gamma\\left( \\frac{k + 1}{2} \\right) \\) for even \\( k \\), where \\( \\Gamma \\) is the Gamma function.\n",
    "\n",
    "   For \\( k = 1, 2, 3, 4, 5 \\), we will use these moments to plot the bounds. \n",
    "\n",
    "3. **Bound from Mill's inequality:**\n",
    "   Mill's inequality provides an upper bound for \\( P(Z > t) \\) for large \\( t \\), given by:\n",
    "$$\n",
    "   P(Z > t) \\leq \\frac{\\phi(t)}{t}\n",
    " $$\n",
    "   where \\( \\phi(t) \\) is the standard normal probability density function (PDF):\n",
    "$$\n",
    "   \\phi(t) = \\frac{1}{\\sqrt{2\\pi}} e^{-t^2 / 2}\n",
    "$$\n"
   ]
  },
  {
   "cell_type": "code",
   "execution_count": null,
   "metadata": {},
   "outputs": [],
   "source": [
    "import numpy as np\n",
    "import matplotlib.pyplot as plt\n",
    "from scipy.stats import norm\n",
    "from scipy.special import gamma\n",
    "\n",
    "# Calculate P(|Z| > t) for a standard normal distribution\n",
    "def true_prob(t):\n",
    "    return 2 * (1 - norm.cdf(t))\n",
    "\n",
    "# Markov bound for P(|Z| > t) for different values of k\n",
    "def markov_bound(t, k):\n",
    "    E_abs_Z_k = gamma((k + 1) / 2)  # Moment of |Z|^k for standard normal Z\n",
    "    return E_abs_Z_k / t**k\n",
    "\n",
    "# Mill's inequality bound for P(Z > t)\n",
    "def mills_bound(t):\n",
    "    phi_t = np.exp(-t**2 / 2) / np.sqrt(2 * np.pi)\n",
    "    return phi_t / t\n",
    "\n",
    "# Values of t (evaluate the functions for t from 0.1 to 5)\n",
    "t_values = np.linspace(0.1, 5, 500)\n",
    "\n",
    "# Calculate true probabilities\n",
    "true_probs = true_prob(t_values)\n",
    "\n",
    "# Calculate Markov bounds for k=1,2,3,4,5\n",
    "markov_probs_k1 = markov_bound(t_values, 1)\n",
    "markov_probs_k2 = markov_bound(t_values, 2)\n",
    "markov_probs_k3 = markov_bound(t_values, 3)\n",
    "markov_probs_k4 = markov_bound(t_values, 4)\n",
    "markov_probs_k5 = markov_bound(t_values, 5)\n",
    "\n",
    "# Calculate Mill's inequality bound\n",
    "mills_probs = mills_bound(t_values)\n",
    "\n",
    "# Plot the results\n",
    "plt.figure(figsize=(10, 6))\n",
    "\n",
    "# Plot true probability\n",
    "plt.plot(t_values, true_probs, label=r'$P(|Z|>t)$ (True)', color='black', linewidth=2)\n",
    "\n",
    "# Plot Markov bounds\n",
    "plt.plot(t_values, markov_probs_k1, label=r'Markov $k=1$', linestyle='--')\n",
    "plt.plot(t_values, markov_probs_k2, label=r'Markov $k=2$', linestyle='--')\n",
    "plt.plot(t_values, markov_probs_k3, label=r'Markov $k=3$', linestyle='--')\n",
    "plt.plot(t_values, markov_probs_k4, label=r'Markov $k=4$', linestyle='--')\n",
    "plt.plot(t_values, markov_probs_k5, label=r'Markov $k=5$', linestyle='--')\n",
    "\n",
    "# Plot Mill's inequality bound\n",
    "plt.plot(t_values, mills_probs, label=r'Mill\\'s Inequality', color='red', linestyle='-.')\n",
    "\n",
    "# Add labels and legend\n",
    "plt.xlabel('t', fontsize=12)\n",
    "plt.ylabel(r'$P(|Z|>t)$', fontsize=12)\n",
    "plt.title(r'Comparison of True Probability, Markov Bounds, and Mill\\'s Inequality', fontsize=14)\n",
    "plt.legend()\n",
    "\n",
    "# Display the plot\n",
    "plt.grid(True)\n",
    "plt.show()\n"
   ]
  },
  {
   "cell_type": "markdown",
   "metadata": {},
   "source": [
    "Chapter 7: Estimating the CDF and Statistical Fuctionals"
   ]
  },
  {
   "cell_type": "markdown",
   "metadata": {},
   "source": [
    "3. Generate 100 observations from a N(0,1) distribution. Compute a 95% confidence band for the CDF F. Repeat this 1000 times and see how often the confidence band contains the true distribution function. Repeat using data from a Cauchy distribution. "
   ]
  },
  {
   "cell_type": "markdown",
   "metadata": {},
   "source": [
    "The Dvoretsky-Kiefer-Wolfowitz (DKW) inequality is used in this context because it provides a uniform bound on the deviation between the empirical cumulative distribution function (CDF) F^n(x) and the true CDF F(x)"
   ]
  },
  {
   "cell_type": "code",
   "execution_count": 2,
   "metadata": {},
   "outputs": [
    {
     "name": "stdout",
     "output_type": "stream",
     "text": [
      "Containment rate for N(0,1): 0.970\n",
      "Containment rate for Cauchy(0,1): 0.957\n"
     ]
    }
   ],
   "source": [
    "import numpy as np\n",
    "import matplotlib.pyplot as plt\n",
    "from scipy.stats import norm, cauchy\n",
    "\n",
    "n = 100  \n",
    "alpha = 0.05  \n",
    "num_simulations = 1000  \n",
    "\n",
    "#  Dvoretsky-Kiefer-Wolfowitz (DKW) inequality\n",
    "epsilon = np.sqrt(np.log(2 / alpha) / (2 * n))\n",
    "\n",
    "# Check if True CDF is in the Band\n",
    "def check_confidence_band(data, true_cdf):\n",
    "    empirical_cdf = np.sort(data)\n",
    "    F_hat = np.arange(1, n + 1) / n  # Empirical CDF values\n",
    "\n",
    "    lower_band = np.clip(F_hat - epsilon, 0, 1)\n",
    "    upper_band = np.clip(F_hat + epsilon, 0, 1)\n",
    "\n",
    "    # Evaluate true CDF at sorted data points\n",
    "    true_cdf_values = true_cdf(empirical_cdf)\n",
    "\n",
    "    # Check if the true CDF is within the bands\n",
    "    return np.all((true_cdf_values >= lower_band) & (true_cdf_values <= upper_band))\n",
    "\n",
    "# Simulations\n",
    "\n",
    "def simulate(true_dist, true_cdf):\n",
    "    contained_count = 0\n",
    "\n",
    "    for _ in range(num_simulations):\n",
    "        data = true_dist.rvs(size=n)\n",
    "        if check_confidence_band(data, true_cdf):\n",
    "            contained_count += 1\n",
    "\n",
    "    return contained_count / num_simulations\n",
    "\n",
    "# Normal Distribution Simulation\n",
    "normal_containment_rate = simulate(norm, norm.cdf)\n",
    "\n",
    "# Cauchy Distribution Simulation\n",
    "cauchy_containment_rate = simulate(cauchy, cauchy.cdf)\n",
    "\n",
    "# Results\n",
    "print(f\"Containment rate for N(0,1): {normal_containment_rate:.3f}\")\n",
    "print(f\"Containment rate for Cauchy(0,1): {cauchy_containment_rate:.3f}\")\n"
   ]
  },
  {
   "cell_type": "markdown",
   "metadata": {},
   "source": [
    "Chapter 9: Parametric Inference"
   ]
  },
  {
   "cell_type": "markdown",
   "metadata": {},
   "source": [
    "2. d. Let τ_hat be the MLE of τ. Let τ_tilde be the nonparametric plug-in estimator of τ=integral(xdF(x)). Suppose that a=1, b=3, and n=10. Find the MSE of τ_hat by simulation. Find the MSE of τ_tilde analytically. Compare."
   ]
  },
  {
   "cell_type": "code",
   "execution_count": 1,
   "metadata": {},
   "outputs": [
    {
     "name": "stdout",
     "output_type": "stream",
     "text": [
      "MSE of tau_hat (MLE): 0.015140616821841573\n"
     ]
    }
   ],
   "source": [
    "import numpy as np\n",
    "\n",
    "a, b = 1, 3  # Uniform distribution bounds\n",
    "n = 10  # Sample size\n",
    "tau = (a + b) / 2  # True value of tau\n",
    "num_simulations = 100_000  # Number of simulations\n",
    "\n",
    "# Simulation of tau_hat (MLE)\n",
    "tau_hat_samples = []\n",
    "for _ in range(num_simulations):\n",
    "    sample = np.random.uniform(a, b, n)\n",
    "    tau_hat = (np.min(sample) + np.max(sample)) / 2\n",
    "    tau_hat_samples.append(tau_hat)\n",
    "\n",
    "# Compute MSE of tau_hat\n",
    "tau_hat_samples = np.array(tau_hat_samples)\n",
    "mse_tau_hat = np.mean((tau_hat_samples - tau) ** 2)\n",
    "\n",
    "# Output the result\n",
    "print(f\"MSE of tau_hat (MLE): {mse_tau_hat}\")\n"
   ]
  },
  {
   "cell_type": "markdown",
   "metadata": {},
   "source": [
    "3. c. Suppose the data are (given below). Find the MSE t_hat. Find the standard error using the delta method and the parametric bootstrap. "
   ]
  },
  {
   "cell_type": "code",
   "execution_count": 4,
   "metadata": {},
   "outputs": [
    {
     "name": "stdout",
     "output_type": "stream",
     "text": [
      "0.5575801038636548\n",
      "0.5557450556817949\n"
     ]
    }
   ],
   "source": [
    "import numpy as np\n",
    "from scipy.stats import norm\n",
    "data = np.array([ 3.23,\n",
    "-2.50, 1.88,\n",
    "-0.68, 4.43, 0.17,\n",
    "1.03,\n",
    "-0.07,\n",
    "-0.01, 0.76, 1.76, 3.18,\n",
    "0.33,\n",
    "-0.31, 0.30,\n",
    "-0.61, 1.52, 5.43,\n",
    "1.54, 2.28, 0.42, 2.33,\n",
    "-1.03, 4.00,\n",
    "0.39])\n",
    "n_samples = data.size\n",
    "n_sims = 10**5\n",
    "se_delta_method = np.std(data) \\\n",
    "* np.sqrt(1. / n_samples * (1. + 0.5 * norm.ppf(0.95)**2))\n",
    "\n",
    "samples = np.std(data) * np.random.randn(n_sims, n_samples) + np.mean(data)\n",
    "tau_mles = np.std(samples, axis=1) * norm.ppf(0.95) + np.mean(samples, axis=1)\n",
    "se_parametric_boostrap = np.std(tau_mles)\n",
    "\n",
    "print(se_delta_method)\n",
    "print(se_parametric_boostrap)\n"
   ]
  },
  {
   "cell_type": "code",
   "execution_count": 5,
   "metadata": {},
   "outputs": [
    {
     "name": "stdout",
     "output_type": "stream",
     "text": [
      "Observed t_hat: 4.242\n",
      "Bootstrap MSE of t_hat: 0.412\n"
     ]
    }
   ],
   "source": [
    "import numpy as np\n",
    "\n",
    "# Data\n",
    "data = np.array([3.23, -2.50, 1.88, -0.68, 4.43, 0.17, 1.03, -0.07, \n",
    "                 -0.01, 0.76, 1.76, 3.18, 0.33, -0.31, 0.30, -0.61, \n",
    "                 1.52, 5.43, 1.54, 2.28, 0.42, 2.33, -1.03, 4.00, 0.39])\n",
    "\n",
    "# Parameters\n",
    "z_95 = 1.645  # 95th quantile of the standard normal distribution\n",
    "B = 1000  # Number of bootstrap samples\n",
    "\n",
    "# Compute observed t_hat\n",
    "sample_mean = np.mean(data)\n",
    "sample_std = np.std(data, ddof=1)  # Sample standard deviation\n",
    "t_hat = sample_mean + z_95 * sample_std\n",
    "\n",
    "# Bootstrap MSE\n",
    "bootstrap_t_hats = []\n",
    "n = len(data)\n",
    "\n",
    "for _ in range(B):\n",
    "    # Generate a bootstrap sample\n",
    "    bootstrap_sample = np.random.choice(data, size=n, replace=True)\n",
    "    # Compute t_hat for the bootstrap sample\n",
    "    bootstrap_mean = np.mean(bootstrap_sample)\n",
    "    bootstrap_std = np.std(bootstrap_sample, ddof=1)\n",
    "    bootstrap_t_hat = bootstrap_mean + z_95 * bootstrap_std\n",
    "    bootstrap_t_hats.append(bootstrap_t_hat)\n",
    "\n",
    "# Convert bootstrap estimates to a NumPy array\n",
    "bootstrap_t_hats = np.array(bootstrap_t_hats)\n",
    "\n",
    "# Compute the MSE of t_hat\n",
    "mse_t_hat = np.mean((bootstrap_t_hats - t_hat) ** 2)\n",
    "\n",
    "# Output results\n",
    "print(f\"Observed t_hat: {t_hat:.3f}\")\n",
    "print(f\"Bootstrap MSE of t_hat: {mse_t_hat:.3f}\")\n"
   ]
  }
 ],
 "metadata": {
  "kernelspec": {
   "display_name": "base",
   "language": "python",
   "name": "python3"
  },
  "language_info": {
   "codemirror_mode": {
    "name": "ipython",
    "version": 3
   },
   "file_extension": ".py",
   "mimetype": "text/x-python",
   "name": "python",
   "nbconvert_exporter": "python",
   "pygments_lexer": "ipython3",
   "version": "3.9.12"
  }
 },
 "nbformat": 4,
 "nbformat_minor": 2
}
