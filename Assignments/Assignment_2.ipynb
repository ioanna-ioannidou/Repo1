{
 "cells": [
  {
   "cell_type": "markdown",
   "id": "a02e1560",
   "metadata": {
    "deletable": false
   },
   "source": [
    "\n",
    "# Assignment 2 for Course 1MS041\n",
    "Make sure you pass the `# ... Test` cells and\n",
    " submit your solution notebook in the corresponding assignment on the course website. You can submit multiple times before the deadline and your highest score will be used."
   ]
  },
  {
   "cell_type": "markdown",
   "id": "5f83a5ee",
   "metadata": {
    "deletable": false,
    "lx_assignment_number": "2",
    "lx_assignment_type": "ASSIGNMENT",
    "lx_assignment_type2print": "Assignment",
    "lx_problem_cell_type": "PROBLEM",
    "lx_problem_number": "1",
    "lx_problem_points": "8"
   },
   "source": [
    "---\n",
    "## Assignment 2, PROBLEM 1\n",
    "Maximum Points = 8"
   ]
  },
  {
   "cell_type": "markdown",
   "id": "db58f10b",
   "metadata": {
    "deletable": false,
    "lx_assignment_number": "2",
    "lx_assignment_type": "ASSIGNMENT",
    "lx_assignment_type2print": "Assignment",
    "lx_problem_cell_type": "PROBLEM",
    "lx_problem_number": "1",
    "lx_problem_points": "8"
   },
   "source": [
    "\n",
    "A courier company operates a fleet of delivery trucks that make deliveries to different parts of the city. The trucks are equipped with GPS tracking devices that record the location of each truck at regular intervals. The locations are divided into three regions: downtown, the suburbs, and the countryside. The following table shows the probabilities of a truck transitioning between these regions at each time step:\n",
    "\n",
    "| Current region | Probability of transitioning to downtown | Probability of transitioning to the suburbs | Probability of transitioning to the countryside |\n",
    "|----------------|--------------------------------------------|-----------------------------------------------|------------------------------------------------|\n",
    "| Downtown       | 0.3                                      | 0.4                                           | 0.3                                            |\n",
    "| Suburbs        | 0.2                                      | 0.5                                           | 0.3                                            |\n",
    "| Countryside    | 0.4                                      | 0.3                                           | 0.3                                            |\n",
    "\n",
    "1. If a truck is currently in the suburbs, what is the probability that it will be in the downtown region after two time steps? [1.5p]\n",
    "2. If a truck is currently in the suburbs, what is the probability that it will be in the downtown region **the first time** after two time steps? [1.5p]\n",
    "3. Is this Markov chain irreducible? [1.5p]\n",
    "4. What is the stationary distribution? [1.5p]\n",
    "5. Advanced question: What is the expected number of steps until the first time one enters the downtown region having started in the suburbs region. Hint: to get within 1 decimal point, it is enough to compute the probabilities for hitting times below 30. [2p]\n",
    "\n"
   ]
  },
  {
   "cell_type": "code",
   "execution_count": 2,
   "id": "2c601f0f",
   "metadata": {
    "deletable": false,
    "lx_assignment_number": "2",
    "lx_assignment_type": "ASSIGNMENT",
    "lx_assignment_type2print": "Assignment",
    "lx_problem_cell_type": "PROBLEM",
    "lx_problem_number": "1",
    "lx_problem_points": "8"
   },
   "outputs": [
    {
     "name": "stdout",
     "output_type": "stream",
     "text": [
      "[[0.29 0.41 0.3 ]\n",
      " [0.28 0.42 0.3 ]\n",
      " [0.3  0.4  0.3 ]]\n"
     ]
    }
   ],
   "source": [
    "# Part 1\n",
    "import numpy as np\n",
    "# Part 1\n",
    "# Transition matrix\n",
    "transition_matrix = np.array([[0.3, 0.4, 0.3],  # downtown\n",
    "                              [0.2, 0.5, 0.3],  # suburbs\n",
    "                              [0.4, 0.3, 0.3]]) # countryside\n",
    "# Two steps --> transition matrix squared\n",
    "transition_matrix_2steps = np.dot(transition_matrix, transition_matrix)\n",
    "\n",
    "# Probability of going in downtown after 2 steps given it started on suburbs\n",
    "probability = transition_matrix_2steps[1, 0] \n",
    "# Fill in the answer to part 1 below as a decimal number\n",
    "print(transition_matrix_2steps)\n",
    "problem1_p1 = 0.28"
   ]
  },
  {
   "cell_type": "code",
   "execution_count": 3,
   "id": "52a172dc",
   "metadata": {
    "deletable": false,
    "lx_assignment_number": "2",
    "lx_assignment_type": "ASSIGNMENT",
    "lx_assignment_type2print": "Assignment",
    "lx_problem_cell_type": "PROBLEM",
    "lx_problem_number": "1",
    "lx_problem_points": "8"
   },
   "outputs": [],
   "source": [
    "# Part 2\n",
    "# Probability of going in downtown for the first time after 2 steps given it started on suburbs\n",
    "# The available options will be to start from Surburbs/Countryside and go to Surburbs/Countryside and then from there (Surburbs/Countryside)\n",
    "# you go to Downtown\n",
    "\n",
    "S_to_S = transition_matrix[1, 1]\n",
    "S_to_C = transition_matrix[1, 2]\n",
    "S_to_D = transition_matrix[1, 0]\n",
    "C_to_D = transition_matrix[2, 0]\n",
    "\n",
    "# Possibility 1: starts S--> S--> D   \n",
    "prob1 = S_to_S * S_to_D\n",
    "\n",
    "# Possibility 1: starts S--> C--> D \n",
    "prob2 = S_to_C * C_to_D\n",
    "\n",
    "# Total probability \n",
    "total_prob = prob1+prob2\n",
    "# Fill in the answer to part 2 below as a decimal number\n",
    "problem1_p2 = 0.22"
   ]
  },
  {
   "cell_type": "code",
   "execution_count": 4,
   "id": "a3b3872d",
   "metadata": {
    "deletable": false,
    "lx_assignment_number": "2",
    "lx_assignment_type": "ASSIGNMENT",
    "lx_assignment_type2print": "Assignment",
    "lx_problem_cell_type": "PROBLEM",
    "lx_problem_number": "1",
    "lx_problem_points": "8"
   },
   "outputs": [],
   "source": [
    "# Part 3\n",
    "# It is true as we can reach any state from any state using any number of steps and the prob will always be > 0\n",
    "# Fill in the answer to part 3 below as a boolean\n",
    "problem1_irreducible = True"
   ]
  },
  {
   "cell_type": "code",
   "execution_count": 5,
   "id": "1b9d0a00",
   "metadata": {
    "deletable": false,
    "lx_assignment_number": "2",
    "lx_assignment_type": "ASSIGNMENT",
    "lx_assignment_type2print": "Assignment",
    "lx_problem_cell_type": "PROBLEM",
    "lx_problem_number": "1",
    "lx_problem_points": "8"
   },
   "outputs": [],
   "source": [
    "# Part 4\n",
    "# States (three states)\n",
    "n = transition_matrix.shape[0]\n",
    "\n",
    "# P^T - I\n",
    "A = np.transpose(transition_matrix) - np.eye(n)\n",
    "\n",
    "# Append the normalization condition \n",
    "A = np.vstack([A, np.ones(n)])\n",
    "\n",
    "# Create the result vector (stationary conditions=0) \n",
    "b = np.zeros(n + 1)\n",
    "# Create the result vector (normalisation conditions=1)\n",
    "b[-1] = 1  \n",
    "\n",
    "# A*π = b to find the stationary distribution\n",
    "π = np.linalg.solve(A.T @ A, A.T @ b)  # Solve using least squares to account for possible rank deficiency\n",
    "# Fill in the answer to part 4 below\n",
    "# the answer should be a numpy array of length 3\n",
    "# make sure that the entries sums to 1!\n",
    "problem1_stationary = [0.29, 0.41, 0.3]"
   ]
  },
  {
   "cell_type": "code",
   "execution_count": 6,
   "id": "481625e3",
   "metadata": {
    "deletable": false,
    "lx_assignment_number": "2",
    "lx_assignment_type": "ASSIGNMENT",
    "lx_assignment_type2print": "Assignment",
    "lx_problem_cell_type": "PROBLEM",
    "lx_problem_number": "1",
    "lx_problem_points": "8"
   },
   "outputs": [
    {
     "name": "stdout",
     "output_type": "stream",
     "text": [
      "3.846153846153846\n"
     ]
    }
   ],
   "source": [
    "# Part 5\n",
    "# We are interested in the surburbs and countryside states so we are seperating their transition probabilities\n",
    "transition_matrix2 = np.array([[0.5, 0.3], [0.3, 0.3]])\n",
    "\n",
    "# Identity matrix \n",
    "I = np.eye(transition_matrix2.shape[0])\n",
    "f_matrix = np.linalg.inv(I - transition_matrix2)\n",
    "# The first row of the table gives us the expected number of steps\n",
    "expected_steps_from_suburbs = f_matrix[0].sum()\n",
    "# Fill in the answer to part 5 below\n",
    "# That is, the expected number of steps as a decimal number\n",
    "problem1_ET = 3.8\n",
    "print(expected_steps_from_suburbs)"
   ]
  },
  {
   "cell_type": "markdown",
   "id": "bfa45a2a",
   "metadata": {
    "deletable": false,
    "lx_assignment_number": "2",
    "lx_assignment_type": "ASSIGNMENT",
    "lx_assignment_type2print": "Assignment",
    "lx_problem_cell_type": "PROBLEM",
    "lx_problem_number": "2",
    "lx_problem_points": "4"
   },
   "source": [
    "---\n",
    "## Assignment 2, PROBLEM 2\n",
    "Maximum Points = 4"
   ]
  },
  {
   "cell_type": "markdown",
   "id": "d9a825d1",
   "metadata": {
    "deletable": false,
    "lx_assignment_number": "2",
    "lx_assignment_type": "ASSIGNMENT",
    "lx_assignment_type2print": "Assignment",
    "lx_problem_cell_type": "PROBLEM",
    "lx_problem_number": "2",
    "lx_problem_points": "4"
   },
   "source": [
    "\n",
    "Use the **Multi-dimensional Constrained Optimisation** example (in `07-Optimization.ipynb`) to numerically find the MLe for the mean and variance parameter based on `normallySimulatedDataSamples`, an array obtained by a specific simulation of $30$ IID samples from the $Normal(10,2)$ random variable.\n",
    "\n",
    "Recall that $Normal(\\mu, \\sigma^2)$ RV has the probability density function given by:\n",
    "\n",
    "$$\n",
    "f(x ;\\mu, \\sigma) = \\displaystyle\\frac{1}{\\sigma\\sqrt{2\\pi}}\\exp\\left(\\frac{-1}{2\\sigma^2}(x-\\mu)^2\\right)\n",
    "$$\n",
    "\n",
    "The two parameters, $\\mu \\in \\mathbb{R} := (-\\infty,\\infty)$ and $\\sigma \\in (0,\\infty)$, are sometimes referred to as the location and scale parameters.\n",
    "\n",
    "You know that the log likelihood function for $n$ IID samples from a Normal RV with parameters $\\mu$ and $\\sigma$ simply follows from $\\sum_{i=1}^n \\log(f(x_i; \\mu,\\sigma))$, based on the IID assumption. \n",
    "\n",
    "NOTE: When setting bounding boxes for $\\mu$ and $\\sigma$ try to start with some guesses like $[-20,20]$ and $[0.1,5.0]$ and make it larger if the solution is at the boundary. Making the left bounding-point for $\\sigma$ too close to $0.0$ will cause division by zero Warnings. Other numerical instabilities can happen in such iterative numerical solutions to the MLe. You need to be patient and learn by trial-and-error. You will see the mathematical theory in more details in a future course in scientific computing/optimisation. So don't worry too much now except learning to use it for our problems.  "
   ]
  },
  {
   "cell_type": "markdown",
   "id": "f1cb203b",
   "metadata": {},
   "source": [
    "\n",
    " **Normal Distribution PDF**\n",
    "For a random variable \\( X \\) that follows a **Normal distribution** with parameters \\( \\mu \\) (mean) and \\( \\sigma \\) (standard deviation), the PDF is given by:\n",
    "\n",
    "$$\n",
    "f(x; \\mu, \\sigma) = \\frac{1}{\\sigma \\sqrt{2 \\pi}} \\exp\\left(-\\frac{(x - \\mu)^2}{2\\sigma^2}\\right).\n",
    "$$\n",
    "\n",
    " **Likelihood Function**\n",
    "For \\( n \\) **independent** samples \\( x_1, x_2, \\dots, x_n \\) drawn from the Normal distribution \\( N(\\mu, \\sigma^2) \\), the **likelihood function** \\( L(\\mu, \\sigma) \\) is the product of the individual PDFs:\n",
    "\n",
    "$$ L(\\mu, \\sigma) = \\prod_{i=1}^n f(x_i; \\mu, \\sigma).\n",
    "$$\n",
    "\n",
    "Substitute the PDF $$ f(x; \\mu, \\sigma) $$ into the likelihood:\n",
    "\n",
    "$$\n",
    "L(\\mu, \\sigma) = \\prod_{i=1}^n \\left( \\frac{1}{\\sigma \\sqrt{2 \\pi}} \\exp\\left(-\\frac{(x_i - \\mu)^2}{2 \\sigma^2}\\right) \\right).\n",
    "$$\n",
    "\n",
    "**Log Likelihood Function**\n",
    "The **log likelihood function** is the natural logarithm of the likelihood:\n",
    "\n",
    "$$\n",
    "\\log L(\\mu, \\sigma) = \\log \\left( \\prod_{i=1}^n f(x_i; \\mu, \\sigma) \\right).\n",
    "$$\n",
    "\n",
    "Using the logarithmic identity $$ \\log(ab) = \\log(a) + \\log(b) $$ this becomes:\n",
    "\n",
    "$$\n",
    "\\log L(\\mu, \\sigma) = \\sum_{i=1}^n \\log \\left( \\frac{1}{\\sigma \\sqrt{2 \\pi}} \\exp\\left(-\\frac{(x_i - \\mu)^2}{2 \\sigma^2}\\right) \\right).\n",
    "$$\n",
    "\n",
    "$$\n",
    "\\log L(\\mu, \\sigma) = \\sum_{i=1}^n \\left[ -\\log(\\sigma \\sqrt{2 \\pi}) - \\frac{(x_i - \\mu)^2}{2 \\sigma^2} \\right].\n",
    "$$\n",
    "\n",
    "$$\n",
    "\\log L(\\mu, \\sigma) = -n \\log(\\sigma \\sqrt{2 \\pi}) - \\sum_{i=1}^n \\frac{(x_i - \\mu)^2}{2 \\sigma^2}.\n",
    "$$\n",
    "\n",
    "$$\n",
    "\\log L(\\mu, \\sigma) = -n \\log(\\sigma) - n \\log(\\sqrt{2 \\pi}) - \\frac{1}{2 \\sigma^2} \\sum_{i=1}^n (x_i - \\mu)^2.\n",
    "$$\n",
    " **Negative Log Likelihood**\n",
    "To perform optimization (which usually minimizes a function), we minimize the **negative log likelihood**. So, we define the **negative log likelihood** as:\n",
    "\n",
    "$$\n",
    "-\\log L(\\mu, \\sigma) = n \\log(\\sigma) + \\frac{n}{2} \\log(2 \\pi) + \\frac{1}{2 \\sigma^2} \\sum_{i=1}^n (x_i - \\mu)^2.\n",
    "$$\n",
    "\n",
    "In this example, the initial guess for the mean (μ) is 10 and for the standard deviation (σ) is 1. These initial values are reasonable because the target distribution is known to be N(10,2), where the mean is 10 and the standard deviation is sqrt 2≈1.414.These initial values are within the expected range of the parameter values, making them a good starting point for the optimization.\n"
   ]
  },
  {
   "cell_type": "markdown",
   "id": "d36a6b01",
   "metadata": {},
   "source": [
    "The purpose of the problem you're working on is to estimate the parameters of a Normal distribution (specifically the mean \n",
    "μ and standard deviation σ) based on a set of observed data points. In this case, the data is generated from a Normal distribution with mean 10 and variance 2, but the goal is to estimate these parameters using Maximum Likelihood Estimation (MLE) and optimization techniques."
   ]
  },
  {
   "cell_type": "code",
   "execution_count": 8,
   "id": "699b52ca",
   "metadata": {
    "deletable": false,
    "lx_assignment_number": "2",
    "lx_assignment_type": "ASSIGNMENT",
    "lx_assignment_type2print": "Assignment",
    "lx_problem_cell_type": "PROBLEM",
    "lx_problem_number": "2",
    "lx_problem_points": "4"
   },
   "outputs": [
    {
     "data": {
      "text/plain": [
       "  message: CONVERGENCE: REL_REDUCTION_OF_F_<=_FACTR*EPSMCH\n",
       "  success: True\n",
       "   status: 0\n",
       "      fun: 58.63138728292264\n",
       "        x: [ 9.269e+00  1.708e+00]\n",
       "      nit: 9\n",
       "      jac: [-3.055e-05  1.457e-04]\n",
       "     nfev: 36\n",
       "     njev: 12\n",
       " hess_inv: <2x2 LbfgsInvHessProduct with dtype=float64>"
      ]
     },
     "execution_count": 8,
     "metadata": {},
     "output_type": "execute_result"
    }
   ],
   "source": [
    "\n",
    "import numpy as np\n",
    "from scipy import optimize\n",
    "# do NOT change the next three lines\n",
    "np.random.seed(123456) # set seed\n",
    "# simulate 30 IID samples drawn from Normal(10,2)RV\n",
    "normallySimulatedDataSamples = np.random.normal(10,2,30) \n",
    "\n",
    "# define the negative log likelihoo function you want to minimise by editing XXX\n",
    "def negLogLklOfIIDNormalSamples(parameters):\n",
    "    '''return the -log(likelihood) of normallySimulatedDataSamples with mean and var parameters'''\n",
    "    mu_param=parameters[0] # Get the mu\n",
    "    sigma_param=parameters[1] # Get the sigma \n",
    "    if sigma_param <= 0:\n",
    "        return np.inf  \n",
    "    n = len(normallySimulatedDataSamples) # Get the sample size\n",
    "    # Get the log likelihood\n",
    "    log_likelihood = ((n / 2) * np.log(2 * np.pi) + n * np.log(sigma_param) + (1 / (2 * sigma_param**2)) * np.sum((normallySimulatedDataSamples - mu_param)**2))\n",
    "    return log_likelihood \n",
    "\n",
    "# you should only change XXX below and not anything else\n",
    "parameter_bounding_box=((-20, 20), (0.1, 5.0)) # specify the constraints for each parameter - some guess work...\n",
    "initial_arguments = np.array([10, 1]) # point in 2D to initialise the minimize algorithm\n",
    "result_problem2_opt = optimize.minimize(negLogLklOfIIDNormalSamples, initial_arguments, bounds=parameter_bounding_box,  method='L-BFGS-B') \n",
    "# call the minimize method above finally! you need to play a bit to get initial conditions and bounding box ok\n",
    "result_problem2_opt\n"
   ]
  },
  {
   "cell_type": "markdown",
   "id": "6c86bdd3",
   "metadata": {},
   "source": [
    "fun: 58.63138728292264:\n",
    "This is the value of the objective function (negative log-likelihood) at the optimal point. The objective function value is 58.63 in this case, which represents the minimum negative log-likelihood.\n",
    "x: [ 9.269e+00 1.708e+00]:\n",
    "These are the estimated values of the parameters that minimize the objective function. The result [ 9.269e+00, 1.708e+00] corresponds to:\n",
    "μ=9.269 (estimated mean) σ=1.708 (estimated standard deviation)"
   ]
  },
  {
   "cell_type": "markdown",
   "id": "690ab0b7",
   "metadata": {
    "deletable": false,
    "lx_assignment_number": "2",
    "lx_assignment_type": "ASSIGNMENT",
    "lx_assignment_type2print": "Assignment",
    "lx_problem_cell_type": "PROBLEM",
    "lx_problem_number": "3",
    "lx_problem_points": "4"
   },
   "source": [
    "---\n",
    "## Assignment 2, PROBLEM 3\n",
    "Maximum Points = 4"
   ]
  },
  {
   "cell_type": "markdown",
   "id": "0b9c787c",
   "metadata": {
    "deletable": false,
    "lx_assignment_number": "2",
    "lx_assignment_type": "ASSIGNMENT",
    "lx_assignment_type2print": "Assignment",
    "lx_problem_cell_type": "PROBLEM",
    "lx_problem_number": "3",
    "lx_problem_points": "4"
   },
   "source": [
    "\n",
    "\n",
    "Derive the maximum likelihood estimate for $n$ IID samples from a random variable with the following probability density function:\n",
    "$$\n",
    "f(x; \\lambda) = \\frac{1}{24} \\lambda^5 x^4 \\exp(-\\lambda x), \\qquad \\text{ where, } \\lambda>0, x > 0\n",
    "$$\n",
    "\n",
    "You can solve the MLe by hand (using pencil paper or using key-strokes). Present your solution as the return value of a function called `def MLeForAssignment2Problem3(x)`, where `x` is a list of $n$ input data points."
   ]
  },
  {
   "cell_type": "markdown",
   "id": "d3d01e3f",
   "metadata": {},
   "source": [
    "### Given PDF:\n",
    "The probability density function for the random variable \\( X \\) is given by:\n",
    "$$\n",
    "f(x; \\lambda) = \\frac{1}{24} \\lambda^5 x^4 \\exp(-\\lambda x), \\quad \\lambda > 0, \\quad x > 0\n",
    "$$\n",
    "\n",
    "This is a parametric form of the probability distribution where \\( \\lambda \\) is the parameter to estimate. The task is to find the value of \\( \\lambda \\) that maximizes the likelihood of observing the given data.\n",
    "\n",
    "Likelihood Function\n",
    "For a set of \\( n \\) **independent and identically distributed (i.i.d.)** samples \\( x_1, x_2, \\dots, x_n \\), the likelihood function \\( L(\\lambda) \\) is the product of the PDFs for each observation:\n",
    "\n",
    "$$\n",
    "L(\\lambda) = \\prod_{i=1}^{n} f(x_i; \\lambda)\n",
    "$$\n",
    "\n",
    "$$\n",
    "L(\\lambda) = \\prod_{i=1}^{n} \\left( \\frac{1}{24} \\lambda^5 x_i^4 \\exp(-\\lambda x_i) \\right)\n",
    "$$\n",
    "\n",
    "$$\n",
    "L(\\lambda) = \\left( \\frac{1}{24} \\right)^n \\lambda^{5n} \\left( \\prod_{i=1}^{n} x_i^4 \\right) \\exp\\left( -\\lambda \\sum_{i=1}^{n} x_i \\right)\n",
    "$$\n",
    "\n",
    "Log-Likelihood Function\n",
    "$$\n",
    "\\ell(\\lambda) = \\log(L(\\lambda)) = n \\log\\left( \\frac{1}{24} \\right) + 5n \\log(\\lambda) + 4 \\sum_{i=1}^{n} \\log(x_i) - \\lambda \\sum_{i=1}^{n} x_i\n",
    "$$\n",
    "\n",
    "Since the terms involving \\( x_i \\) are independent of \\( \\lambda \\), we can ignore them for the purpose of maximization:\n",
    "\n",
    "$$\n",
    "\\ell(\\lambda) = 5n \\log(\\lambda) - \\lambda \\sum_{i=1}^{n} x_i + \\text{(constant terms with respect to } \\lambda)\n",
    "$$\n",
    "\n",
    " Maximization\n",
    "Now, we differentiate the log-likelihood function with respect to \\( \\lambda \\) and set it to 0 to find the maximum likelihood estimate for \\( \\lambda \\):\n",
    "\n",
    "$$\n",
    "\\frac{d\\ell(\\lambda)}{d\\lambda} = \\frac{5n}{\\lambda} - \\sum_{i=1}^{n} x_i = 0\n",
    "$$\n",
    "\n",
    "$$\n",
    "\\lambda = \\frac{5n}{\\sum_{i=1}^{n} x_i}\n",
    "$$\n",
    "\n",
    " **Maximum Likelihood Estimate (MLE)\n",
    "\n",
    "$$\n",
    "\\hat{\\lambda} = \\frac{5n}{\\sum_{i=1}^{n} x_i}\n",
    "$$\n",
    "\n"
   ]
  },
  {
   "cell_type": "code",
   "execution_count": 9,
   "id": "41720f28",
   "metadata": {
    "deletable": false,
    "lx_assignment_number": "2",
    "lx_assignment_type": "ASSIGNMENT",
    "lx_assignment_type2print": "Assignment",
    "lx_problem_cell_type": "PROBLEM",
    "lx_problem_number": "3",
    "lx_problem_points": "4"
   },
   "outputs": [],
   "source": [
    "\n",
    "# do not change the name of the function, just replace XXX with the appropriate expressions for the MLe\n",
    "def MLeForAssignment2Problem3(x):\n",
    "    '''write comment of what this function does'''\n",
    "    # Number of samples given by the user \n",
    "    n = len(x)  \n",
    "    # Get the sum of all the samples \n",
    "    sum_of_x = sum(x)  \n",
    "    # The MLE of lambda is given by the following formula\n",
    "    lambda_MLe = 5*n/sum_of_x \n",
    "    return lambda_MLe"
   ]
  },
  {
   "cell_type": "markdown",
   "id": "fa4762e0",
   "metadata": {
    "deletable": false,
    "lx_assignment_number": "2",
    "lx_assignment_type": "ASSIGNMENT",
    "lx_assignment_type2print": "Assignment",
    "lx_problem_cell_type": "PROBLEM",
    "lx_problem_number": "4",
    "lx_problem_points": "8"
   },
   "source": [
    "---\n",
    "## Assignment 2, PROBLEM 4\n",
    "Maximum Points = 8"
   ]
  },
  {
   "cell_type": "markdown",
   "id": "2e67892b",
   "metadata": {
    "deletable": false,
    "lx_assignment_number": "2",
    "lx_assignment_type": "ASSIGNMENT",
    "lx_assignment_type2print": "Assignment",
    "lx_problem_cell_type": "PROBLEM",
    "lx_problem_number": "4",
    "lx_problem_points": "8"
   },
   "source": [
    "\n",
    "## Random variable generation and transformation\n",
    "\n",
    "The purpose of this problem is to show that you can implement your own sampler, this will be built in the following three steps:\n",
    "\n",
    "1. [2p] Implement a Linear Congruential Generator where you tested out a good combination (a large $M$ with $a,b$ satisfying the Hull-Dobell (Thm 6.8)) of parameters. Follow the instructions in the code block.\n",
    "2. [2p] Using a generator construct random numbers from the uniform $[0,1]$ distribution.\n",
    "3. [4p] Using a uniform $[0,1]$ random generator, generate samples from \n",
    "\n",
    "$$p_0(x) = \\frac{\\pi}{2}|\\sin(2\\pi x)|, \\quad x \\in [0,1] \\enspace .$$\n",
    "\n",
    "Using the **Accept-Reject** sampler (**Algorithm 1** in TFDS notes) with sampling density given by the uniform $[0,1]$ distribution."
   ]
  },
  {
   "cell_type": "code",
   "execution_count": 8,
   "id": "530446bc",
   "metadata": {
    "deletable": false,
    "lx_assignment_number": "2",
    "lx_assignment_type": "ASSIGNMENT",
    "lx_assignment_type2print": "Assignment",
    "lx_problem_cell_type": "PROBLEM",
    "lx_problem_number": "4",
    "lx_problem_points": "8"
   },
   "outputs": [],
   "source": [
    "\n",
    "def problem4_LCG(size=None, seed = 0):\n",
    "    \"\"\"\n",
    "    A linear congruential generator that generates pseudo random numbers according to size.\n",
    "    \n",
    "    Parameters\n",
    "    -------------\n",
    "    size : an integer denoting how many samples should be produced\n",
    "    seed : the starting point of the LCG, i.e. u0 in the notes.\n",
    "    \n",
    "    Returns\n",
    "    -------------\n",
    "    out : a list of the pseudo random numbers\n",
    "    \"\"\"\n",
    "    # Parameters for the LCG. These numbers satisfy the Hull-Dobell Theorem)\n",
    "    M = 2**31  \n",
    "    a = 1103515245 \n",
    "    b = 12345 \n",
    "    \n",
    "    # Start at seed=0\n",
    "    u = seed\n",
    "    generated_values = []\n",
    "    # Use the formula to generate the numbers\n",
    "    for _ in range(size):\n",
    "        u = (a * u + b) % M \n",
    "        generated_values.append(u / M) \n",
    "    \n",
    "    return generated_values"
   ]
  },
  {
   "cell_type": "code",
   "execution_count": 9,
   "id": "8d215c5a",
   "metadata": {
    "deletable": false,
    "lx_assignment_number": "2",
    "lx_assignment_type": "ASSIGNMENT",
    "lx_assignment_type2print": "Assignment",
    "lx_problem_cell_type": "PROBLEM",
    "lx_problem_number": "4",
    "lx_problem_points": "8"
   },
   "outputs": [],
   "source": [
    "\n",
    "def problem4_uniform(generator=None, period = 1, size=None, seed=0):\n",
    "    \"\"\"\n",
    "    Takes a generator and produces samples from the uniform [0,1] distribution according\n",
    "    to size.\n",
    "    \n",
    "    Parameters\n",
    "    -------------\n",
    "    generator : a function of type generator(size,seed) and produces the same result as problem1_LCG, i.e. pseudo random numbers in the range {0,1,...,period-1}\n",
    "    period : the period of the generator\n",
    "    seed : the seed to be used in the generator provided\n",
    "    size : an integer denoting how many samples should be produced\n",
    "    \n",
    "    Returns\n",
    "    --------------\n",
    "    out : a list of the uniform pseudo random numbers\n",
    "    \"\"\"\n",
    "    \n",
    "    # Generate random numbers\n",
    "    random_values = generator(size=size, seed=seed)\n",
    "    \n",
    "    # Normalising\n",
    "    uniform_sample = np.array(random_values) / period\n",
    "    \n",
    "    return uniform_sample"
   ]
  },
  {
   "cell_type": "code",
   "execution_count": 10,
   "id": "15832284",
   "metadata": {
    "deletable": false,
    "lx_assignment_number": "2",
    "lx_assignment_type": "ASSIGNMENT",
    "lx_assignment_type2print": "Assignment",
    "lx_problem_cell_type": "PROBLEM",
    "lx_problem_number": "4",
    "lx_problem_points": "8"
   },
   "outputs": [],
   "source": [
    "\n",
    "def problem4_accept_reject(uniformGenerator=None, n_iterations=None, seed=0):\n",
    "    \"\"\"\n",
    "    Takes a generator that produces uniform pseudo random [0,1] numbers \n",
    "    and produces samples from (pi/2)*abs(sin(x*2*pi)) using an Accept-Reject\n",
    "    sampler with the uniform distribution as the proposal distribution.\n",
    "    Runs n_iterations\n",
    "    \n",
    "    Parameters\n",
    "    -------------\n",
    "    generator : a function of the type generator(size,seed) that produces uniform pseudo random\n",
    "    numbers from [0,1]\n",
    "    seed : the seed to be used in the generator provided\n",
    "    n_iterations : an integer denoting how many attempts should be made in the accept-reject sampler\n",
    "    \n",
    "    Returns\n",
    "    --------------\n",
    "    out : a list of the pseudo random numbers with the specified distribution\n",
    "    \"\"\"\n",
    "    \n",
    "    # Target density function f(x)\n",
    "    def f_(x):\n",
    "        return (np.pi / 2) * abs(np.sin(2 * np.pi * x))\n",
    "    # f(x) ≤ M * g(x) \n",
    "    M = np.pi/2\n",
    "    np.random.seed(seed)  \n",
    "    accepted_samples = []\n",
    "    while len(accepted_samples) < n_iterations:\n",
    "        # Generate a candidate x from g(x)\n",
    "        x = uniformGenerator(size=1, seed=np.random.randint(0, 10000))[0]\n",
    "        # Find r(x) = f(x)/M\n",
    "        r_x = f_(x)/M\n",
    "        # Generate u\n",
    "        u = uniformGenerator(size=1, seed=np.random.randint(0, 10000))[0]\n",
    "        # Accept only samples that are smaller than the calculated ratio\n",
    "        if u <= r_x:\n",
    "            accepted_samples.append(x)\n",
    "    \n",
    "    return accepted_samples"
   ]
  },
  {
   "cell_type": "markdown",
   "id": "478df5b1",
   "metadata": {},
   "source": [
    "\n",
    "$$\n",
    "f(x) = \\frac{\\pi}{2} |\\sin(2 \\pi x)|\n",
    "$$\n",
    "\n",
    "Since \\( |\\sin(2\\pi x)| \\) is always non-negative, we can rewrite it without the absolute value for simplicity, keeping in mind that \\( \\sin(2\\pi x) \\) alternates in sign. So, the function becomes:\n",
    "\n",
    "$$\n",
    "f(x) = \\frac{\\pi}{2} \\sin(2\\pi x) \\quad \\text{for } 0 \\leq x \\leq 1\n",
    "$$\n",
    "\n",
    "However, \\( |\\sin(2\\pi x)| \\) is symmetric and periodic. Therefore, it suffices to look at one period of \\( \\sin(2\\pi x) \\) and its behavior within \\( [0, 1] \\).\n",
    "\n",
    "### Find the Derivative\n",
    "\n",
    "Now, to find the maximum of \\( f(x) \\), we need to compute its derivative. The derivative of \\( f(x) = \\frac{\\pi}{2} \\sin(2\\pi x) \\) is:\n",
    "\n",
    "$$\n",
    "f'(x) = \\frac{\\pi}{2} \\cdot 2\\pi \\cos(2\\pi x)\n",
    "$$\n",
    "\n",
    "$$\n",
    "f'(x) = \\pi^2 \\cos(2\\pi x)\n",
    "$$\n",
    "\n",
    "### Find Critical Points\n",
    "\n",
    "To find the critical points, we set the derivative equal to zero:\n",
    "\n",
    "$$\n",
    "\\pi^2 \\cos(2\\pi x) = 0\n",
    "$$\n",
    "$$\n",
    "\\cos(2\\pi x) = 0\n",
    "$$\n",
    "\n",
    "The solutions to $$ \\cos(2\\pi x) = 0 $$ are:\n",
    "\n",
    "$$\n",
    "2\\pi x = \\frac{\\pi}{2} + n\\pi \\quad \\text{for} \\quad n \\in \\mathbb{Z}\n",
    "$$\n",
    "\n",
    "$$\n",
    "x = \\frac{1}{4} + \\frac{n}{2}\n",
    "$$\n",
    "\n",
    "Thus, within the interval \\( [0, 1] \\), the critical points are:\n",
    "\n",
    "$$\n",
    "x = \\frac{1}{4}, \\frac{3}{4}\n",
    "$$\n",
    "\n",
    "### Determine the Maximum\n",
    "\n",
    "To determine whether these critical points correspond to maxima or minima, we look at the second derivative:\n",
    "\n",
    "$$\n",
    "f''(x) = -\\pi^3 \\sin(2\\pi x)\n",
    "$$\n",
    "\n",
    "Evaluating the second derivative at the critical points:\n",
    "\n",
    "- At $$ x = \\frac{1}{4} $$ $$ \\sin(2\\pi x) = \\sin\\left( \\frac{\\pi}{2} \\right) = 1 $$ so $$ f''(x) = -\\pi^3 $$ which is negative, indicating a local maximum at $$ x = \\frac{1}{4} $$\n",
    "- At $$ x = \\frac{3}{4} $$ $$ \\sin(2\\pi x) = \\sin\\left( \\frac{3\\pi}{2} \\right) = -1 $$ so $$ f''(x) = \\pi^3 $$ which is positive, indicating a local minimum at $$ x = \\frac{3}{4} $$\n",
    "\n",
    "Thus, the maximum of \\( f(x) \\) occurs at $$ x = \\frac{1}{4} $$\n",
    "\n",
    "###  Maximum Value\n",
    "\n",
    "Now, let's compute the maximum value of \\( f(x) \\) at $$ x = \\frac{1}{4} $$\n",
    "\n",
    "$$\n",
    "f\\left( \\frac{1}{4} \\right) = \\frac{\\pi}{2} |\\sin(2 \\pi \\cdot \\frac{1}{4})|\n",
    "$$\n",
    "\n",
    "Since \\( \\sin\\left( \\frac{\\pi}{2} \\right) = 1 \\), we get:\n",
    "\n",
    "$$\n",
    "f\\left( \\frac{1}{4} \\right) = \\frac{\\pi}{2}\n",
    "$$\n",
    "\n",
    "Thus, the maximum value of the function \\( f(x) \\) is \\( \\frac{\\pi}{2} \\), and the maximum occurs at \\( x = \\frac{1}{4} \\).\n",
    "\n"
   ]
  },
  {
   "cell_type": "markdown",
   "id": "b2c9a523",
   "metadata": {
    "deletable": false,
    "lx_assignment_number": "2",
    "lx_assignment_type": "ASSIGNMENT",
    "lx_assignment_type2print": "Assignment",
    "lx_problem_cell_type": "Test",
    "lx_problem_number": "4",
    "lx_problem_points": "8"
   },
   "source": [
    "---\n",
    "#### Local Test for Assignment 2, PROBLEM 4\n",
    "Evaluate cell below to make sure your answer is valid.                             You **should not** modify anything in the cell below when evaluating it to do a local test of                             your solution.\n",
    "You may need to include and evaluate code snippets from lecture notebooks in cells above to make the local test work correctly sometimes (see error messages for clues). This is meant to help you become efficient at recalling materials covered in lectures that relate to this problem. Such local tests will generally not be available in the exam."
   ]
  },
  {
   "cell_type": "code",
   "execution_count": 13,
   "id": "26cd1592",
   "metadata": {
    "deletable": false,
    "lx_assignment_number": "2",
    "lx_assignment_type": "ASSIGNMENT",
    "lx_assignment_type2print": "Assignment",
    "lx_problem_cell_type": "Test",
    "lx_problem_number": "4",
    "lx_problem_points": "8"
   },
   "outputs": [
    {
     "name": "stdout",
     "output_type": "stream",
     "text": [
      "LCG output: [0.5138700781390071, 0.1757413032464683, 0.3086515162140131, 0.5345338867045939, 0.9476279253140092, 0.17173630138859153, 0.7022311687469482, 0.2264306810684502, 0.49477344658225775, 0.12472031963989139]\n",
      "Uniform sampler [2.39289402e-10 8.18359215e-11 1.43727062e-10 2.48911738e-10\n",
      " 4.41273640e-10 7.99709472e-11 3.27001870e-10 1.05440002e-10\n",
      " 2.30396840e-10 5.80774246e-11]\n",
      "Accept-Reject sampler [np.float64(4.575016799863302e-10), np.float64(3.76418638012993e-10), np.float64(1.5006204482151397e-10), np.float64(3.1739517958317975e-10), np.float64(3.7557725310853607e-10), np.float64(1.313680008958179e-10), np.float64(1.9076176554187751e-10), np.float64(3.4919200365447767e-10), np.float64(1.7234818325100043e-10), np.float64(2.873998667090455e-10), np.float64(8.353799791673e-11), np.float64(2.5828187657193913e-10), np.float64(3.5392391361382947e-10), np.float64(3.0968600513853195e-10), np.float64(2.7646890397685364e-10), np.float64(3.385257699162203e-11), np.float64(3.428851373839248e-10), np.float64(3.3689467058076183e-10), np.float64(4.445715479778345e-10), np.float64(2.555131980563202e-10)]\n"
     ]
    }
   ],
   "source": [
    "\n",
    "# If you managed to solve all three parts you can test the following code to see if it runs\n",
    "# you have to change the period to match your LCG though, this is marked as XXX.\n",
    "# It is a very good idea to check these things using the histogram function in sagemath\n",
    "# try with a larger number of samples, up to 10000 should run\n",
    "\n",
    "print(\"LCG output: %s\" % problem4_LCG(size=10, seed = 1))\n",
    "\n",
    "period = 2**31 \n",
    "\n",
    "print(\"Uniform sampler %s\" % problem4_uniform(generator=problem4_LCG, period = period, size=10, seed=1))\n",
    "\n",
    "uniform_sampler = lambda size,seed: problem4_uniform(generator=problem4_LCG, period = period, size=size, seed=seed)\n",
    "\n",
    "print(\"Accept-Reject sampler %s\" % problem4_accept_reject(uniformGenerator = uniform_sampler,n_iterations=20,seed=1))"
   ]
  },
  {
   "cell_type": "code",
   "execution_count": 14,
   "id": "5318f370",
   "metadata": {
    "deletable": false,
    "lx_assignment_number": "2",
    "lx_assignment_type": "ASSIGNMENT",
    "lx_assignment_type2print": "Assignment",
    "lx_problem_cell_type": "Test",
    "lx_problem_number": "4",
    "lx_problem_points": "8"
   },
   "outputs": [
    {
     "name": "stdout",
     "output_type": "stream",
     "text": [
      "Accept-Reject sampler [0.8557786762749672, 0.20168471862593207, 0.6609328098051321, 0.7534589225609072, 0.3940937135353847, 0.0926015922180351, 0.14708406988922706, 0.2065378785625105, 0.7578311452361404, 0.244386414415232, 0.22601718040867969, 0.31545685877712215, 0.7384157293035217, 0.7238293963133157, 0.8048047269727561, 0.7582160220917413, 0.08275869189890106, 0.32178919106178483, 0.11798029153147327, 0.19562843006143416]\n"
     ]
    }
   ],
   "source": [
    "\n",
    "# If however you did not manage to implement either part 1 or part 2 but still want to check part 3, you can run the code below\n",
    "\n",
    "def testUniformGenerator(size,seed):\n",
    "    import random\n",
    "    random.seed(seed)\n",
    "    \n",
    "    return [random.uniform(0,1) for s in range(size)]\n",
    "\n",
    "print(\"Accept-Reject sampler %s\" % problem4_accept_reject(uniformGenerator=testUniformGenerator, n_iterations=20, seed=1))"
   ]
  }
 ],
 "metadata": {
  "kernelspec": {
   "display_name": "base",
   "language": "python",
   "name": "python3"
  },
  "language_info": {
   "codemirror_mode": {
    "name": "ipython",
    "version": 3
   },
   "file_extension": ".py",
   "mimetype": "text/x-python",
   "name": "python",
   "nbconvert_exporter": "python",
   "pygments_lexer": "ipython3",
   "version": "3.9.12"
  },
  "lx_assignment_number": 2,
  "lx_course_instance": "2024",
  "lx_course_name": "Introduction to Data Science",
  "lx_course_number": "1MS041"
 },
 "nbformat": 4,
 "nbformat_minor": 5
}
