{
 "cells": [
  {
   "cell_type": "markdown",
   "id": "9159d569",
   "metadata": {
    "deletable": false
   },
   "source": [
    "# Exam 28th of August 2024, 8.00-13.00 for the course 1MS041 (Introduction to Data Science / Introduktion till dataanalys)\n",
    "\n",
    "## Instructions:\n",
    "1. Complete the problems by following instructions.\n",
    "2. When done, submit this file with your solutions saved, following the instruction sheet.\n",
    "\n",
    "This exam has 3 problems for a total of 40 points, to pass you need\n",
    "20 points. The bonus will be added to the score of the exam and rounded afterwards.\n",
    "\n",
    "## Some general hints and information:\n",
    "* Try to answer all questions even if you are uncertain.\n",
    "* Comment your code, so that if you get the wrong answer I can understand how you thought\n",
    "this can give you some points even though the code does not run.\n",
    "* Follow the instruction sheet rigorously.\n",
    "* This exam is partially autograded, but your code and your free text answers are manually graded anonymously.\n",
    "* If there are any questions, please ask the exam guards, they will escalate it to me if necessary.\n",
    "\n",
    "## Tips for free text answers\n",
    "* Be VERY clear with your reasoning, there should be zero ambiguity in what you are referring to.\n",
    "* If you want to include math, you can write LaTeX in the Markdown cells, for instance `$f(x)=x^2$` will be rendered as $f(x)=x^2$ and `$$f(x) = x^2$$` will become an equation line, as follows\n",
    "$$f(x) = x^2$$\n",
    "Another example is `$$f_{Y \\mid X}(y,x) = P(Y = y \\mid X = x) = \\exp(\\alpha \\cdot x + \\beta)$$` which renders as\n",
    "$$f_{Y \\mid X}(y,x) = P(Y = y \\mid X = x) = \\exp(\\alpha \\cdot x + \\beta)$$\n",
    "\n",
    "## Finally some rules:\n",
    "* You may not communicate with others during the exam, for example:\n",
    "    * You cannot ask for help in Stack-Overflow or other such help forums during the Exam.\n",
    "    * You may not communicate with AI's, for instance ChatGPT.\n",
    "    * Your on-line and off-line activity is being monitored according to the examination rules.\n",
    "\n",
    "## Good luck!"
   ]
  },
  {
   "cell_type": "code",
   "execution_count": null,
   "id": "8bd37502",
   "metadata": {
    "deletable": false
   },
   "outputs": [],
   "source": [
    "# Insert your anonymous exam ID as a string in the variable below\n",
    "examID=\"XXX\"\n"
   ]
  },
  {
   "cell_type": "markdown",
   "id": "99b92319",
   "metadata": {
    "deletable": false,
    "lx_assignment_number": "vB",
    "lx_assignment_type": "EXAM",
    "lx_assignment_type2print": "Exam",
    "lx_problem_cell_type": "PROBLEM",
    "lx_problem_number": "1",
    "lx_problem_points": "14"
   },
   "source": [
    "---\n",
    "## Exam vB, PROBLEM 1\n",
    "Maximum Points = 14"
   ]
  },
  {
   "cell_type": "markdown",
   "id": "555fbad0",
   "metadata": {
    "deletable": false,
    "lx_assignment_number": "vB",
    "lx_assignment_type": "EXAM",
    "lx_assignment_type2print": "Exam",
    "lx_problem_cell_type": "PROBLEM",
    "lx_problem_number": "1",
    "lx_problem_points": "14"
   },
   "source": [
    "\n",
    "In this problem you will do rejection sampling from complicated distributions, you will also be using your samples to compute certain integrals, a method known as Monte Carlo integration: (Keep in mind that choosing a good sampling distribution is often key to avoid too much rejection)\n",
    "\n",
    "1. [4p] Fill in the remaining part of the function `problem1_rejection` in order to produce samples from the below density using **rejection** sampling:\n",
    "\n",
    "$$\n",
    "    f[x] = C (\\sin(x))^{10}\n",
    "$$\n",
    "for $0 \\leq x \\leq \\pi$, where $C$ is a value such that $f$ above is a density (i.e. integrates to one). Hint: you do not need to know the value of $C$ to perform rejection sampling.\n",
    "\n",
    "2. [2p] Produce 10000 samples (**use fewer if it takes too long**) and put the answer in `problem1_samples` from the above distribution and plot the histogram. \n",
    "3. [2p] Define $X$ as a random variable with the density given in part 1. Denote $Y = \\left ( X - \\frac{\\pi}{2} \\right)^2$ and use the above 10000 samples to estimate\n",
    "$$\n",
    "    \\mathbb{E}[Y]\n",
    "$$\n",
    "and store the result in `problem1_expectation`.\n",
    "\n",
    "4. [2p] Use Hoeffdings inequality to produce a 95\\% confidence interval of the expectation above and store the result as a tuple in the variable `problem1_interval`\n",
    "\n",
    "5. [4p] Can you calculate an approximation of the value of $C$ from part 1 using random samples? Provide a plot of the histogram from part 2 together with the true density as a curve, recall that this requires the value of $C$. Explain what method you used and what answer you got."
   ]
  },
  {
   "cell_type": "code",
   "execution_count": 26,
   "id": "d5873c17",
   "metadata": {},
   "outputs": [
    {
     "data": {
      "text/plain": [
       "(1.570796326794897, 1.0)"
      ]
     },
     "execution_count": 26,
     "metadata": {},
     "output_type": "execute_result"
    }
   ],
   "source": [
    "import numpy as np\n",
    "from scipy.optimize import minimize_scalar\n",
    "\n",
    "# Define the function f(x) = (sin(x))^10\n",
    "def f(x):\n",
    "    return -(np.sin(x)**10)  # Negate to find the maximum since we use minimize_scalar\n",
    "\n",
    "# Minimize the negative of f(x) to find the maximum of f(x) in [0, π]\n",
    "result = minimize_scalar(f, bounds=(0, np.pi), method='bounded')\n",
    "\n",
    "# Maximum value and the corresponding x\n",
    "x_max = result.x\n",
    "f_max = -result.fun\n",
    "\n",
    "x_max, f_max\n"
   ]
  },
  {
   "cell_type": "code",
   "execution_count": 36,
   "id": "41e76ee5",
   "metadata": {
    "deletable": false,
    "lx_assignment_number": "vB",
    "lx_assignment_type": "EXAM",
    "lx_assignment_type2print": "Exam",
    "lx_problem_cell_type": "PROBLEM",
    "lx_problem_number": "1",
    "lx_problem_points": "14"
   },
   "outputs": [
    {
     "name": "stdout",
     "output_type": "stream",
     "text": [
      "[1.3569953  1.92219256 1.43278611 1.86112526 1.90865844 0.95697238\n",
      " 1.717541   1.22106572 1.1261533  1.0395468  1.64221362 0.99903738\n",
      " 1.31133534 1.62982881 1.56215225 0.8948528  1.91500283 1.0077603\n",
      " 2.12863122 1.60878779 2.0268701  1.07149154 1.66394637 2.0170019\n",
      " 1.90515308 1.72389804 2.0481967  1.81239701 0.88207239 2.02781102]\n"
     ]
    }
   ],
   "source": [
    "\n",
    "# Part 1\n",
    "import numpy as np\n",
    "def problem1_rejection(n_samples=1):\n",
    "    # Distribution from part 1\n",
    "    # write the code in this function to produce samples from the distribution in the assignment\n",
    "    M = 1\n",
    "    # Target density function f(x)\n",
    "    def f_(x):\n",
    "        return (np.sin(x)**10)\n",
    "    np.random.seed(42)  \n",
    "    accepted_samples = []\n",
    "    while len(accepted_samples) < n_samples:\n",
    "        # Generate a candidate x from g(x)\n",
    "        # Generate sample from a uniform distribution (0, pi)\n",
    "        x = np.random.uniform(0, np.pi)\n",
    "        # Generate sample from a uniform distribution (0, 1)\n",
    "        u = np.random.uniform(0, 1)\n",
    "        # Find r(x) = f(x)/M\n",
    "        r_x = f_(x)/M\n",
    "        # Accept only samples that are smaller than the calculated ratio\n",
    "        if u <= r_x:\n",
    "            accepted_samples.append(x)\n",
    "    accepted_samples=np.array(accepted_samples)\n",
    "    # Return a numpy array of length n_samples\n",
    "    return accepted_samples\n",
    "print(problem1_rejection(30))"
   ]
  },
  {
   "cell_type": "markdown",
   "id": "189f3569",
   "metadata": {},
   "source": [
    "To solve the problem of performing rejection sampling from the given density:\n",
    "\n",
    "$$\n",
    "f(x) = C (\\sin(x))^{10}, \\quad \\text{for } 0 \\leq x \\leq \\pi,\n",
    "$$\n",
    "\n",
    "we'll implement the `problem1_rejection` function. Rejection sampling works as follows:\n",
    "\n",
    "### Steps for Rejection Sampling:\n",
    "1. **Choose a proposal distribution $$ g(x) $$:**  \n",
    "   A simple choice here is the uniform distribution \\( g(x) \\sim \\text{Uniform}(0, \\pi) \\), since \\( \\sin(x)^{10} \\) is defined over \\( [0, \\pi] \\).\n",
    "\n",
    "2. **Find a constant \\( M \\):**  \n",
    "   The constant \\( M \\) must satisfy:\n",
    "   $$\n",
    "   M g(x) \\geq f(x), \\quad \\forall x \\in [0, \\pi].\n",
    "   $$\n",
    "   The maximum of \\( f(x) \\) occurs when $$ x = \\pi/2 $$, so \\( M \\) can be calculated as:\n",
    "   $$\n",
    "   M = (\\sin(\\pi/2))^{10} = 1.\n",
    "  $$\n",
    "\n",
    "3. **Generate samples using rejection sampling:**\n",
    "   - Sample $$ x \\sim g(x) $$.\n",
    "   - Sample $$ u \\sim \\text{Uniform}(0, 1) $$.\n",
    "   - Accept \\( x \\) if:\n",
    "     $$\n",
    "     u \\leq \\frac{f(x)}{M g(x)} = (\\sin(x))^{10}.\n",
    "     $$\n",
    "\n",
    "This method ensures that the accepted samples follow the target density \\( f(x) \\).\n",
    "\n",
    "\n",
    "### Explanation:\n",
    "1. The function loops until the desired number of samples \\( n_{\\text{samples}} \\) are accepted.\n",
    "2. The proposal distribution is $$ g(x) \\sim \\text{Uniform}(0, \\pi) $$, and the maximum value \\( M = 1 \\) is determined analytically from $$ \\sin(x)^{10} $$ at $$ x = \\pi/2 $$.\n",
    "3. For each proposed sample \\( x \\), a uniform random variable \\( u \\) determines whether to accept or reject \\( x \\) based on the likelihood ratio:\n",
    "   $$\n",
    "   u \\leq \\frac{f(x)}{M g(x)} = (\\sin(x))^{10}.\n",
    "   $$\n",
    "\n",
    "### Why You Don't Need \\( C \\):\n",
    "Rejection sampling works with unnormalized densities because the constant \\( C \\) cancels out in the ratio \\( f(x) / (M g(x)) \\). Thus, \\( C \\) is not required.\n",
    "\n",
    "### Monte Carlo Integration:\n",
    "You can use these samples to approximate integrals with respect to the target density \\( f(x) \\). For example, the expected value of a function \\( h(x) \\) under \\( f(x) \\) can be computed as:\n",
    "$$\n",
    "\\mathbb{E}[h(x)] \\approx \\frac{1}{n} \\sum_{i=1}^n h(x_i),\n",
    "$$\n",
    "where \\( x_i \\) are the samples generated from \\( f(x) \\)."
   ]
  },
  {
   "cell_type": "code",
   "execution_count": 37,
   "id": "1ffda8e1",
   "metadata": {
    "deletable": false,
    "lx_assignment_number": "vB",
    "lx_assignment_type": "EXAM",
    "lx_assignment_type2print": "Exam",
    "lx_problem_cell_type": "PROBLEM",
    "lx_problem_number": "1",
    "lx_problem_points": "14"
   },
   "outputs": [
    {
     "name": "stdout",
     "output_type": "stream",
     "text": [
      "[1.3569953  1.92219256 1.43278611 ... 1.49698326 1.85856784 1.73154312]\n"
     ]
    },
    {
     "data": {
      "image/png": "[encoded data removed]",
      "text/plain": [
       "<Figure size 576x360 with 1 Axes>"
      ]
     },
     "metadata": {
      "needs_background": "light"
     },
     "output_type": "display_data"
    }
   ],
   "source": [
    "# Part 2\n",
    "import matplotlib.pyplot as plt\n",
    "import numpy as np\n",
    "\n",
    "problem1_samples =  problem1_rejection(10000)\n",
    "print(problem1_samples)\n",
    "\n",
    "# Plot the distribution of the samples\n",
    "plt.figure(figsize=(8, 5))\n",
    "plt.hist(problem1_samples, bins=50, density=True, alpha=0.6, color='blue', label='Histogram of samples')\n",
    "\n",
    "# Plot the actual distribution for comparison\n",
    "x_vals = np.linspace(0, np.pi, 1000)\n",
    "f_vals = (np.sin(x_vals)**10)  # Unnormalized density\n",
    "# trapz: is one of the simplest numerical integration methods and is quite efficient for approximating integrals of discrete functions.\n",
    "plt.plot(x_vals, f_vals / np.trapz(f_vals, x_vals), color='red', label='True density (normalized)')\n",
    "\n",
    "plt.title('Histogram of Rejection Sampling')\n",
    "plt.xlabel('x')\n",
    "plt.ylabel('Density')\n",
    "plt.legend()\n",
    "plt.grid()\n",
    "plt.show()\n"
   ]
  },
  {
   "cell_type": "code",
   "execution_count": 38,
   "id": "586fc62f",
   "metadata": {
    "deletable": false,
    "lx_assignment_number": "vB",
    "lx_assignment_type": "EXAM",
    "lx_assignment_type2print": "Exam",
    "lx_problem_cell_type": "PROBLEM",
    "lx_problem_number": "1",
    "lx_problem_points": "14"
   },
   "outputs": [
    {
     "name": "stdout",
     "output_type": "stream",
     "text": [
      "0.09244521725963621\n"
     ]
    }
   ],
   "source": [
    "# Part 3\n",
    "y_samples =[]\n",
    "for i in problem1_samples:\n",
    "    Y = ((i-(np.pi)/2))**2\n",
    "    y_samples.append(Y)\n",
    "\n",
    "exp_y = np.mean(y_samples)\n",
    "\n",
    "problem1_expectation = exp_y\n",
    "print(problem1_expectation)\n",
    "\n",
    "# OR \n",
    "\n",
    "# Assuming problem1_samples is a list, let's convert it to a numpy array\n",
    "problem1_samples = np.array(problem1_samples)\n",
    "\n",
    "# Compute Y = (X - pi/2)^2 for each sample in problem1_samples\n",
    "Y_samples = (problem1_samples - np.pi / 2) ** 2\n",
    "\n",
    "# Estimate the expectation E[Y] as the mean of Y_samples\n",
    "problem1_expectation = np.mean(Y_samples)\n"
   ]
  },
  {
   "cell_type": "code",
   "execution_count": 39,
   "id": "e9ba9156",
   "metadata": {
    "deletable": false,
    "lx_assignment_number": "vB",
    "lx_assignment_type": "EXAM",
    "lx_assignment_type2print": "Exam",
    "lx_problem_cell_type": "PROBLEM",
    "lx_problem_number": "1",
    "lx_problem_points": "14"
   },
   "outputs": [
    {
     "name": "stdout",
     "output_type": "stream",
     "text": [
      "[0.05893540551743685, 0.12595502900183558]\n"
     ]
    }
   ],
   "source": [
    "# Part 4\n",
    "from math import sqrt\n",
    "n = len(problem1_samples) \n",
    "a=0.05\n",
    "#first_component = -1/(2*n)\n",
    "#second_component = math.log(a_h)\n",
    "# compute Hoeffding's bound\n",
    "\n",
    "max_X = np.pi  # max X in the support of f(x) and min is 0 as it is squared root\n",
    "max_Y = (max_X - np.pi/ 2) ** 2\n",
    "\n",
    "e = sqrt(((max_Y - 0) ** 2 * math.log(2 / a)) / (2 * n))\n",
    "\n",
    "lower_bound = problem1_expectation-e\n",
    "upper_bound = problem1_expectation+e\n",
    "\n",
    "problem1_interval = [lower_bound,upper_bound]\n",
    "print(problem1_interval)"
   ]
  },
  {
   "cell_type": "markdown",
   "id": "c9891b5c",
   "metadata": {},
   "source": [
    "To approximate the value of \\( C \\) from part 1 using random samples, we can use Monte Carlo integration. Since the density function \\( f(x) \\) is proportional to \\( C (\\sin(x))^{10} \\), we can estimate \\( C \\) by using the fact that the integral of a probability density function over its domain must be equal to 1.\n",
    "\n",
    "### 1. **Approximating \\( C \\)**\n",
    "\n",
    "Since \\( C \\) is a normalization constant, we need to ensure that the integral of the density function over the domain $$ [0, \\pi] $$ is 1. The normalization condition is:\n",
    "\n",
    "$$\n",
    "\\int_0^\\pi C (\\sin(x))^{10} \\, dx = 1\n",
    "$$\n",
    "\n",
    "Thus, we can estimate \\( C \\) by evaluating the integral:\n",
    "\n",
    "$$\n",
    "C = \\frac{1}{\\int_0^\\pi (\\sin(x))^{10} \\, dx}\n",
    "$$\n",
    "\n",
    "We will use Monte Carlo sampling to estimate the integral $$ \\int_0^\\pi (\\sin(x))^{10} \\, dx $$ and from that, we can estimate \\( C \\).\n",
    "\n",
    "### 2. **Monte Carlo Approximation for the Integral**\n",
    "\n",
    "To compute the integral $$ \\int_0^\\pi (\\sin(x))^{10} \\, dx $$ we can use random samples drawn from the uniform distribution over the interval $$ [0, \\pi] $$ For each sample $$ x_i $$ we evaluate the function $$ (\\sin(x_i))^{10} $$ and then the average of these evaluations, multiplied by the length of the interval (which is \\( \\pi \\)), gives an estimate of the integral.\n",
    "\n",
    "$$\n",
    "\\text{Integral estimate} = \\frac{\\pi}{n} \\sum_{i=1}^{n} (\\sin(x_i))^{10}\n",
    "$$\n",
    "\n",
    "Finally, we can compute \\( C \\) as the reciprocal of this estimate.\n"
   ]
  },
  {
   "cell_type": "code",
   "execution_count": 40,
   "id": "8691416d",
   "metadata": {},
   "outputs": [
    {
     "name": "stdout",
     "output_type": "stream",
     "text": [
      "1.3145040508554167\n"
     ]
    }
   ],
   "source": [
    "# Part 5\n",
    "# Estimate the integral of (sin(x))^10 over the interval [0, pi]\n",
    "integral_estimation = problem1_expectation * np.pi\n",
    "# Estimate the normalization constant C\n",
    "C_estimate = 1 / integral_estimate\n",
    "problem1_C = C_estimate\n",
    "print(C_estimate)"
   ]
  },
  {
   "cell_type": "code",
   "execution_count": 41,
   "id": "b66bd807",
   "metadata": {
    "deletable": false,
    "lx_assignment_number": "vB",
    "lx_assignment_type": "EXAM",
    "lx_assignment_type2print": "Exam",
    "lx_problem_cell_type": "PROBLEM",
    "lx_problem_number": "1",
    "lx_problem_points": "14"
   },
   "outputs": [
    {
     "data": {
      "image/png": "[encoded data removed]",
      "text/plain": [
       "<Figure size 432x288 with 1 Axes>"
      ]
     },
     "metadata": {
      "needs_background": "light"
     },
     "output_type": "display_data"
    }
   ],
   "source": [
    "# Part 5\n",
    "\n",
    "# Write your code to produce the plot here\n",
    "\n",
    "# Plot histogram of samples\n",
    "plt.hist(problem1_samples, bins=50, density=True, alpha=0.6, color='g', label='Sampled Density')\n",
    "\n",
    "# Define the density function f(x) = C * (sin(x))^10\n",
    "def f(x):\n",
    "    return C_estimate * (np.sin(x))**10\n",
    "\n",
    "# Plot the true density curve\n",
    "x_vals = np.linspace(0, np.pi, 1000)\n",
    "plt.plot(x_vals, f(x_vals), 'r-', label='True Density')\n",
    "\n",
    "# Labels and title\n",
    "plt.xlabel('x')\n",
    "plt.ylabel('Density')\n",
    "plt.title('Histogram and True Density Curve')\n",
    "plt.legend()\n",
    "plt.show()"
   ]
  },
  {
   "cell_type": "markdown",
   "id": "745c6925",
   "metadata": {
    "deletable": false,
    "lx_assignment_number": "vB",
    "lx_assignment_type": "EXAM",
    "lx_assignment_type2print": "Exam",
    "lx_problem_cell_type": "PROBLEM",
    "lx_problem_number": "1",
    "lx_problem_points": "14"
   },
   "source": [
    "# Part 5\n",
    "\n",
    "**Double click this cell and directly edit below to answer part 5**\n",
    "\n",
    "### Begin explanation\n",
    "\n",
    "The method used to estimate C is Monte Carlo integration. This method involves using random samples to approximate the value of an integral, and it is particularly useful for high-dimensional or complicated integrals where other analytical methods might be difficult or impossible to apply. In this case, we approximated the integral $$\\int_0^\\pi C (\\sin(x))^{10} \\, dx = 1 $$ using random samples and used this to estimate C.\n",
    "\n",
    "### End explanation"
   ]
  },
  {
   "cell_type": "markdown",
   "id": "eb192436",
   "metadata": {
    "deletable": false,
    "lx_assignment_number": "vB",
    "lx_assignment_type": "EXAM",
    "lx_assignment_type2print": "Exam",
    "lx_problem_cell_type": "Test",
    "lx_problem_number": "1",
    "lx_problem_points": "14"
   },
   "source": [
    "---\n",
    "#### Local Test for Exam vB, PROBLEM 1\n",
    "Evaluate cell below to make sure your answer is valid.                             You **should not** modify anything in the cell below when evaluating it to do a local test of                             your solution.\n",
    "You may need to include and evaluate code snippets from lecture notebooks in cells above to make the local test work correctly sometimes (see error messages for clues). This is meant to help you become efficient at recalling materials covered in lectures that relate to this problem. Such local tests will generally not be available in the exam."
   ]
  },
  {
   "cell_type": "code",
   "execution_count": 42,
   "id": "dc4a041c",
   "metadata": {
    "deletable": false,
    "lx_assignment_number": "vB",
    "lx_assignment_type": "EXAM",
    "lx_assignment_type2print": "Exam",
    "lx_problem_cell_type": "Test",
    "lx_problem_number": "1",
    "lx_problem_points": "14"
   },
   "outputs": [
    {
     "name": "stdout",
     "output_type": "stream",
     "text": [
      "Good, your problem1_rejection returns a numpy array\n",
      "Good, your problem1_samples is a numpy array\n",
      "Good, your problem1_expectation is a float\n",
      "Good, your problem1_interval is a tuple or list of length 2\n"
     ]
    }
   ],
   "source": [
    "\n",
    "# This cell is just to check that you got the correct formats of your answer\n",
    "import numpy as np\n",
    "try:\n",
    "    assert(isinstance(problem1_rejection(10), np.ndarray)) \n",
    "except:\n",
    "    print(\"Try again. You should return a numpy array from problem1_rejection\")\n",
    "else:\n",
    "    print(\"Good, your problem1_rejection returns a numpy array\")\n",
    "\n",
    "try:\n",
    "    assert(isinstance(problem1_samples, np.ndarray)) \n",
    "except:\n",
    "    print(\"Try again. your problem1_samples is not a numpy array\")\n",
    "else:\n",
    "    print(\"Good, your problem1_samples is a numpy array\")\n",
    "\n",
    "try:\n",
    "    assert(isinstance(problem1_expectation, float)) \n",
    "except:\n",
    "    print(\"Try again. your problem1_expectation is not a float\")\n",
    "else:\n",
    "    print(\"Good, your problem1_expectation is a float\")\n",
    "\n",
    "try:\n",
    "    assert(isinstance(problem1_interval, list) or isinstance(problem1_interval, tuple)) , \"problem1_interval not a tuple or list\"\n",
    "    assert(len(problem1_interval) == 2) , \"problem1_interval does not have length 2, it should have a lower bound and an upper bound\"\n",
    "except Exception as e:\n",
    "    print(e)\n",
    "else:\n",
    "    print(\"Good, your problem1_interval is a tuple or list of length 2\")"
   ]
  },
  {
   "cell_type": "markdown",
   "id": "29ede6dd",
   "metadata": {
    "deletable": false,
    "lx_assignment_number": "vB",
    "lx_assignment_type": "EXAM",
    "lx_assignment_type2print": "Exam",
    "lx_problem_cell_type": "PROBLEM",
    "lx_problem_number": "2",
    "lx_problem_points": "13"
   },
   "source": [
    "---\n",
    "## Exam vB, PROBLEM 2\n",
    "Maximum Points = 13"
   ]
  },
  {
   "cell_type": "markdown",
   "id": "694eb7eb",
   "metadata": {
    "deletable": false,
    "lx_assignment_number": "vB",
    "lx_assignment_type": "EXAM",
    "lx_assignment_type2print": "Exam",
    "lx_problem_cell_type": "PROBLEM",
    "lx_problem_number": "2",
    "lx_problem_points": "13"
   },
   "source": [
    "\n",
    "Consider the dataset `CORIS.csv` that you find in the data folder. The data set `CORIS.csv` contains cases of coronary heart disease (CHD) and variables associated with the patient's condition: systolic blood pressure, yearly tobacco use (in kg), low density lipoprotein (Idl), adiposity, family history (0 or 1), type A personality score (typea), obesity (body mass index), alcohol use, age, and the diagnosis of CHD (0 or 1).\n",
    "In this dataset the `X` corresponds to the measurements. The `Y` is a 0-1 label where 1 represents CHD and 0 does not. The code to load the data is prepared and so is the train-test-validation split and the training of the model. The model is stored in `problem2_pipe` which is a Pipeline object as often used in composite models in sklearn, you will find in the cell corresponding to the different parts, some sample code how to use the model.\n",
    "\n",
    "1. [3p] Use Hoeffdings inequality and compute the intervals for precision-recall etc. on the test set with 95% confidence.\n",
    "2. [3p] You are interested in minimizing the average cost of your classifier. The hospital wants to use your model as a screening tool, that is, if it finds that someone is classified as CHD we interpret this as further investigation needs to take place, otherwise we do noting. After some deliberations you come to the conclusion that the following \"costs\" should be used (note, this is all imaginary at this point),\n",
    "    * If someone has coronary heart disease but classified as not, we say it costs 300 **(this is the worst scenario)** \n",
    "    * If someone does not have coronary heart disease but classified as having it, we say it costs 10 **(this is less bad than the above issue)**\n",
    "    * If someone has coronary heart disease but classified as having it, costs 0 **(We did the right thing, no cost)**\n",
    "    * If someone does not have coronary heart disease but classified as not, costs 0 **(We did the right thing, no cost)**.\n",
    "\n",
    "complete filling the function `cost` to compute the cost of a prediction model under a certain prediction threshold (recall our precision recall lecture and the `predict_proba` function from the LogisticRegression (code provided)). \n",
    "\n",
    "3. [4p] Now, we wish to select the threshold of our classifier that minimizes the cost, we do that by checking say 100 evenly spaced proposal thresholds between 0 and 1. Compute the optimal threshold using the testing data and calculate the cost at the chosen threshold using the testing data.\n",
    "4. [3p] With your newly computed threshold value, compute the cost of putting this model in production by computing the cost using the validation data. Also provide a confidence interval of the cost using Hoeffdings inequality with a 99% confidence."
   ]
  },
  {
   "cell_type": "code",
   "execution_count": 63,
   "id": "161f9572",
   "metadata": {
    "deletable": false,
    "lx_assignment_number": "vB",
    "lx_assignment_type": "EXAM",
    "lx_assignment_type2print": "Exam",
    "lx_problem_cell_type": "PROBLEM",
    "lx_problem_number": "2",
    "lx_problem_points": "13"
   },
   "outputs": [
    {
     "name": "stdout",
     "output_type": "stream",
     "text": [
      "(277, 9) (277,) (92, 9) (92,) (93, 9) (93,)\n"
     ]
    },
    {
     "data": {
      "text/plain": [
       "Pipeline(steps=[('scaler', StandardScaler()),\n",
       "                ('logreg', LogisticRegression(random_state=42))])"
      ]
     },
     "execution_count": 63,
     "metadata": {},
     "output_type": "execute_result"
    }
   ],
   "source": [
    "# RUN THIS CELL TO LOAD THE DATA AND SPLIT IT INTO TRAINING, TEST AND VALIDATION SETS\n",
    "# FINALLY IT TRAINS THE MODEL AS A PIPELINE\n",
    "\n",
    "import pandas as pd\n",
    "from sklearn.model_selection import train_test_split\n",
    "\n",
    "CORISDataset = pd.read_csv(\"data/CORIS.csv\",skiprows=[1,2])\n",
    "\n",
    "# Initial data split into features and target\n",
    "problem2_X = CORISDataset[['sbp','tobacco','ldl','adiposity','famhist','typea','obesity','alcohol','age']].values # Features\n",
    "problem2_Y = CORISDataset['chd'].values # Target variable\n",
    "\n",
    "# Split the data into training, test and validation sets\n",
    "problem2_X_train, X_tmp, problem2_Y_train, Y_tmp = train_test_split(problem2_X,problem2_Y,train_size=0.6,random_state=42)\n",
    "problem2_X_test, problem2_X_val, problem2_Y_test, problem2_Y_val = train_test_split(X_tmp,Y_tmp,train_size=0.5,random_state=42)\n",
    "\n",
    "# Show the shapes of the data\n",
    "print(problem2_X_train.shape,problem2_Y_train.shape, problem2_X_test.shape, problem2_Y_test.shape, problem2_X_val.shape, problem2_Y_val.shape)\n",
    "\n",
    "from sklearn.pipeline import Pipeline\n",
    "from sklearn.preprocessing import StandardScaler\n",
    "from sklearn.linear_model import LogisticRegression\n",
    "\n",
    "# Create a pipeline with a scaler and a logistic regression model\n",
    "problem2_pipe = Pipeline([('scaler',StandardScaler()),('logreg',LogisticRegression(random_state=42))])\n",
    "\n",
    "# Fit the pipeline to the training data\n",
    "problem2_pipe.fit(problem2_X_train,problem2_Y_train)"
   ]
  },
  {
   "cell_type": "code",
   "execution_count": 70,
   "id": "b9eab2b7",
   "metadata": {},
   "outputs": [
    {
     "name": "stdout",
     "output_type": "stream",
     "text": [
      "[0 0 0 0 1 1 0 1 0 0 1 0 1 1 0 0 0 0 0 1 0 0 0 0 1 1 0 0 0 0 0 0 1 0 1 0 0\n",
      " 0 0 0 0 0 0 0 0 0 1 1 0 0 0 0 0 1 1 0 0 1 0 0 1 0 0 0 1 1 0 0 1 1 0 1 0 0\n",
      " 0 1 0 0 1 1 0 0 1 0 1 1 0 0 0 0 0 0]\n",
      "[0 0 0 1 1 0 0 1 0 0 1 0 1 1 0 1 0 0 0 1 0 0 0 0 1 1 1 0 0 0 0 0 0 0 0 0 1\n",
      " 0 0 1 0 0 0 0 1 0 0 0 0 0 0 1 0 0 1 0 0 1 1 1 0 1 0 0 0 1 1 0 1 1 0 1 0 1\n",
      " 0 1 0 0 1 1 0 1 1 1 0 1 0 0 0 0 0 1]\n"
     ]
    }
   ],
   "source": [
    "# prediction class\n",
    "prediction_test = problem2_pipe.predict(problem2_X_test)\n",
    "print(prediction_test)\n",
    "# actual class\n",
    "print(problem2_Y_test)"
   ]
  },
  {
   "cell_type": "markdown",
   "id": "c5f61d7c",
   "metadata": {},
   "source": [
    "$$\n",
    "    \\begin{aligned}\n",
    "        \\text{Precision:} \\quad P(Y = 1 \\mid g(X) = 1) \\\\\n",
    "        \\text{Recall:} \\quad P(g(X) = 1 \\mid Y = 1).\n",
    "    \\end{aligned}\n",
    "$$"
   ]
  },
  {
   "cell_type": "code",
   "execution_count": 80,
   "id": "f09d0524",
   "metadata": {},
   "outputs": [],
   "source": [
    "# prediction made by the model is 1 \n",
    "Y_test_g_1 = problem2_Y_test[prediction_test == 1]\n",
    "\n",
    "precision = sum(Y_test_g_1)/len(Y_test_g_1)\n",
    "precision1 = np.mean(Y_test_g_1)\n",
    "\n",
    "# prediction made by the model is 0\n",
    "Y_test_g_0 = problem2_Y_test[prediction_test == 0]\n",
    "\n",
    "# Precision for class 0: correctly predicted class 0 divided by total predicted as class 0\n",
    "precision0 = (sum(Y_test_g_0 == 0) / len(Y_test_g_0)) if len(Y_test_g_0) > 0 else 0\n",
    "\n"
   ]
  },
  {
   "cell_type": "code",
   "execution_count": 84,
   "id": "c7f49cbd",
   "metadata": {},
   "outputs": [],
   "source": [
    "# actual is 1 and predicted as 1 by the model = recall \n",
    "test_prediction_Y_1 = prediction_test[problem2_Y_test == 1]\n",
    "recall = sum(test_prediction_Y_1)/len(test_prediction_Y_1)\n",
    "recall1 = np.mean(test_prediction_Y_1)\n",
    "test_prediction_Y_0 = prediction_test[problem2_Y_test == 0]\n",
    "\n"
   ]
  },
  {
   "cell_type": "code",
   "execution_count": 86,
   "id": "ac05bd8c",
   "metadata": {},
   "outputs": [
    {
     "name": "stdout",
     "output_type": "stream",
     "text": [
      "Precision for class 0: 0.765625\n",
      "Recall for class 0: 0.8448275862068966\n",
      "Precision for class 1: 0.6785714285714286\n",
      "Recall for class 1: 0.5588235294117647\n"
     ]
    }
   ],
   "source": [
    "from sklearn.metrics import precision_score, recall_score\n",
    "\n",
    "# Calculate precision and recall for class 0\n",
    "precision00 = precision_score(problem2_Y_test, prediction_test, pos_label=0)\n",
    "recall00 = recall_score(problem2_Y_test, prediction_test, pos_label=0)\n",
    "\n",
    "# Calculate precision and recall for class 1\n",
    "precision11 = precision_score(problem2_Y_test, prediction_test, pos_label=1)\n",
    "recall11 = recall_score(problem2_Y_test, prediction_test, pos_label=1)\n",
    "\n",
    "# Print the precision and recall values\n",
    "print(f\"Precision for class 0: {precision00}\")\n",
    "print(f\"Recall for class 0: {recall00}\")\n",
    "print(f\"Precision for class 1: {precision11}\")\n",
    "print(f\"Recall for class 1: {recall11}\")\n"
   ]
  },
  {
   "cell_type": "code",
   "execution_count": 87,
   "id": "ca4c060d",
   "metadata": {},
   "outputs": [
    {
     "name": "stdout",
     "output_type": "stream",
     "text": [
      "Precision for class 0: 0.765625\n",
      "Recall for class 0: 0.8448275862068966\n",
      "Precision for class 1: 0.6785714285714286\n",
      "Recall for class 1: 0.5588235294117647\n"
     ]
    }
   ],
   "source": [
    "precision0 = (sum(Y_test_g_0 == 0) / len(Y_test_g_0)) if len(Y_test_g_0) > 0 else 0\n",
    "recall0 = (sum(test_prediction_Y_0==0)/len(test_prediction_Y_0))  if len(test_prediction_Y_0) > 0 else 0\n",
    "precision1 = sum(Y_test_g_1)/len(Y_test_g_1)\n",
    "recall1 =  sum(test_prediction_Y_1)/len(test_prediction_Y_1)\n",
    "print(f\"Precision for class 0: {precision0}\")\n",
    "print(f\"Recall for class 0: {recall0}\")\n",
    "print(f\"Precision for class 1: {precision1}\")\n",
    "print(f\"Recall for class 1: {recall1}\")"
   ]
  },
  {
   "cell_type": "markdown",
   "id": "4aa2c094",
   "metadata": {},
   "source": [
    "Hoeffding's inequality provides a way to bound the probability that the sample mean deviates from the true mean. In this case, you can use Hoeffding's inequality to compute confidence intervals for metrics such as precision, recall, and others.\n",
    "\n",
    "The inequality states that:\n",
    "\n",
    "$$\n",
    "P(|\\hat{\\mu} - \\mu| \\geq \\epsilon) \\leq 2 \\exp(-2n \\epsilon^2)\n",
    "$$\n",
    "\n",
    "Where:\n",
    " - \\mu_hat  is the sample mean (i.e., precision, recall, etc. from the test set).\n",
    " - \\mu  is the true mean (population mean).\n",
    " - \\epsilon  is the deviation (how much you allow the sample mean to differ from the true mean).\n",
    " - n  is the sample size.\n",
    "\n",
    "To use Hoeffding's inequality for calculating the 95% confidence interval, we want to compute the confidence bounds for precision, recall, and other metrics on the test set.\n",
    "\n",
    "1. **Precision, Recall, and Metrics**:\n",
    "   - We already have the precision and recall values computed for class 0 and class 1. For each metric (e.g., precision, recall), calculate the sample mean on the test set.\n",
    "  \n",
    "2. **Hoeffding's Confidence Interval**:\n",
    "   - To calculate the confidence interval for each metric, we will use the following formula:\n",
    "   \n",
    "   $$\n",
    "   \\mu \\in [\\hat{\\mu} - \\epsilon, \\hat{\\mu} + \\epsilon]\n",
    "   $$\n",
    "   \n",
    "   Where \\( \\epsilon \\) is determined from Hoeffding's inequality:\n",
    "   \n",
    "   $$\n",
    "   \\epsilon = \\sqrt{\\frac{\\ln(2/\\alpha)}{2n}}\n",
    "   $$\n",
    "   \n",
    "  \n"
   ]
  },
  {
   "cell_type": "code",
   "execution_count": 89,
   "id": "c9b6b147",
   "metadata": {
    "deletable": false,
    "lx_assignment_number": "vB",
    "lx_assignment_type": "EXAM",
    "lx_assignment_type2print": "Exam",
    "lx_problem_cell_type": "PROBLEM",
    "lx_problem_number": "2",
    "lx_problem_points": "13"
   },
   "outputs": [
    {
     "name": "stdout",
     "output_type": "stream",
     "text": [
      "(0.6240331291076598, 0.9072168708923402)\n",
      "(0.5369795576790884, 0.8201632994637688)\n",
      "(0.7032357153145564, 0.9864194570992367)\n",
      "(0.41723165851942456, 0.7004154003041049)\n"
     ]
    }
   ],
   "source": [
    "# Part 1\n",
    "\n",
    "# To make a prediction on a dataset `X` you can use the following code\n",
    "# predictions = problem2_pipe.predict(X)\n",
    "# That is, as with any other sklearn model, you can use the `predict` method\n",
    "\n",
    "# Each precision and recall should be a tuple, for instance you can write\n",
    "# precision0 = (0.9,0.95)\n",
    "# the 0 or 1 in the variable name indicates the class\n",
    "# Number of test samples\n",
    "n = len(problem2_Y_test)\n",
    "e = sqrt(((1 - 0) ** 2 * math.log(2 / 0.05)) / (2 * n))\n",
    "\n",
    "problem2_precision0 = (precision0-e, precision0+e)\n",
    "problem2_recall0 = (recall0-e, recall0+e)\n",
    "problem2_precision1 = (precision1-e, precision1+e)\n",
    "problem2_recall1 = (recall1-e, recall1+e)\n",
    "\n",
    "# The code below will check that you supply the proper type\n",
    "assert(type(problem2_precision0) == tuple)\n",
    "assert(len(problem2_precision0) == 2)\n",
    "assert(type(problem2_recall0) == tuple)\n",
    "assert(len(problem2_recall0) == 2)\n",
    "assert(type(problem2_precision1) == tuple)\n",
    "assert(len(problem2_precision1) == 2)\n",
    "assert(type(problem2_recall1) == tuple)\n",
    "assert(len(problem2_recall1) == 2)\n",
    "\n",
    "print(problem2_precision0)\n",
    "print(problem2_precision1)\n",
    "print(problem2_recall0)\n",
    "print(problem2_recall1)"
   ]
  },
  {
   "cell_type": "code",
   "execution_count": 99,
   "id": "c6ffc5b6",
   "metadata": {},
   "outputs": [],
   "source": [
    "def problem2_cost(model, threshold, X, Y):\n",
    "    # Get the predicted probabilities for the positive class\n",
    "    pred_proba = model.predict_proba(X)[:, 1]\n",
    "    \n",
    "    # Apply the threshold to create binary predictions\n",
    "    predictions = (pred_proba >= threshold) * 1\n",
    "    \n",
    "    # Define costs for each case\n",
    "    cost_false_negative = 300  # Has CHD but classified as not\n",
    "    cost_false_positive = 10   # Does not have CHD but classified as having it\n",
    "    cost_true_positive = 0     # Has CHD and classified as having it\n",
    "    cost_true_negative = 0     # Does not have CHD and classified as not\n",
    "\n",
    "    # Calculate the costs for each type of prediction\n",
    "    false_negatives = ((Y == 1) & (predictions == 0)).sum() * cost_false_negative\n",
    "    false_positives = ((Y == 0) & (predictions == 1)).sum() * cost_false_positive\n",
    "    true_positives = ((Y == 1) & (predictions == 1)).sum() * cost_true_positive\n",
    "    true_negatives = ((Y == 0) & (predictions == 0)).sum() * cost_true_negative\n",
    "    \n",
    "    # Compute the total cost\n",
    "    total_cost = false_negatives + false_positives + true_positives + true_negatives\n",
    "    \n",
    "    # Return the average cost per person\n",
    "    return total_cost / len(Y)\n"
   ]
  },
  {
   "cell_type": "code",
   "execution_count": 100,
   "id": "653eff9c",
   "metadata": {},
   "outputs": [
    {
     "name": "stdout",
     "output_type": "stream",
     "text": [
      "Average cost at threshold 0.5: 49.891304347826086\n"
     ]
    }
   ],
   "source": [
    "threshold = 0.5  # Example threshold\n",
    "average_cost = problem2_cost(problem2_pipe, threshold, problem2_X_test, problem2_Y_test)\n",
    "print(f\"Average cost at threshold {threshold}: {average_cost}\")\n"
   ]
  },
  {
   "cell_type": "code",
   "execution_count": 101,
   "id": "86de761f",
   "metadata": {
    "deletable": false,
    "lx_assignment_number": "vB",
    "lx_assignment_type": "EXAM",
    "lx_assignment_type2print": "Exam",
    "lx_problem_cell_type": "PROBLEM",
    "lx_problem_number": "2",
    "lx_problem_points": "13"
   },
   "outputs": [
    {
     "name": "stdout",
     "output_type": "stream",
     "text": [
      "Optimal threshold: 0.07070707070707072\n",
      "Cost at optimal threshold: 5.217391304347826\n"
     ]
    }
   ],
   "source": [
    "# Part 3\n",
    "\n",
    "import numpy as np\n",
    "\n",
    "# Function to compute cost for all thresholds\n",
    "def find_optimal_threshold(model, X, Y, num_thresholds=100):\n",
    "    # Generate 100 evenly spaced thresholds between 0 and 1\n",
    "    thresholds = np.linspace(0, 1, num_thresholds)\n",
    "    \n",
    "    # Initialize variables to track the optimal threshold and minimum cost\n",
    "    optimal_threshold = 0\n",
    "    min_cost = float('inf')\n",
    "    \n",
    "    # Iterate through each threshold to calculate the cost\n",
    "    for threshold in thresholds:\n",
    "        cost = problem2_cost(model, threshold, X, Y)\n",
    "        if cost < min_cost:\n",
    "            min_cost = cost\n",
    "            optimal_threshold = threshold\n",
    "    \n",
    "    return optimal_threshold, min_cost\n",
    "\n",
    "# Find the optimal threshold and cost\n",
    "problem2_optimal_threshold, problem2_cost_at_optimal_threshold = find_optimal_threshold(\n",
    "    problem2_pipe, problem2_X_test, problem2_Y_test\n",
    ")\n",
    "\n",
    "# Print the results\n",
    "print(f\"Optimal threshold: {problem2_optimal_threshold}\")\n",
    "print(f\"Cost at optimal threshold: {problem2_cost_at_optimal_threshold}\")\n"
   ]
  },
  {
   "cell_type": "code",
   "execution_count": 102,
   "id": "47f89472",
   "metadata": {
    "deletable": false,
    "lx_assignment_number": "vB",
    "lx_assignment_type": "EXAM",
    "lx_assignment_type2print": "Exam",
    "lx_problem_cell_type": "PROBLEM",
    "lx_problem_number": "2",
    "lx_problem_points": "13"
   },
   "outputs": [
    {
     "name": "stdout",
     "output_type": "stream",
     "text": [
      "Cost at optimal threshold (validation data): 5.698924731182796\n",
      "Cost confidence interval (99%): (0, 56.33193719889502)\n"
     ]
    }
   ],
   "source": [
    "# Part 4\n",
    "import math\n",
    "\n",
    "# Compute the cost on the validation data\n",
    "problem2_cost_at_optimal_threshold_validation = problem2_cost(\n",
    "    problem2_pipe, problem2_optimal_threshold, problem2_X_val, problem2_Y_val\n",
    ")\n",
    "\n",
    "# Number of validation samples\n",
    "n_val = len(problem2_Y_val)\n",
    "\n",
    "# Hoeffding's inequality parameters\n",
    "b = 300  # Maximum cost per individual\n",
    "a = 0    # Minimum cost per individual\n",
    "alpha = 0.01  # 99% confidence\n",
    "\n",
    "# Compute epsilon using Hoeffding's inequality\n",
    "epsilon = math.sqrt(((b - a) ** 2 * math.log(2 / alpha)) / (2 * n_val))\n",
    "\n",
    "# Confidence interval for the cost\n",
    "lower_bound = max(0, problem2_cost_at_optimal_threshold_validation - epsilon)\n",
    "upper_bound = problem2_cost_at_optimal_threshold_validation + epsilon\n",
    "\n",
    "problem2_cost_interval = (lower_bound, upper_bound)\n",
    "\n",
    "# Print the results\n",
    "print(f\"Cost at optimal threshold (validation data): {problem2_cost_at_optimal_threshold_validation}\")\n",
    "print(f\"Cost confidence interval (99%): {problem2_cost_interval}\")\n",
    "\n",
    "# The code below will tell you if you filled in the intervals correctly\n",
    "assert(type(problem2_cost_interval) == tuple)\n",
    "assert(len(problem2_cost_interval) == 2)"
   ]
  },
  {
   "cell_type": "markdown",
   "id": "86290080",
   "metadata": {
    "deletable": false,
    "lx_assignment_number": "vB",
    "lx_assignment_type": "EXAM",
    "lx_assignment_type2print": "Exam",
    "lx_problem_cell_type": "PROBLEM",
    "lx_problem_number": "3",
    "lx_problem_points": "13"
   },
   "source": [
    "---\n",
    "## Exam vB, PROBLEM 3\n",
    "Maximum Points = 13"
   ]
  },
  {
   "attachments": {},
   "cell_type": "markdown",
   "id": "7366eedf",
   "metadata": {
    "deletable": false,
    "lx_assignment_number": "vB",
    "lx_assignment_type": "EXAM",
    "lx_assignment_type2print": "Exam",
    "lx_problem_cell_type": "PROBLEM",
    "lx_problem_number": "3",
    "lx_problem_points": "13"
   },
   "source": [
    "\n",
    "Consider the following two Markov chains:\n",
    "\n",
    "<img width=\"400px\" src=\"pictures/MarkovA.png\">Markov chain A</img>\n",
    "<img width=\"400px\" src=\"pictures/MarkovB.png\">Markov chain B</img>\n",
    "\n",
    "**Answer each question for all chains:**\n",
    "1. [2p] What is the transition matrix?\n",
    "2. [1p] Is the Markov chain irreducible?\n",
    "3. [4p] Is the Markov chain aperiodic? What is the period for each state? Hint: Recall our definition of period; Let $\\mathbb{T}:=\\{t \\in \\mathbb{N}: P^t(x,x) > 0\\}$ and the greatest common divisor of $\\mathbb{T}$ is the period.\n",
    "4. [2p] Being in state $A$ at time $0$ what is the probability of being in state $B$ at time $5$ (after $5$ steps)\n",
    "5. [4p] Define $T$ as the first time being in state $D$ starting in state $A$. That is, if $X_0,X_1,\\ldots$ is the Markov chain then define for $X_0 = \"A\"$\n",
    "$$\n",
    "    T(\\omega) = \\inf_{t \\in \\mathbb{N}} \\{t: X_t(\\omega) = \"D\"\\}\n",
    "$$\n",
    "where the infimum over the empty set is $\\infty$. Calculate $\\mathbb{P}(T = 1)$, $\\mathbb{P}(T = 2)$, $\\mathbb{P}(T = 3)$, $\\mathbb{P}(T = 4)$, $\\mathbb{P}(T = 5)$, $\\mathbb{P}(T = \\infty)$."
   ]
  },
  {
   "cell_type": "markdown",
   "id": "5859721f",
   "metadata": {},
   "source": [
    "### Answers for the given Markov chains:\n",
    "\n",
    "#### **1. Transition Matrices**\n",
    "Let the states for Markov Chain A be \\(A, B, C, D\\), and for Markov Chain B be \\(A, B, C, D, E, F\\).\n",
    "\n",
    "**Markov Chain A Transition Matrix:**\n",
    "\n",
    "From the diagram:\n",
    "\\[\n",
    "P_A =\n",
    "\\begin{bmatrix}\n",
    "0.8 & 0.2 & 0 & 0 \\\\\n",
    "0 & 0 & 1 & 0 \\\\\n",
    "0 & 0 & 0 & 1 \\\\\n",
    "0.5 & 0 & 0 & 0.5\n",
    "\\end{bmatrix}\n",
    "\\]\n",
    "\n",
    "Here:\n",
    "- Row 1 represents state \\(A\\): \\(P(A \\to A) = 0.8, P(A \\to B) = 0.2\\).\n",
    "- Row 2 represents state \\(B\\): \\(P(B \\to C) = 1\\).\n",
    "- Row 3 represents state \\(C\\): \\(P(C \\to D) = 1\\).\n",
    "- Row 4 represents state \\(D\\): \\(P(D \\to A) = 0.5, P(D \\to D) = 0.5\\).\n",
    "\n",
    "---\n",
    "\n",
    "**Markov Chain B Transition Matrix:**\n",
    "\n",
    "From the diagram:\n",
    "\\[\n",
    "P_B =\n",
    "\\begin{bmatrix}\n",
    "0 & 1 & 0 & 0 & 0 & 0 \\\\\n",
    "0 & 0 & 1 & 0 & 0 & 0 \\\\\n",
    "0 & 0.5 & 0 & 0.5 & 0 & 0 \\\\\n",
    "0 & 0 & 0.5 & 0 & 0.5 & 0 \\\\\n",
    "0 & 0 & 0 & 0.5 & 0 & 0.5 \\\\\n",
    "0.5 & 0 & 0 & 0 & 0.5 & 0\n",
    "\\end{bmatrix}\n",
    "\\]\n",
    "\n",
    "Here:\n",
    "- Row 1 represents state \\(A\\): \\(P(A \\to B) = 1\\).\n",
    "- Row 2 represents state \\(B\\): \\(P(B \\to C) = 1\\).\n",
    "- Row 3 represents state \\(C\\): \\(P(C \\to B) = 0.5, P(C \\to D) = 0.5\\).\n",
    "- Row 4 represents state \\(D\\): \\(P(D \\to C) = 0.5, P(D \\to E) = 0.5\\).\n",
    "- Row 5 represents state \\(E\\): \\(P(E \\to D) = 0.5, P(E \\to F) = 0.5\\).\n",
    "- Row 6 represents state \\(F\\): \\(P(F \\to A) = 0.5, P(F \\to E) = 0.5\\).\n",
    "\n",
    "---\n",
    "\n",
    "#### **2. Is the Markov Chain Irreducible?**\n",
    "\n",
    "- **Markov Chain A**: Not irreducible.\n",
    "  - The states \\(A, B, C, D\\) are not all reachable from each other. For example, from \\(C\\), you cannot reach \\(A\\).\n",
    "\n",
    "- **Markov Chain B**: Irreducible.\n",
    "  - All states \\(A, B, C, D, E, F\\) can be reached from any other state.\n",
    "\n",
    "---\n",
    "\n",
    "#### **3. Is the Markov Chain Aperiodic? What is the period for each state?**\n",
    "\n",
    "**Markov Chain A**:\n",
    "- **Not aperiodic**.\n",
    "- **Period**:\n",
    "  - \\(A, D\\): Period = 2. From \\(A\\), it can return to itself in 2 steps (\\(A \\to D \\to A\\)).\n",
    "  - \\(B, C\\): Period = 1. \\(B \\to C\\) and \\(C \\to D\\) have no cycles.\n",
    "\n",
    "---\n",
    "\n",
    "**Markov Chain B**:\n",
    "- **Not aperiodic**.\n",
    "- **Period**:\n",
    "  - All states \\(A, B, C, D, E, F\\) have a period of 3, as the transitions form a cycle of length 3 (\\(A \\to B \\to C \\to A\\))."
   ]
  },
  {
   "cell_type": "code",
   "execution_count": null,
   "id": "8c0acff3",
   "metadata": {
    "deletable": false,
    "lx_assignment_number": "vB",
    "lx_assignment_type": "EXAM",
    "lx_assignment_type2print": "Exam",
    "lx_problem_cell_type": "PROBLEM",
    "lx_problem_number": "3",
    "lx_problem_points": "13"
   },
   "outputs": [],
   "source": [
    "# PART 1\n",
    "\n",
    "#------------------------TRANSITION MATRIX -------------------------------\n",
    "# Answer each one by supplying the transition matrix as a numpy array\n",
    "# of shape (n_states,n_states), where state (A,B,...) corresponds to index (0,1,...)\n",
    "\n",
    "problem3_A    = XXX\n",
    "problem3_B    = XXX"
   ]
  },
  {
   "cell_type": "code",
   "execution_count": null,
   "id": "08a9d129",
   "metadata": {
    "deletable": false,
    "lx_assignment_number": "vB",
    "lx_assignment_type": "EXAM",
    "lx_assignment_type2print": "Exam",
    "lx_problem_cell_type": "PROBLEM",
    "lx_problem_number": "3",
    "lx_problem_points": "13"
   },
   "outputs": [],
   "source": [
    "# PART 2\n",
    "#------------------------REDUCIBLE -------------------------------\n",
    "# Answer each one with a True or False\n",
    "\n",
    "problem3_A_irreducible = XXX\n",
    "problem3_B_irreducible = XXX\n"
   ]
  },
  {
   "cell_type": "code",
   "execution_count": null,
   "id": "34a8140d",
   "metadata": {
    "deletable": false,
    "lx_assignment_number": "vB",
    "lx_assignment_type": "EXAM",
    "lx_assignment_type2print": "Exam",
    "lx_problem_cell_type": "PROBLEM",
    "lx_problem_number": "3",
    "lx_problem_points": "13"
   },
   "outputs": [],
   "source": [
    "# PART 3\n",
    "#------------------------APERIODIC-------------------------------\n",
    "# Answer each one with a True or False\n",
    "\n",
    "problem3_A_is_aperiodic = XXX\n",
    "problem3_B_is_aperiodic = XXX\n",
    "\n",
    "# Answer the following with the period of the states as a numpy array\n",
    "# of shape (n_states,)\n",
    "\n",
    "problem3_A_periods = XXX\n",
    "problem3_B_periods = XXX\n"
   ]
  },
  {
   "cell_type": "code",
   "execution_count": 1,
   "id": "fa11b554",
   "metadata": {
    "deletable": false,
    "lx_assignment_number": "vB",
    "lx_assignment_type": "EXAM",
    "lx_assignment_type2print": "Exam",
    "lx_problem_cell_type": "PROBLEM",
    "lx_problem_number": "3",
    "lx_problem_points": "13"
   },
   "outputs": [],
   "source": [
    "# PART 4\n",
    "# ignore \n",
    "# Answer the following with the probability of being in state B at time 5 for the two problems\n",
    "import numpy as np\n",
    "\n",
    "# Transition matrices\n",
    "P_A = np.array([\n",
    "    [0.8, 0.2, 0, 0],\n",
    "    [0, 0, 1, 0],\n",
    "    [0, 0, 0, 1],\n",
    "    [0.5, 0, 0, 0.5]\n",
    "])\n",
    "\n",
    "P_B = np.array([\n",
    "    [0, 1, 0, 0, 0, 0],\n",
    "    [0, 0, 1, 0, 0, 0],\n",
    "    [0, 0.5, 0, 0.5, 0, 0],\n",
    "    [0, 0, 0.5, 0, 0.5, 0],\n",
    "    [0, 0, 0, 0.5, 0, 0.5],\n",
    "    [0.5, 0, 0, 0, 0.5, 0]\n",
    "])\n",
    "\n",
    "# Compute P_A^5 and P_B^5\n",
    "P_A_5 = np.linalg.matrix_power(P_A, 5)\n",
    "P_B_5 = np.linalg.matrix_power(P_B, 5)\n",
    "\n",
    "# Probabilities of being in state B at time 5\n",
    "problem3_A_PB5 = P_A_5[0, 1]\n",
    "problem3_B_PB5 = P_B_5[0, 1]\n"
   ]
  },
  {
   "cell_type": "code",
   "execution_count": 8,
   "id": "0868ce80",
   "metadata": {},
   "outputs": [
    {
     "name": "stdout",
     "output_type": "stream",
     "text": [
      "Probability of being in state 2 at time 5: 0.8720000000000001\n",
      "Probability of being in state B at time 5: 0.375\n"
     ]
    }
   ],
   "source": [
    "import numpy as np\n",
    "# that is the correct \n",
    "\n",
    "# Define the transition matrix P\n",
    "P = np.array([\n",
    "    [0, 0.2, 0, 0.8],\n",
    "    [0, 0, 1, 0],\n",
    "    [0, 1, 0, 0],\n",
    "    [0.5, 0, 0.5, 0]\n",
    "])\n",
    "\n",
    "# Define the initial state vector (starting in state 1)\n",
    "v_0 = np.array([1, 0, 0, 0])\n",
    "\n",
    "# Compute P^5 by multiplying the matrix by itself 5 times\n",
    "P_5 = np.linalg.matrix_power(P, 5)\n",
    "\n",
    "# Compute the state distribution at time 5\n",
    "v_5 = np.dot(v_0, P_5)\n",
    "\n",
    "# The probability of being in state 2 at time 5 is the second element of v_5\n",
    "prob_state_2 = v_5[1]\n",
    "\n",
    "# Print the result\n",
    "print(f\"Probability of being in state 2 at time 5: {prob_state_2}\")\n",
    "\n",
    "import numpy as np\n",
    "\n",
    "# Transition matrix (example for a Markov chain with 6 states: A, B, C, D, E, F)\n",
    "P = np.array([[0, 1, 0, 0, 0, 0],  # A -> B\n",
    "              [0, 0, 1, 0, 0, 0],  # B -> C\n",
    "              [0, 0.5, 0, 0.5, 0, 0],  # C -> B or D\n",
    "              [0, 0, 0.5, 0, 0.5, 0],  # D -> C or E\n",
    "              [0, 0, 0, 0, 0, 1],  # E -> F\n",
    "              [0.5, 0, 0, 0, 0, 0.5]])  # F -> A or F\n",
    "\n",
    "# Initial state (starting in state A)\n",
    "initial_state = np.array([1, 0, 0, 0, 0, 0])  # State A corresponds to [1, 0, 0, 0, 0, 0]\n",
    "\n",
    "# Multiply the transition matrix for 5 steps\n",
    "state_after_5_steps = initial_state.dot(np.linalg.matrix_power(P, 5))\n",
    "\n",
    "# The probability of being in state B at time 5 is the second element of the resulting vector\n",
    "P_B_at_time_5 = state_after_5_steps[1]  # Index 1 corresponds to state B\n",
    "\n",
    "print(f\"Probability of being in state B at time 5: {P_B_at_time_5}\")\n",
    "\n"
   ]
  },
  {
   "cell_type": "code",
   "execution_count": 4,
   "id": "76d582c4",
   "metadata": {
    "deletable": false,
    "lx_assignment_number": "vB",
    "lx_assignment_type": "EXAM",
    "lx_assignment_type2print": "Exam",
    "lx_problem_cell_type": "PROBLEM",
    "lx_problem_number": "3",
    "lx_problem_points": "13"
   },
   "outputs": [
    {
     "name": "stdout",
     "output_type": "stream",
     "text": [
      "0.8\n",
      "P(T=1): 0.0\n",
      "P(T=2): 0.0\n",
      "P(T=3): 0.5\n",
      "P(T=4): 0.0\n",
      "P(T=5): 0.5\n",
      "P(T=infinity): 0.0\n"
     ]
    }
   ],
   "source": [
    "# PART 5\n",
    "\n",
    "# Answer the following probabilities for T=1,2,3,4,5 and infinity\n",
    "problem3_A_PT1 = P_A[0, 3]\n",
    "problem3_A_PT2 = P_A[0, 1] * P_A[1, 3]\n",
    "problem3_A_PT3 = P_A[0, 1] * P_A[1, 2] * P_A[2, 3]\n",
    "problem3_A_PT4 = P_A[0, 3] * P_A[3, 0] * P_A[0, 3]\n",
    "problem3_A_PT5 = P_A[0, 3] * P_A[3, 0] * P_A[0, 1] * P_A[1, 3]\n",
    "\n",
    "# Compute P(T=infinity)\n",
    "problem3_A_PT_inf = 1 - (problem3_A_PT1 + problem3_A_PT2 + problem3_A_PT3 + problem3_A_PT4 + problem3_A_PT5)\n",
    "print(problem3_A_PT_inf)\n",
    "import numpy as np\n",
    "\n",
    "# Transition matrix\n",
    "P_B = np.array([\n",
    "    [0, 1, 0, 0, 0, 0],\n",
    "    [0, 0, 1, 0, 0, 0],\n",
    "    [0, 0.5, 0, 0.5, 0, 0],\n",
    "    [0, 0, 0.5, 0, 0.5, 0],\n",
    "    [0, 0, 0, 0.5, 0, 0.5],\n",
    "    [0.5, 0, 0, 0, 0.5, 0]\n",
    "])\n",
    "\n",
    "# Initial probabilities\n",
    "start_state = 0  # Starting at state A\n",
    "\n",
    "# Calculate P(T=t) for t = 1, 2, 3, ...\n",
    "T_probs = []\n",
    "current_state = np.zeros(P_B.shape[0])\n",
    "current_state[start_state] = 1\n",
    "\n",
    "for t in range(1, 6):  # Up to T=5\n",
    "    next_state = np.dot(current_state, P_B)\n",
    "    T_probs.append(next_state[3])  # Probability of reaching state D\n",
    "    current_state = next_state.copy()\n",
    "\n",
    "# Probability of never reaching D\n",
    "P_T_infinity = 1 - sum(T_probs)\n",
    "\n",
    "# Output results\n",
    "print(f\"P(T=1): {T_probs[0]}\")\n",
    "print(f\"P(T=2): {T_probs[1]}\")\n",
    "print(f\"P(T=3): {T_probs[2]}\")\n",
    "print(f\"P(T=4): {T_probs[3]}\")\n",
    "print(f\"P(T=5): {T_probs[4]}\")\n",
    "print(f\"P(T=infinity): {P_T_infinity}\")"
   ]
  },
  {
   "cell_type": "code",
   "execution_count": 9,
   "id": "efb87ac5",
   "metadata": {},
   "outputs": [
    {
     "name": "stdout",
     "output_type": "stream",
     "text": [
      "P(T=1): 0.0000\n",
      "P(T=2): 0.0000\n",
      "P(T=3): 0.5000\n",
      "P(T=4): 0.0000\n",
      "P(T=5): 0.3750\n",
      "P(T=infinity): 0.1250\n"
     ]
    }
   ],
   "source": [
    "import numpy as np\n",
    "\n",
    "# Define the transition matrix\n",
    "P = np.array([[0, 1, 0, 0, 0, 0],\n",
    "              [0, 0, 1, 0, 0, 0],\n",
    "              [0, 0.5, 0, 0.5, 0, 0],\n",
    "              [0, 0, 0.5, 0, 0.5, 0],\n",
    "              [0, 0, 0, 0, 0, 1],\n",
    "              [0.5, 0, 0, 0, 0, 0.5]])\n",
    "\n",
    "# Starting state is 'A' (state 0 in 0-indexed Python)\n",
    "start_state = 0\n",
    "\n",
    "# Define a function to calculate the first time hitting state 'D' (state 3)\n",
    "def calculate_probabilities(P, start_state, target_state=3, steps=5):\n",
    "    # Initialize probability list for T=1, 2, 3, 4, 5\n",
    "    T_probs = [0] * (steps + 1)\n",
    "    \n",
    "    # State distribution starting at start_state\n",
    "    current_state = np.zeros(P.shape[0])\n",
    "    current_state[start_state] = 1\n",
    "    \n",
    "    # Calculate the probability of reaching target_state (D) at each time step\n",
    "    for t in range(1, steps + 1):\n",
    "        next_state = np.dot(current_state, P)\n",
    "        \n",
    "        # Probability of reaching target state (D) at time t\n",
    "        T_probs[t] = next_state[target_state]\n",
    "        \n",
    "        # Update the current state\n",
    "        current_state = next_state.copy()\n",
    "\n",
    "    # Probability of never reaching target state (D)\n",
    "    P_T_infinity = 1 - sum(T_probs)\n",
    "    \n",
    "    # Print results\n",
    "    for t in range(1, steps + 1):\n",
    "        print(f\"P(T={t}): {T_probs[t]:.4f}\")\n",
    "    print(f\"P(T=infinity): {P_T_infinity:.4f}\")\n",
    "\n",
    "# Call the function with 5 steps\n",
    "calculate_probabilities(P, start_state, steps=5)\n"
   ]
  }
 ],
 "metadata": {
  "kernelspec": {
   "display_name": "base",
   "language": "python",
   "name": "python3"
  },
  "language_info": {
   "codemirror_mode": {
    "name": "ipython",
    "version": 3
   },
   "file_extension": ".py",
   "mimetype": "text/x-python",
   "name": "python",
   "nbconvert_exporter": "python",
   "pygments_lexer": "ipython3",
   "version": "3.9.12"
  },
  "lx_assignment_number": "vB",
  "lx_course_instance": "2024",
  "lx_course_name": "Introduction to Data Science",
  "lx_course_number": "1MS041"
 },
 "nbformat": 4,
 "nbformat_minor": 5
}
